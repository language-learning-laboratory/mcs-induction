{
 "cells": [
  {
   "cell_type": "code",
   "execution_count": 1,
   "metadata": {},
   "outputs": [],
   "source": [
    "import math\n",
    "from queue import PriorityQueue"
   ]
  },
  {
   "cell_type": "markdown",
   "metadata": {},
   "source": [
    "# Grammar Interface"
   ]
  },
  {
   "cell_type": "code",
   "execution_count": 25,
   "metadata": {},
   "outputs": [],
   "source": [
    "\n",
    "class GrammarInterface:\n",
    "    def __init__(self, state, category, epsilon, has_epsilon = False):\n",
    "        self.startstate = state\n",
    "        self.startcategory = category\n",
    "        self.epsilon = epsilon\n",
    "        self.has_epsilon = has_epsilon\n",
    "\n",
    "    def is_possible_transition(self, state, category):\n",
    "        #should return bool representing whether a transition is possible\n",
    "        pass\n",
    "\n",
    "    def transition(self, state, category):\n",
    "        #should return new state incorporating the previous state + the category\n",
    "        pass\n",
    "\n",
    "    def completions(self, state):\n",
    "        # should return a a list of all (category, rule, score) that result in the completion of state\n",
    "        pass\n",
    "\n",
    "class PCFG(GrammarInterface):\n",
    "    def __init__(self):\n",
    "        pass\n"
   ]
  },
  {
   "cell_type": "markdown",
   "metadata": {},
   "source": [
    "### Interface Types"
   ]
  },
  {
   "cell_type": "code",
   "execution_count": 7,
   "metadata": {},
   "outputs": [],
   "source": [
    "class Traversal:\n",
    "    def __init__(self, completeitemID, partialitemID, score, inloop=False):\n",
    "        self.completeitemID = completeitemID\n",
    "        self.partialitemID = partialitemID\n",
    "        self.score = score\n",
    "        self.inloop = inloop\n",
    "\n",
    "class Completion:\n",
    "    def __init__(self, score):\n",
    "        pass\n",
    "\n",
    "class NonterminalCompletion(Completion):\n",
    "    def __init__(self, completeitemID, rule, score, inloop=False):\n",
    "        self.score = score\n",
    "        self.completeitemID = completeitemID\n",
    "        self.rule = rule\n",
    "        self.inloop = inloop\n",
    "\n",
    "class TerminalCompletion(Completion):\n",
    "    def __init__(self, terminal, rule, score):\n",
    "        self.score = score\n",
    "        self.terminal = terminal\n",
    "        self.rule = rule\n"
   ]
  },
  {
   "cell_type": "markdown",
   "metadata": {},
   "source": [
    "# Parser Classes"
   ]
  },
  {
   "cell_type": "markdown",
   "metadata": {},
   "source": [
    "### Logbook"
   ]
  },
  {
   "cell_type": "code",
   "execution_count": 2,
   "metadata": {},
   "outputs": [],
   "source": [
    "class ParserLogBook:\n",
    "    def __init__(self):\n",
    "        self.partialitems = list()\n",
    "        self.completeitems = list()\n",
    "        self.partialitemkeys = dict()\n",
    "        self.completeitemkeys = dict()\n",
    "\n",
    "    def __contains__(self, key):\n",
    "        return key.is_in_logbook(self)\n",
    "\n",
    "    def get_atkey(self, key):\n",
    "        return key[self]\n",
    "\n",
    "    def get_partialitem(self, id):\n",
    "        return self.partialitems[(id-1)]\n",
    "\n",
    "    def get_completeitem(self, id):\n",
    "        return self.completeitems[((-id)-1)]\n",
    "\n",
    "    def __getitem__(self, id):\n",
    "        if id <= 0:\n",
    "            return self.get_partialitem(id)\n",
    "        else:\n",
    "            return self.get_completeitem(id)\n",
    "\n",
    "    def discover_item(self, item):\n",
    "        item.discover_item(self)"
   ]
  },
  {
   "cell_type": "markdown",
   "metadata": {},
   "source": [
    "### Chart"
   ]
  },
  {
   "cell_type": "code",
   "execution_count": 3,
   "metadata": {},
   "outputs": [],
   "source": [
    "class ChartCell:\n",
    "    def __init__(self):\n",
    "        # keys = state\n",
    "        self.completeitems = dict()\n",
    "        # keys = category\n",
    "        self.partialitems = dict()\n",
    "\n",
    "class Chart:\n",
    "    def __init__(self):\n",
    "        self.cells = list()\n",
    "\n",
    "\n",
    "    def insert(self, item):\n",
    "        item.insert(self)"
   ]
  },
  {
   "cell_type": "markdown",
   "metadata": {},
   "source": [
    "### Agenda"
   ]
  },
  {
   "cell_type": "code",
   "execution_count": 4,
   "metadata": {},
   "outputs": [],
   "source": [
    "class Agenda:\n",
    "    def __init__(self):\n",
    "        pqueue = PriorityQueue()\n",
    "\n",
    "    def enqueue(self, item):\n",
    "        self.pqueue.put(item.priority())\n",
    "\n",
    "    def dequeue(self):\n",
    "        return self.pqueue.get()[1]\n",
    "\n",
    "    def __bool__(self):\n",
    "        return (not self.pqueue.empty())"
   ]
  },
  {
   "cell_type": "markdown",
   "metadata": {},
   "source": [
    "### Item Key\n",
    "#### Partial Item Key (edge key)"
   ]
  },
  {
   "cell_type": "code",
   "execution_count": 8,
   "metadata": {},
   "outputs": [],
   "source": [
    "class PartialItemKey:\n",
    "    def __init__(self, start, end, state):\n",
    "        self.start = start\n",
    "        self.end = end\n",
    "        self.state = state\n",
    "\n",
    "    # def __hash__(self):\n",
    "    #     return hash((self.start, hash(self.end, hash(self.category)))\n",
    "\n",
    "    def is_in_logbook(self, logbook:ParserLogBook):\n",
    "        return (self in logbook.partialitemkeys)\n",
    "\n",
    "    def __getitem__(self, logbook:ParserLogBook):\n",
    "            return logbook.get_partialitem[logbook.partialitemkeys[self]]\n",
    "\n",
    "    def update(self, traversal: Traversal, logbook:ParserLogBook, agenda: Agenda):\n",
    "        if self in logbook:\n",
    "            partialitem = logbook.get_atkey(self)\n",
    "            partialitem.add(traversal)\n",
    "        else:\n",
    "            partialitem = PartialItem(self, [traversal], 0, traversal.score, (traversal.score - traversal.score))\n",
    "            logbook.discover_item(partialitem)\n",
    "        agenda.enqueue(partialitem)\n"
   ]
  },
  {
   "cell_type": "markdown",
   "metadata": {},
   "source": [
    "#### Complete Item Key (constituent key)"
   ]
  },
  {
   "cell_type": "code",
   "execution_count": 9,
   "metadata": {},
   "outputs": [],
   "source": [
    "class CompleteItemKey:\n",
    "    def __init__(self, start, end, category):\n",
    "        self.start = start\n",
    "        self.end = end\n",
    "        self.category = category\n",
    "\n",
    "    def __eq__(self, other):\n",
    "        return (self.start == other.start and self.end == other.end and self.category == other.category)\n",
    "\n",
    "    def is_in_logbook(self, logbook:ParserLogBook):\n",
    "        return (self in logbook.completeitemkeys)\n",
    "\n",
    "    def __getitem__(self, logbook:ParserLogBook):\n",
    "            return logbook.get_completeitem[logbook.completeitemkeys[self]]\n",
    "\n",
    "    def update(self, completion: NonterminalCompletion, logbook:ParserLogBook, agenda: Agenda):\n",
    "        if self in logbook:\n",
    "            completeitem = logbook.get_atkey(self)\n",
    "            completeitem.add(completion)\n",
    "        else:\n",
    "            completeitem = CompleteItem(self, [completion], 0, completion.score, (completion.score - completion.score))\n",
    "            logbook.discover_item(completeitem)\n",
    "        agenda.enqueue(completeitem)\n"
   ]
  },
  {
   "cell_type": "markdown",
   "metadata": {},
   "source": [
    "### Item"
   ]
  },
  {
   "cell_type": "code",
   "execution_count": 16,
   "metadata": {},
   "outputs": [],
   "source": [
    "class Item:\n",
    "    def __init__(self, id: int, score, lastpopscore):\n",
    "        self.id = id\n",
    "        self.score = score\n",
    "        self.lastpopscore = lastpopscore\n",
    "\n",
    "    def no_noteworthy_inside_score_change_since_its_last_dequeue(self):\n",
    "        return math.isclose(self.score, self.lastpopscore)"
   ]
  },
  {
   "cell_type": "markdown",
   "metadata": {},
   "source": [
    "#### Partial Item (edge)"
   ]
  },
  {
   "cell_type": "code",
   "execution_count": 18,
   "metadata": {},
   "outputs": [],
   "source": [
    "class PartialItem(Item):\n",
    "    def __init__(self, key: PartialItemKey, traversals, id, score, lastpopscore):\n",
    "        Item.__init__(self, id, score, lastpopscore)\n",
    "        self.key = key\n",
    "        self.start = key.start\n",
    "        self.end = key.end\n",
    "        self.state = key.state\n",
    "        #List of Traversal type\n",
    "        self.traversals = traversals\n",
    "        self.isfinished = False\n",
    "\n",
    "    def __len__(self):\n",
    "        return (self.end - self.start)\n",
    "\n",
    "    def add(self, traversal: Traversal):\n",
    "        for trav in self.traversals:\n",
    "            if trav.partialitemID == traversal.partialitemID and trav.completelitemID == traversal.completeitemID:\n",
    "                trav.inloop = True\n",
    "                return\n",
    "        self.traversals.append(traversal)\n",
    "        self.score += traversal.score\n",
    "\n",
    "# for logbook\n",
    "    def discover_item(self, logbook: ParserLogBook):\n",
    "        logbook.partialitems.append(self)\n",
    "        id = len(logbook.partialitems)\n",
    "        logbook.partialitemkeys[self.key] = id\n",
    "        self.id = id\n",
    "\n",
    "# for chart\n",
    "    def partialitem_ids(self, chart:Chart):\n",
    "        return chart.cells[self.end].partialitems\n",
    "\n",
    "    def completeitem_ids(self, chart: Chart):\n",
    "        return chart.cells[self.end].completeitems\n",
    "\n",
    "    def insert(self, chart: Chart):\n",
    "        d = self.partialitem_ids(chart)\n",
    "        if self.state in d :\n",
    "            if not d.contains(self.id):\n",
    "                chart.cells[self.end].partialitems[self.state].append(self.id)\n",
    "        else:\n",
    "            chart.cells[self.end].partialitems[self.state] = [self.id]\n",
    "\n",
    "# for agenda\n",
    "    def priority(self):\n",
    "        p = 2 * self.len() - 1\n",
    "        return (p, self.id)\n",
    "\n",
    "# for fundamental rule\n",
    "    def fundamental_rule(self, chart: Chart, agenda: Agenda, logbook: ParserLogBook, grammar: GrammarInterface):\n",
    "        for category in self.completeitem_ids(chart):\n",
    "            if grammar.is_possible_transition(self.state, category):\n",
    "                for id in self.completeitem_ids(chart)[category]:\n",
    "                    completeitem = logbook[id]\n",
    "                    nstate = grammar.transition(self.state, category)\n",
    "                    nkey = PartialItemKey(self.start, completeitem.end, nstate)\n",
    "                    traversal = Traversal(self.id, id, self.score * completeitem.score)\n",
    "                    nkey.update(traversal, logbook, agenda)\n",
    "\n",
    "\n",
    "# for inference rule\n",
    "    def complete_partialitem(self, agenda, logbook, grammar):\n",
    "        for category, rule, score in grammar.completions(self.state):\n",
    "            key = CompleteItemKey(self.start, self.end, category)\n",
    "            completion = NonterminalCompletion(self.id, rule, self.score * score)\n",
    "            key.update(completion, logbook, agenda)\n",
    "\n",
    "    def inference_rule(self, agenda: Agenda, logbook: ParserLogBook, grammar: GrammarInterface):\n",
    "        self.complete_partialitem(agenda, logbook, grammar)"
   ]
  },
  {
   "cell_type": "markdown",
   "metadata": {},
   "source": [
    "#### Complete Item (Constituent)"
   ]
  },
  {
   "cell_type": "code",
   "execution_count": 21,
   "metadata": {},
   "outputs": [],
   "source": [
    "class CompleteItem(Item):\n",
    "    def __init__(self, key:CompleteItemKey, completions, id, score, lastpopscore):\n",
    "        Item.__init__(self, id, score, lastpopscore)\n",
    "        self.start = key.start\n",
    "        self.end = key.end\n",
    "        self.category = key.category\n",
    "        self.key = key\n",
    "        self.completions = completions\n",
    "        self.isfinished = False\n",
    "\n",
    "    def __len__(self):\n",
    "        return (self.end - self.start)\n",
    "\n",
    "    def add(self, completion: NonterminalCompletion):\n",
    "        for comp in self.completions:\n",
    "            if comp.completeitemID == completion.completeitemID:\n",
    "                comp.inloop = True\n",
    "                return completion\n",
    "        self.completions.append(completion)\n",
    "        self.score += completion.score\n",
    "        return completion\n",
    "\n",
    "# for logbook\n",
    "    def discover_item(self, logbook: ParserLogBook):\n",
    "        logbook.completeitems.append(self)\n",
    "        id = -(len(logbook.completeitems))\n",
    "        logbook.completeitemkeys[self.key] = id\n",
    "        self.id = id\n",
    "\n",
    "# for chart\n",
    "    def completeitem_ids(self, chart:Chart):\n",
    "        return chart.cells[self.start].completeitems\n",
    "\n",
    "    def partialitem_ids(self, chart:Chart):\n",
    "        return chart.cells[self.start].partialitems\n",
    "\n",
    "    def insert(self, chart: Chart):\n",
    "        d = self.completeitem_ids(chart)\n",
    "        if self.category in d :\n",
    "            if not d.contains(self.id):\n",
    "                chart.cells[self.start].completeitems[self.category].append(self.id)\n",
    "        else:\n",
    "            chart.cells[self.start].completeitems[self.category] = [self.id]\n",
    "\n",
    "# for agenda\n",
    "    def priority(self):\n",
    "        p = 2 * self.len()\n",
    "        return (p, self.id)\n",
    "\n",
    "# for fundamental rule\n",
    "    def fundamental_rule(self, chart: Chart, agenda: Agenda, logbook: ParserLogBook, grammar: GrammarInterface):\n",
    "        for state in self.partialitem_ids(chart):\n",
    "            if grammar.is_possible_transition(state, self.category):\n",
    "                for id in self.partialitem_ids(chart)[state]:\n",
    "                    partialitem = logbook[id]\n",
    "                    nstate = grammar.transition(state, self.category)\n",
    "                    nkey = PartialItemKey(partialitem.start, self.end, nstate)\n",
    "                    traversal = Traversal(id, self.id, partialitem.score * self.score)\n",
    "                    nkey.update(traversal, logbook, agenda)\n",
    "\n",
    "# for inference rule\n",
    "    def introduce_partialitem(self, agenda, logbook, grammar):\n",
    "        if grammar.is_possible_transition(grammar.startstate, self.category):\n",
    "            state = grammar.transition(grammar.startstate, self.category)\n",
    "            key = PartialItemKey(self.start, self.end, state)\n",
    "            traversal = Traversal(0, self.id, self.score)\n",
    "            key.update(traversal, logbook, agenda)\n",
    "\n",
    "    def inference_rule(self, agenda: Agenda, logbook: ParserLogBook, grammar: GrammarInterface):\n",
    "        self.introduce_partialitem(agenda, logbook, grammar)\n",
    "\n"
   ]
  },
  {
   "cell_type": "markdown",
   "metadata": {},
   "source": [
    "# Chart Parser"
   ]
  },
  {
   "cell_type": "code",
   "execution_count": 24,
   "metadata": {},
   "outputs": [],
   "source": [
    "def initialize(grammar, input):\n",
    "    n = len(input)\n",
    "    chart = Chart()\n",
    "    agenda = Agenda()\n",
    "    logbook = ParserLogBook()\n",
    "\n",
    "    for i in range(1, n):\n",
    "        for category, rule, score in grammar.completions(input[i]):\n",
    "            key = CompleteItemKey(i, i+1, category)\n",
    "            completion = TerminalCompletion(input[i], rule, score)\n",
    "            key.update(completion, logbook, agenda)\n",
    "        if grammar.has_epsilon:\n",
    "            for category, rule, score in grammar.completions(epsilon):\n",
    "                key = CompleteItemKey(i, i, category)\n",
    "                completion = TerminalCompletion(epsilon, rule, score)\n",
    "                key.update(completion, logbook, agenda)\n",
    "    return chart, agenda, logbook\n",
    "\n",
    "\n",
    "def process_item(item, chart, agenda, logbook, grammar):\n",
    "    if item.no_noteworthy_inside_score_change_since_its_last_dequeue():\n",
    "        chart.insert(item)\n",
    "        item.isfinished = True\n",
    "        item.fundamental_rule(chart, agenda, logbook, grammar)\n",
    "    else:\n",
    "        item.inference_rule(agenda, logbook, grammar)\n",
    "        item.lastpopscore = item.score\n",
    "        agenda.enqueue(item)\n",
    "\n",
    "\n",
    "def run_chartparser(grammar, input):\n",
    "    chart, agenda, logbook = initialize(grammar,input)\n",
    "    while agenda:\n",
    "        id = agenda.dequeue\n",
    "        process_item(logbook[id], chart, agenda, logbook, grammar)\n",
    "    return (chart, logbook)\n"
   ]
  },
  {
   "cell_type": "code",
   "execution_count": null,
   "metadata": {},
   "outputs": [],
   "source": []
  }
 ],
 "metadata": {
  "kernelspec": {
   "display_name": "Python 3",
   "language": "python",
   "name": "python3"
  },
  "language_info": {
   "codemirror_mode": {
    "name": "ipython",
    "version": 3
   },
   "file_extension": ".py",
   "mimetype": "text/x-python",
   "name": "python",
   "nbconvert_exporter": "python",
   "pygments_lexer": "ipython3",
   "version": "3.7.3"
  }
 },
 "nbformat": 4,
 "nbformat_minor": 2
}
