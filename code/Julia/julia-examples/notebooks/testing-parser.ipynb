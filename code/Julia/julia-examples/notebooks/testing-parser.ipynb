{
 "cells": [
  {
   "cell_type": "code",
   "execution_count": 1,
   "metadata": {},
   "outputs": [],
   "source": [
    "using DataStructures: PriorityQueue"
   ]
  },
  {
   "cell_type": "code",
   "execution_count": 2,
   "metadata": {},
   "outputs": [],
   "source": [
    "using LogProbs"
   ]
  },
  {
   "cell_type": "code",
   "execution_count": 31,
   "metadata": {},
   "outputs": [],
   "source": [
    "using StatsFuns.RFunctions: gammarand\n",
    "using StatsFuns: lbeta"
   ]
  },
  {
   "cell_type": "code",
   "execution_count": 4,
   "metadata": {},
   "outputs": [],
   "source": [
    "import Base: +, -, *, /, zero, one, <\n",
    "import Base: length, insert!, isempty, convert, getindex, promote_rule, range\n",
    "import DataStructures: enqueue!, dequeue!"
   ]
  },
  {
   "cell_type": "markdown",
   "metadata": {},
   "source": [
    "# Grammar (eg. PCFG)"
   ]
  },
  {
   "cell_type": "code",
   "execution_count": 28,
   "metadata": {},
   "outputs": [
    {
     "data": {
      "text/plain": [
       "add_rule! (generic function with 1 method)"
      ]
     },
     "execution_count": 28,
     "metadata": {},
     "output_type": "execute_result"
    }
   ],
   "source": [
    "################################\n",
    "### Conditional Distribution ###\n",
    "################################\n",
    "\n",
    "struct SimpleCond{C, D, S} # context, distribution, support\n",
    "    dists   :: Dict{C, D}\n",
    "    support :: S\n",
    "    SimpleCond(dists::Dict{C, D}, support::S) where {C, D, S} =\n",
    "        new{C, D, S}(dists, unique(support))\n",
    "end\n",
    "\n",
    "function SimpleCond(dists::AbstractDict)\n",
    "    SimpleCond(\n",
    "        dists,\n",
    "        vcat([collect(support(dist)) for dist in values(dists)]...)\n",
    "    )\n",
    "end\n",
    "\n",
    "sample(sc::SimpleCond, context, args...) = sample(sc.dists[context], args...)\n",
    "logscore(sc::SimpleCond, obs, context) = logscore(sc.dists[context], obs)\n",
    "rm_obs!(sc::SimpleCond, obs, context) = rm_obs!(sc.dists[context], obs)\n",
    "\n",
    "score_type(::SimpleCond) = LogProb\n",
    "\n",
    "function add_obs!(cond::SimpleCond{C,D,S}, obs, context) where {C,D,S}\n",
    "    if !haskey(cond.dists, context)\n",
    "        cond.dists[context] = D(cond.support)\n",
    "    end\n",
    "    add_obs!(cond.dists[context], obs)\n",
    "end\n",
    "\n",
    "#############################\n",
    "### Dirichlet Multinomial ###\n",
    "#############################\n",
    "\n",
    "abstract type Distribution{T} end\n",
    "\n",
    "mutable struct DirCat{T, C} <: Distribution{T}\n",
    "    counts :: Dict{T, C}\n",
    "end\n",
    "\n",
    "DirCat(support, priors) = DirCat(Dict(x => p for (x,p) in zip(support, priors)))\n",
    "support(dc::DirCat) = keys(dc.counts)\n",
    "\n",
    "function sample(dc::DirCat)\n",
    "    weights = [gammarand(c, 1) for c in values(dc.counts)]\n",
    "    categorical_sample(keys(dc.counts), weights)\n",
    "end\n",
    "\n",
    "function logscore(dc::DirCat, obs)\n",
    "    LogProb(lbeta(sum(values(dc.counts)), 1) - lbeta(dc.counts[obs], 1))\n",
    "end\n",
    "\n",
    "function add_obs!(dc::DirCat, obs)\n",
    "    dc.counts[obs] += 1\n",
    "end\n",
    "\n",
    "function rm_obs!(dc::DirCat, obs)\n",
    "    dc.counts[obs] -= 1\n",
    "end\n",
    "\n",
    "##############\n",
    "### CFRule ###\n",
    "##############\n",
    "\n",
    "mutable struct RunningCounter\n",
    "    n :: Int\n",
    "end\n",
    "\n",
    "RunningCounter() = RunningCounter(0)\n",
    "count!(c::RunningCounter) = c.n += 1\n",
    "\n",
    "rule_counter = RunningCounter()\n",
    "\n",
    "struct CFRule{LHS, RHS} # left hand side and right hand side of the rule\n",
    "    mappings ::Dict{LHS, Vector{RHS}}\n",
    "    name :: Symbol\n",
    "end\n",
    "\n",
    "==(r1::CFRule, r2::CFRule) = r1.name == r2.name\n",
    "hash(r::CFRule, h::UInt) = hash(hash(CFRule, hash(r.name)), h)\n",
    "\n",
    "Base.show(io::IO, r::CFRule) = print(io, \"CFRule($(r.name))\")\n",
    "\n",
    "CFRule(pairs::Pair...) =\n",
    "    CFRule(Dict(pairs...), Symbol(\"rule\", count!(rule_counter)))\n",
    "CFRule(g::Base.Generator) =\n",
    "    CFRule(Dict(g), Symbol(\"rule\", count!(rule_counter)))\n",
    "CFRule(f::Function, lhss, name) =\n",
    "    CFRule(Dict(lhs => f(lhs) for lhs in lhss), name)\n",
    "CFRule(f::Function, lhss) =\n",
    "    CFRule(Dict(lhs => f(lhs) for lhs in lhss), Symbol(\"rule\", count!(rule_counter)))\n",
    "\n",
    "lhss(r::CFRule) = keys(r.mappings) # aka domain\n",
    "isapplicable(r::CFRule, lhs) = haskey(r.mappings, lhs)\n",
    "(r::CFRule)(lhs) = r.mappings[lhs]\n",
    "\n",
    "###############\n",
    "### CFState ###\n",
    "###############\n",
    "\n",
    "mutable struct CompletionAutomaton{Cat,Comp} # category, completion\n",
    "    transitions :: Vector{Dict{Cat, Int}}\n",
    "    completions :: Vector{Vector{Comp}}\n",
    "end\n",
    "\n",
    "CompletionAutomaton(Cat::Type, Comp::Type) =\n",
    "    CompletionAutomaton([Dict{Cat, Int}()], [Vector{Comp}()])\n",
    "\n",
    "number_of_states(ca::CompletionAutomaton) = length(ca.transitions)\n",
    "isfinal(ca::CompletionAutomaton, s) = isempty(ca.transitions[s])\n",
    "is_possible_transition(ca::CompletionAutomaton, s, c) = haskey(ca.transitions[s], c)\n",
    "transition(ca::CompletionAutomaton, s, c) = ca.transitions[s][c]\n",
    "completions(ca::CompletionAutomaton, s) = ca.completions[s]\n",
    "\n",
    "function add_completion!(ca::CompletionAutomaton{Cat,Comp}, comp, categories) where {Cat,Comp}\n",
    "    s = 1\n",
    "    for c in categories\n",
    "        if is_possible_transition(ca, s, c)\n",
    "            s = transition(ca, s, c)\n",
    "        else\n",
    "            push!(ca.transitions, Dict{Cat,Int}())\n",
    "            push!(ca.completions, Vector{Comp}())\n",
    "            s = ca.transitions[s][c] = number_of_states(ca)\n",
    "        end\n",
    "    end\n",
    "    push!(ca.completions[s], comp)\n",
    "end\n",
    "\n",
    "function add_rule!(ca::CompletionAutomaton, r::CFRule)\n",
    "    for lhs in lhss(r)\n",
    "        add_completion!(ca, (lhs, r), r(lhs))\n",
    "    end\n",
    "end\n"
   ]
  },
  {
   "cell_type": "code",
   "execution_count": 6,
   "metadata": {},
   "outputs": [
    {
     "data": {
      "text/plain": [
       "types (generic function with 1 method)"
      ]
     },
     "execution_count": 6,
     "metadata": {},
     "output_type": "execute_result"
    }
   ],
   "source": [
    "#################\n",
    "### CFGrammar ###\n",
    "#################\n",
    "\n",
    "struct CFGrammar{C, T, Cond, F}\n",
    "    comp_automtn  :: CompletionAutomaton{C, Tuple{C, CFRule{C, C}}}\n",
    "    startsymbols  :: Vector{C}\n",
    "    terminal_dict :: Dict{T, Vector{Tuple{C, CFRule{C, T}}}}\n",
    "    cond          :: Cond # conditional scoring\n",
    "    dependent_components::F\n",
    "end\n",
    "\n",
    "function CFGrammar(\n",
    "        category_rules::Vector{CFRule{C, C}},\n",
    "        terminal_rules::Vector{CFRule{C, T}},\n",
    "        startsymbols  ::Vector{C},\n",
    "        dependent_components=identity::Function\n",
    "    ) where {C, T}\n",
    "    comp_automtn = CompletionAutomaton(C, Tuple{C, CFRule{C, C}})\n",
    "    for r in category_rules\n",
    "        add_rule!(comp_automtn, r)\n",
    "    end\n",
    "\n",
    "    terminal_dict = Dict{T, Vector{Tuple{C, CFRule{C, T}}}}()\n",
    "    for r in terminal_rules\n",
    "        for lhs in lhss(r)\n",
    "        t = r(lhs)[1]\n",
    "            if haskey(terminal_dict, t)\n",
    "                push!(terminal_dict[t], (lhs, r))\n",
    "            else\n",
    "                terminal_dict[t] = [(lhs, r)]\n",
    "            end\n",
    "        end\n",
    "    end\n",
    "\n",
    "    applicable_rules = Dict{C, Vector{CFRule}}()\n",
    "    for r in CFRule[category_rules; terminal_rules]\n",
    "        for c in lhss(r)\n",
    "            if haskey(applicable_rules, c)\n",
    "                push!(applicable_rules[c], r)\n",
    "            else\n",
    "                applicable_rules[c] = CFRule[r]\n",
    "            end\n",
    "        end\n",
    "    end\n",
    "\n",
    "    cond = SimpleCond(\n",
    "        Dict(\n",
    "            dependent_components(c) => let rules = applicable_rules[c]\n",
    "                n = length(rules)\n",
    "                k = count(isa.(rules, CFRule{C, T})) # number terminal rules\n",
    "                DirCat(rules, [fill(1.0, n-k); fill(1/k, k)])\n",
    "            end\n",
    "            for c in keys(applicable_rules)\n",
    "        )\n",
    "    )\n",
    "\n",
    "    CFGrammar(comp_automtn, startsymbols, terminal_dict, cond, dependent_components)\n",
    "end\n",
    "\n",
    "dependent_components(g::CFGrammar, c) = g.dependent_components(c)\n",
    "\n",
    "startstate(g::CFGrammar) = 1\n",
    "startsymbols(g::CFGrammar) = g.startsymbols\n",
    "\n",
    "isfinal(g::CFGrammar, s) = isfinal(g.comp_automtn, s)\n",
    "is_possible_transition(g::CFGrammar, s, c) = is_possible_transition(g.comp_automtn, s, c)\n",
    "transition(g::CFGrammar, s, c) = transition(g.comp_automtn, s, c)\n",
    "\n",
    "completions(g::CFGrammar, s::Int) =\n",
    "    ((c, r, score(g, c, r)) for (c, r) in completions(g.comp_automtn, s))\n",
    "completions(g::CFGrammar, t) =\n",
    "    ((c, r, score(g, c, r)) for (c, r) in g.terminal_dict[t])\n",
    "\n",
    "score(g::CFGrammar, c, r) = logscore(g.cond, r, dependent_components(g, c))\n",
    "\n",
    "@inline function types(grammar::CFGrammar{C, T, Cond}) where {C, T, Cond}\n",
    "    C, T, CFRule{C, C}, CFRule{C, T}, Int, LogProb\n",
    "end"
   ]
  },
  {
   "cell_type": "markdown",
   "metadata": {},
   "source": [
    "## Interface types"
   ]
  },
  {
   "cell_type": "markdown",
   "metadata": {},
   "source": [
    "### Completion"
   ]
  },
  {
   "cell_type": "code",
   "execution_count": 7,
   "metadata": {},
   "outputs": [
    {
     "data": {
      "text/plain": [
       "== (generic function with 2 methods)"
      ]
     },
     "execution_count": 7,
     "metadata": {},
     "output_type": "execute_result"
    }
   ],
   "source": [
    "###################\n",
    "### Completions ###\n",
    "###################\n",
    "\n",
    "struct TerminalCompletion{T,TR,S}\n",
    "    terminal :: T\n",
    "    rule     :: TR\n",
    "    score    :: S\n",
    "end\n",
    "terminal(comp::TerminalCompletion) = comp.terminal\n",
    "rule(comp::TerminalCompletion) = comp.rule\n",
    "score(comp::TerminalCompletion) = comp.score\n",
    "\n",
    "struct EdgeCompletion{E,CR,S}\n",
    "    edge   :: E\n",
    "    rule   :: CR\n",
    "    score  :: S\n",
    "    inloop :: Bool\n",
    "end\n",
    "edge(comp::EdgeCompletion) = comp.edge\n",
    "rule(comp::EdgeCompletion) = comp.rule\n",
    "score(comp::EdgeCompletion) = comp.score\n",
    "inloop(comp::EdgeCompletion) = comp.inloop\n",
    "EdgeCompletion(edge, rule, score) = EdgeCompletion(edge, rule, score, false)\n",
    "@inline function ==(c1::EdgeCompletion, c2::EdgeCompletion)\n",
    "    c1.edge == c2.edge && c1.rule == c2.rule\n",
    "end"
   ]
  },
  {
   "cell_type": "markdown",
   "metadata": {},
   "source": [
    "### Traversal"
   ]
  },
  {
   "cell_type": "code",
   "execution_count": 8,
   "metadata": {},
   "outputs": [
    {
     "data": {
      "text/plain": [
       "Traversal"
      ]
     },
     "execution_count": 8,
     "metadata": {},
     "output_type": "execute_result"
    }
   ],
   "source": [
    "#################\n",
    "### Traversal ###\n",
    "#################\n",
    "\n",
    "struct Traversal{E,CO,S}\n",
    "    edge   :: Union{E,Nothing}\n",
    "    cont   :: CO\n",
    "    score  :: S\n",
    "    inloop :: Bool\n",
    "end\n",
    "Traversal(edge, cont, score) = Traversal(edge, cont, score, false)\n",
    "Traversal(edge, cont) = Traversal(edge, cont, score(edge) * score(cont), false)\n",
    "hasedge(trav::Traversal) = !isnothing(trav.edge)\n",
    "edge(trav::Traversal) = get(trav.edge)\n",
    "cont(trav::Traversal) = trav.cont\n",
    "score(trav::Traversal) = trav.score\n",
    "inloop(trav::Traversal) = trav.inloop\n",
    "\n",
    "@inline function ==(t1::Traversal, t2::Traversal)\n",
    "    if hasedge(t1)\n",
    "        if hasedge(t2)\n",
    "            get(t1.edge) == get(t2.edge) && t1.cont == t2.cont\n",
    "        else\n",
    "            false\n",
    "        end\n",
    "    else\n",
    "        if hasedge(t2)\n",
    "            false\n",
    "        else\n",
    "            t1.cont == t2.cont\n",
    "        end\n",
    "    end\n",
    "end\n",
    "\n",
    "@inline function Traversal(cont)\n",
    "    Traversal(nothing, cont, score(cont), false)\n",
    "end"
   ]
  },
  {
   "cell_type": "markdown",
   "metadata": {},
   "source": [
    "# Parser types"
   ]
  },
  {
   "cell_type": "markdown",
   "metadata": {},
   "source": [
    "### Range"
   ]
  },
  {
   "cell_type": "code",
   "execution_count": 9,
   "metadata": {},
   "outputs": [
    {
     "data": {
      "text/plain": [
       "* (generic function with 358 methods)"
      ]
     },
     "execution_count": 9,
     "metadata": {},
     "output_type": "execute_result"
    }
   ],
   "source": [
    "##############\n",
    "### ModInt ###\n",
    "##############\n",
    "\n",
    "struct ModInt{n} <: Number\n",
    "  val::Int\n",
    "  ModInt{n}(val) where {n} = new(mod(val,n))\n",
    "end\n",
    "\n",
    "show(io::IO, a::ModInt{n}) where n = print(io, \"$(a.val) mod $n\")\n",
    "\n",
    "+(a::ModInt{n}, b::ModInt{n}) where n = ModInt{n}(a.val + b.val)\n",
    "-(a::ModInt{n}) where n = - a.val\n",
    "-(a::ModInt{n}, b::ModInt{n}) where n = ModInt{n}(a.val - b.val)\n",
    "*(a::ModInt{n}, b::ModInt{n}) where n = ModInt{n}(a.val * b.val)\n",
    "/(a::ModInt{n}, b::ModInt{n}) where n = a * invmod(b, n)\n",
    "\n",
    "<(a::ModInt{n}, b::ModInt{n}) where n = a.val < b.val\n",
    "\n",
    "one(a::ModInt{n}) where n = ModInt{n}(1)\n",
    "zero(a::ModInt{n}) where n = ModInt{n}(0)\n",
    "\n",
    "convert(::Type{ModInt{n}}, x::Int) where n = ModInt{n}(x)\n",
    "convert(::Type{Int}, x::ModInt) = x.val\n",
    "\n",
    "getindex(t::Union{Tuple, Array}, i::ModInt) = getindex(t, i.val + 1)\n",
    "\n",
    "promote_rule(::Type{ModInt{n}}, ::Type{Int}) where n = ModInt{n}\n",
    "\n",
    "\n",
    "#############\n",
    "### Range ###\n",
    "#############\n",
    "\n",
    "abstract type ItemRange end\n",
    "\n",
    "ItemRange(s::Int, e::Int, n::Int, cyclic::Bool) =\n",
    "    cyclic ? CyclicRange(s, e, n) : IntervalRange(s, e)\n",
    "\n",
    "start(r::ItemRange) = r.start\n",
    "_end(r::ItemRange)  = r._end\n",
    "\n",
    "struct IntervalRange <: ItemRange\n",
    "    start :: Int\n",
    "    _end  :: Int\n",
    "end\n",
    "\n",
    "length(r::IntervalRange) = _end(r) - start(r)\n",
    "concatenable(r1::IntervalRange, r2::IntervalRange) = _end(r1) == start(r2)\n",
    "\n",
    "function *(r1::IntervalRange, r2::IntervalRange)\n",
    "    @assert concatenable(r1, r2)\n",
    "    IntervalRange(start(r1), _end(r2))\n",
    "end\n",
    "\n",
    "struct CyclicRange{n} <: ItemRange\n",
    "    start  :: ModInt{n}\n",
    "    _end   :: ModInt{n}\n",
    "    length :: Int\n",
    "end\n",
    "CyclicRange(s::ModInt, e::ModInt) = CyclicRange(s, e, Int(e-s))\n",
    "CyclicRange(s::Int, e::Int, n::Int) = CyclicRange(ModInt{n}(s), ModInt{n}(e))\n",
    "\n",
    "length(r::CyclicRange) = r.length\n",
    "\n",
    "@inline function concatenable(r1::CyclicRange{n}, r2::CyclicRange{n}) where n\n",
    "    _end(r1) == start(r2) && length(r1) + length(r2) <= n\n",
    "end\n",
    "\n",
    "function *(r1::CyclicRange, r2::CyclicRange)\n",
    "    @assert concatenable(r1, r2)\n",
    "    CyclicRange(start(r1), _end(r2), length(r1) + length(r2))\n",
    "end"
   ]
  },
  {
   "cell_type": "markdown",
   "metadata": {},
   "source": [
    "## ItemKey"
   ]
  },
  {
   "cell_type": "code",
   "execution_count": 10,
   "metadata": {},
   "outputs": [
    {
     "data": {
      "text/plain": [
       "length (generic function with 126 methods)"
      ]
     },
     "execution_count": 10,
     "metadata": {},
     "output_type": "execute_result"
    }
   ],
   "source": [
    "###############\n",
    "### ItemKey ###\n",
    "###############\n",
    "\n",
    "abstract type ItemKey{R} end\n",
    "\n",
    "range(k::ItemKey)  =          k.range\n",
    "start(k::ItemKey)  =  start(range(k))\n",
    "_end(k::ItemKey)   =   _end(range(k))\n",
    "length(k::ItemKey) = length(range(k))"
   ]
  },
  {
   "cell_type": "markdown",
   "metadata": {},
   "source": [
    "### Partial Item Key (Edge Key)"
   ]
  },
  {
   "cell_type": "code",
   "execution_count": 11,
   "metadata": {},
   "outputs": [
    {
     "data": {
      "text/plain": [
       "state (generic function with 1 method)"
      ]
     },
     "execution_count": 11,
     "metadata": {},
     "output_type": "execute_result"
    }
   ],
   "source": [
    "struct EdgeKey{R,ST} <: ItemKey{R}\n",
    "    range :: R\n",
    "    state :: ST\n",
    "end\n",
    "state(k::EdgeKey) = k.state"
   ]
  },
  {
   "cell_type": "markdown",
   "metadata": {},
   "source": [
    "### Complete Item Key (Constituent Key)"
   ]
  },
  {
   "cell_type": "code",
   "execution_count": 12,
   "metadata": {},
   "outputs": [
    {
     "data": {
      "text/plain": [
       "category (generic function with 1 method)"
      ]
     },
     "execution_count": 12,
     "metadata": {},
     "output_type": "execute_result"
    }
   ],
   "source": [
    "struct ConstituentKey{R,C} <: ItemKey{R}\n",
    "    range    :: R\n",
    "    category :: C\n",
    "end\n",
    "category(k::ConstituentKey) = k.category"
   ]
  },
  {
   "cell_type": "markdown",
   "metadata": {},
   "source": [
    "## Item"
   ]
  },
  {
   "cell_type": "code",
   "execution_count": 13,
   "metadata": {},
   "outputs": [
    {
     "data": {
      "text/plain": [
       "insidepopnumber (generic function with 1 method)"
      ]
     },
     "execution_count": 13,
     "metadata": {},
     "output_type": "execute_result"
    }
   ],
   "source": [
    "############\n",
    "### Item ###\n",
    "############\n",
    "\n",
    "abstract type Item end\n",
    "\n",
    "Item(key, trav::Traversal) = Edge(key, trav)\n",
    "Item(key, comp::EdgeCompletion) = Constituent(key, comp)\n",
    "\n",
    "key(item::Item) = item.key\n",
    "range(item::Item) = range(key(item))\n",
    "start(item::Item) = start(range(item))\n",
    "_end(item::Item) = _end(range(item))\n",
    "length(item::Item) = length(range(item))\n",
    "isfinished(item::Item) = !(isnothing(item.score))\n",
    "lastpopscore(item::Item) = item.lastpopscore\n",
    "insidepopnumber(item::Item) = item.insidepopnumber"
   ]
  },
  {
   "cell_type": "markdown",
   "metadata": {},
   "source": [
    "### Partial Item (Edge)"
   ]
  },
  {
   "cell_type": "code",
   "execution_count": 14,
   "metadata": {},
   "outputs": [
    {
     "data": {
      "text/plain": [
       "add! (generic function with 1 method)"
      ]
     },
     "execution_count": 14,
     "metadata": {},
     "output_type": "execute_result"
    }
   ],
   "source": [
    "############\n",
    "### Edge ###\n",
    "############\n",
    "\n",
    "mutable struct Edge{R,ST,S,CO} <: Item\n",
    "    key             :: EdgeKey{R,ST}\n",
    "    score           :: Union{S,Nothing}\n",
    "    lastpopscore    :: S\n",
    "    insidepopnumber :: Int\n",
    "    traversals      :: Vector{Traversal{Edge{R,ST,S,CO},CO,S}}\n",
    "end\n",
    "\n",
    "@inline function Edge(key, trav::Traversal{E,CO,S}) where {E,CO,S}\n",
    "    Edge(key, nothing, zero(S), 0, [trav])\n",
    "end\n",
    "\n",
    "state(edge::Edge) = state(key(edge))\n",
    "traversals(edge::Edge) = edge.traversals\n",
    "\n",
    "@inline function score(edge::Edge)\n",
    "    if isfinished(edge)\n",
    "        get(edge.score)\n",
    "    else\n",
    "        sum(score(trav) for trav in edge.traversals)\n",
    "    end\n",
    "end\n",
    "\n",
    "function add!(edge::Edge, trav)\n",
    "    i = findfirst(t->t==trav, edge.traversals)\n",
    "    if i != 0\n",
    "        edge.traversals[i] = trav\n",
    "    else\n",
    "        push!(edge.traversals, trav)\n",
    "    end\n",
    "    nothing\n",
    "end\n"
   ]
  },
  {
   "cell_type": "markdown",
   "metadata": {},
   "source": [
    "### Complete Item (Constituent)"
   ]
  },
  {
   "cell_type": "code",
   "execution_count": 15,
   "metadata": {},
   "outputs": [
    {
     "data": {
      "text/plain": [
       "add! (generic function with 2 methods)"
      ]
     },
     "execution_count": 15,
     "metadata": {},
     "output_type": "execute_result"
    }
   ],
   "source": [
    "\n",
    "###################\n",
    "### Constituent ###\n",
    "###################\n",
    "\n",
    "mutable struct Constituent{R,C,T,CR,TR,ST,S} <: Item\n",
    "    key                 :: ConstituentKey{R,C}\n",
    "    score               :: Union{S,Nothing}\n",
    "    lastpopscore        :: S\n",
    "    insidepopnumber     :: Int\n",
    "    terminal_completion :: Union{TerminalCompletion{T,TR,S}, Nothing}\n",
    "    completions         :: Vector{EdgeCompletion{Edge{R,ST,S,Constituent{R,C,T,CR,TR,ST,S}},CR,S}}\n",
    "end\n",
    "\n",
    "@inline function Constituent(\n",
    "        key::ConstituentKey{R,C}, comp::TerminalCompletion, grammar\n",
    "    ) where {R,C}\n",
    "    C_, T, CR, TR, ST, S = types(grammar)\n",
    "    Constituent(\n",
    "        key, nothing, zero(S), 0, comp,\n",
    "        Vector{EdgeCompletion{Edge{R,ST,S,Constituent{R,C,T,CR,TR,ST,S}},CR,S}}()\n",
    "    )\n",
    "end\n",
    "\n",
    "@inline function Constituent(\n",
    "        key,\n",
    "        comp :: EdgeCompletion{Edge{R,ST,S,Constituent{R,C,T,CR,TR,ST,S}},CR,S}\n",
    "    ) where {R,C,T,CR,TR,ST,S}\n",
    "    Constituent(\n",
    "        key, nothing, zero(S), 0,\n",
    "        nothing,\n",
    "        [comp]\n",
    "    )\n",
    "end\n",
    "\n",
    "category(cont::Constituent) = category(key(cont))\n",
    "completions(cont::Constituent) = cont.completions\n",
    "\n",
    "hasterminal(cont::Constituent) = !(isnothing(cont.terminal_completion))\n",
    "terminal_completion(cont::Constituent) = get(cont.terminal_completion)\n",
    "terminal(cont::Constituent) = get(cont.terminal_completion).terminal\n",
    "\n",
    "@inline function score(cont::Constituent)\n",
    "    if isfinished(cont)\n",
    "        get(cont.score)\n",
    "    else\n",
    "        if hasterminal(cont)\n",
    "            if isempty(completions(cont))\n",
    "                score(terminal_completion(cont))\n",
    "            else\n",
    "                +(\n",
    "                    score(terminal_completion(cont)),\n",
    "                    sum(score(comp) for comp in completions(cont))\n",
    "                )\n",
    "            end\n",
    "        else\n",
    "            sum(score(comp) for comp in completions(cont))\n",
    "        end\n",
    "    end\n",
    "end\n",
    "\n",
    "function add!(cont::Constituent, comp)\n",
    "    i = findfirst(c->c==comp, cont.completions)\n",
    "    if i != 0\n",
    "        cont.completions[i] = comp\n",
    "    else\n",
    "        push!(cont.completions, comp)\n",
    "    end\n",
    "    nothing\n",
    "end\n",
    "\n",
    "#@inline function Traversal(cont::Constituent)\n",
    "#    Traversal(nothing, cont, score(cont), false)\n",
    "#end"
   ]
  },
  {
   "cell_type": "markdown",
   "metadata": {},
   "source": [
    "## Logbook"
   ]
  },
  {
   "cell_type": "code",
   "execution_count": 16,
   "metadata": {},
   "outputs": [
    {
     "data": {
      "text/plain": [
       "getitem (generic function with 2 methods)"
      ]
     },
     "execution_count": 16,
     "metadata": {},
     "output_type": "execute_result"
    }
   ],
   "source": [
    "#####################\n",
    "### ParserLogbook ###\n",
    "#####################\n",
    "\n",
    "struct ParserLogbook{R,C,T,CR,TR,ST,S}\n",
    "    edges :: Dict{EdgeKey{R,ST}, Edge{R,ST,S,Constituent{R,C,T,CR,TR,ST,S}}}\n",
    "    conts :: Dict{ConstituentKey{R,C}, Constituent{R,C,T,CR,TR,ST,S}}\n",
    "end\n",
    "\n",
    "@inline function ParserLogbook(grammar, n::Int, cyclic::Bool)\n",
    "    R = cyclic ? CyclicRange{n} : IntervalRange\n",
    "    C,T,CR,TR,ST,S = types(grammar)\n",
    "    ParserLogbook(\n",
    "        Dict{EdgeKey{R,ST}, Edge{R,ST,S,Constituent{R,C,T,CR,TR,ST,S}}}(),\n",
    "        Dict{ConstituentKey{R,C}, Constituent{R,C,T,CR,TR,ST,S}}()\n",
    "    )\n",
    "end\n",
    "discover!(logbook::ParserLogbook, edge::Edge) =\n",
    "    logbook.edges[key(edge)] = edge\n",
    "discover!(logbook::ParserLogbook, cont::Constituent) =\n",
    "    logbook.conts[key(cont)] = cont\n",
    "isdiscovered(logbook, key::EdgeKey) = haskey(logbook.edges, key)\n",
    "isdiscovered(logbook, key::ConstituentKey) = haskey(logbook.conts, key)\n",
    "getitem(logbook, key::EdgeKey) = logbook.edges[key]\n",
    "getitem(logbook, key::ConstituentKey) = logbook.conts[key]\n",
    "\n"
   ]
  },
  {
   "cell_type": "markdown",
   "metadata": {},
   "source": [
    "## Chart"
   ]
  },
  {
   "cell_type": "code",
   "execution_count": 17,
   "metadata": {},
   "outputs": [
    {
     "data": {
      "text/plain": [
       "insert! (generic function with 9 methods)"
      ]
     },
     "execution_count": 17,
     "metadata": {},
     "output_type": "execute_result"
    }
   ],
   "source": [
    "##################\n",
    "### ParseChart ###\n",
    "##################\n",
    "\n",
    "struct ChartCell{R,C,T,CR,TR,ST,S}\n",
    "    edges :: Dict{ST, Vector{Edge{R,ST,S,Constituent{R,C,T,CR,TR,ST,S}}}}\n",
    "    conts :: Dict{C, Vector{Constituent{R,C,T,CR,TR,ST,S}}}\n",
    "end\n",
    "@inline function ChartCell(grammar, n::Int, cyclic::Bool)\n",
    "    R = cyclic ? CyclicRange{n} : IntervalRange\n",
    "    C,T,CR,TR,ST,S = types(grammar)\n",
    "    ChartCell(\n",
    "        Dict{ST, Vector{Edge{R,ST,S,Constituent{R,C,T,CR,TR,ST,S}}}}(),\n",
    "        Dict{C, Vector{Constituent{R,C,T,CR,TR,ST,S}}}()\n",
    "    )\n",
    "end\n",
    "\n",
    "struct ParseChart{R,C,T,CR,TR,ST,S}\n",
    "    cells :: Vector{ChartCell{R,C,T,CR,TR,ST,S}}\n",
    "end\n",
    "# vector indices begin with 1\n",
    "# item   indices begin with 0\n",
    "\n",
    "edges(chart::ParseChart, edge::Edge)        = chart.cells[ _end(edge)+1].edges\n",
    "edges(chart::ParseChart, cont::Constituent) = chart.cells[start(cont)+1].edges\n",
    "conts(chart::ParseChart, edge::Edge)        = chart.cells[ _end(edge)+1].conts\n",
    "conts(chart::ParseChart, cont::Constituent) = chart.cells[start(cont)+1].conts\n",
    "\n",
    "@inline function push_or_init!(d::Dict, k, v)\n",
    "    if haskey(d, k)\n",
    "        push!(d[k], v)\n",
    "    else\n",
    "        d[k] = [v]\n",
    "    end\n",
    "end\n",
    "insert!(chart::ParseChart, edge::Edge) =\n",
    "    push_or_init!(edges(chart, edge), state(edge), edge)\n",
    "insert!(chart::ParseChart, cont::Constituent) =\n",
    "    push_or_init!(conts(chart, cont), category(cont), cont)\n"
   ]
  },
  {
   "cell_type": "markdown",
   "metadata": {},
   "source": [
    "## Agenda"
   ]
  },
  {
   "cell_type": "code",
   "execution_count": 18,
   "metadata": {},
   "outputs": [
    {
     "data": {
      "text/plain": [
       "priority (generic function with 2 methods)"
      ]
     },
     "execution_count": 18,
     "metadata": {},
     "output_type": "execute_result"
    }
   ],
   "source": [
    "####################\n",
    "### InsideAgenda ###\n",
    "####################\n",
    "\n",
    "struct InsideAgenda{R,C,T,CR,TR,ST,S}\n",
    "    edge_queue :: PriorityQueue{Edge{R,ST,S,Constituent{R,C,T,CR,TR,ST,S}}, Int, Base.Order.ForwardOrdering}\n",
    "    cont_queue :: PriorityQueue{Constituent{R,C,T,CR,TR,ST,S}, Int, Base.Order.ForwardOrdering}\n",
    "end\n",
    "function InsideAgenda(grammar, n::Int, cyclic)\n",
    "    R = cyclic ? CyclicRange{n} : IntervalRange\n",
    "    C,T,CR,TR,ST,S = types(grammar)\n",
    "    InsideAgenda(\n",
    "        PriorityQueue{Edge{R,ST,S,Constituent{R,C,T,CR,TR,ST,S}}, Int}(),\n",
    "        PriorityQueue{Constituent{R,C,T,CR,TR,ST,S}, Int}()\n",
    "    )\n",
    "end\n",
    "@inline function enqueue!(agenda::InsideAgenda, edge::Edge, just_used)\n",
    "    agenda.edge_queue[edge] = priority(edge, just_used)\n",
    "end\n",
    "@inline function enqueue!(agenda::InsideAgenda, cont::Constituent, just_used)\n",
    "    agenda.cont_queue[cont] = priority(cont, just_used)\n",
    "end\n",
    "@inline function next_is_edge(agenda::InsideAgenda)\n",
    "    isempty(agenda.cont_queue) || !isempty(agenda.edge_queue) && peek(agenda.edge_queue)[2] < peek(agenda.cont_queue)[2]\n",
    "end\n",
    "dequeue_edge!(agenda::InsideAgenda)    = dequeue!(agenda.edge_queue)\n",
    "dequeue_cont!(agenda::InsideAgenda)    = dequeue!(agenda.cont_queue)\n",
    "isempty(agenda::InsideAgenda)          = isempty(agenda.edge_queue) && isempty(agenda.cont_queue)\n",
    "priority(edge::Edge, just_used)        = 4 * length(edge) - 2*!(just_used) - 1\n",
    "priority(cont::Constituent, just_used) = 4 * length(cont) - 2*!(just_used)\n",
    "\n"
   ]
  },
  {
   "cell_type": "markdown",
   "metadata": {},
   "source": [
    "# Chart Parser"
   ]
  },
  {
   "cell_type": "code",
   "execution_count": 19,
   "metadata": {},
   "outputs": [
    {
     "data": {
      "text/plain": [
       "initialize (generic function with 1 method)"
      ]
     },
     "execution_count": 19,
     "metadata": {},
     "output_type": "execute_result"
    }
   ],
   "source": [
    "######################\n",
    "### Parser Methods ###\n",
    "######################\n",
    "\n",
    "function create_or_update!(key, trav_or_comp, agenda, logbook)\n",
    "    if isdiscovered(logbook, key)\n",
    "        item = getitem(logbook, key)\n",
    "        add!(item, trav_or_comp)\n",
    "    else\n",
    "        item = Item(key, trav_or_comp)\n",
    "        discover!(logbook, item)\n",
    "    end\n",
    "    enqueue!(agenda, item, false)\n",
    "    nothing\n",
    "end\n",
    "\n",
    "@noinline function initialize(terminals, grammar, epsilon, cyclic)\n",
    "    n       = length(terminals)\n",
    "    chart   = ParseChart([ChartCell(grammar, n, cyclic) for i in 0:(cyclic ? n-1 : n)])\n",
    "    agenda  = InsideAgenda(grammar, n, cyclic)\n",
    "    logbook = ParserLogbook(grammar, n, cyclic)\n",
    "\n",
    "    for (i, terminal) in enumerate(terminals)\n",
    "        for (category, rule, score) in completions(grammar, terminal)\n",
    "            cont = Constituent(\n",
    "                ConstituentKey(ItemRange(i-1, i, n, cyclic), category),\n",
    "                TerminalCompletion(terminal, rule, score),\n",
    "                grammar\n",
    "            )\n",
    "            discover!(logbook, cont)\n",
    "            enqueue!(agenda, cont, false)\n",
    "        end\n",
    "        if !ismissing(epsilon)\n",
    "            for (category, rule, score) in completions(grammar, epsilon)\n",
    "                cont = Constituent(\n",
    "                    ConstituentKey(ItemRange(i-1, i-1, n, cyclic), category),\n",
    "                    TerminalCompletion(epsilon, rule, score),\n",
    "                    grammar\n",
    "                )\n",
    "                discover!(logbook, cont)\n",
    "                enqueue!(agenda, cont, false)\n",
    "            end\n",
    "        end\n",
    "    end\n",
    "    if !ismissing(epsilon) && !cyclic\n",
    "        for (category, rule, score) in completions(grammar, epsilon)\n",
    "            cont = Constituent(\n",
    "                ConstituentKey(ItemRange(n, n, n, cyclic), category),\n",
    "                TerminalCompletion(epsilon, rule, score),\n",
    "                grammar\n",
    "            )\n",
    "            discover!(logbook, cont)\n",
    "            enqueue!(agenda, cont, false)\n",
    "        end\n",
    "    end\n",
    "    chart, agenda, logbook\n",
    "end\n"
   ]
  },
  {
   "cell_type": "code",
   "execution_count": 20,
   "metadata": {},
   "outputs": [
    {
     "data": {
      "text/plain": [
       "do_fundamental_rule! (generic function with 2 methods)"
      ]
     },
     "execution_count": 20,
     "metadata": {},
     "output_type": "execute_result"
    }
   ],
   "source": [
    "@inline function do_fundamental_rule!(\n",
    "        edge::Edge, chart, agenda, logbook, grammar, cyclic\n",
    "    )\n",
    "    for category in keys(conts(chart, edge))\n",
    "        if is_possible_transition(grammar, state(edge), category)\n",
    "            for cont in conts(chart, edge)[category]\n",
    "                if !cyclic || concatenable(range(edge), range(cont))\n",
    "                    trav      = Traversal(edge, cont)\n",
    "                    new_state = transition(grammar, state(edge), category)\n",
    "                    key       = EdgeKey(range(edge) * range(cont), new_state)\n",
    "                    create_or_update!(key, trav, agenda, logbook)\n",
    "                end\n",
    "            end\n",
    "        end\n",
    "    end\n",
    "    nothing\n",
    "end\n",
    "\n",
    "@inline function do_fundamental_rule!(\n",
    "        cont::Constituent, chart, agenda, logbook, grammar, cyclic\n",
    "    )\n",
    "    for state in keys(edges(chart, cont))\n",
    "        if is_possible_transition(grammar, state, category(cont))\n",
    "            for edge in edges(chart, cont)[state]\n",
    "                if !cyclic || concatenable(range(edge), range(cont))\n",
    "                    trav      = Traversal(edge, cont)\n",
    "                    new_state = transition(grammar, state, category(cont))\n",
    "                    key       = EdgeKey(range(edge) * range(cont), new_state)\n",
    "                    create_or_update!(key, trav, agenda, logbook)\n",
    "                end\n",
    "            end\n",
    "        end\n",
    "    end\n",
    "    nothing\n",
    "end"
   ]
  },
  {
   "cell_type": "code",
   "execution_count": 21,
   "metadata": {},
   "outputs": [
    {
     "data": {
      "text/plain": [
       "introduce_edge! (generic function with 1 method)"
      ]
     },
     "execution_count": 21,
     "metadata": {},
     "output_type": "execute_result"
    }
   ],
   "source": [
    "@inline function introduce_edge!(cont, agenda, logbook, grammar)\n",
    "    if is_possible_transition(grammar, startstate(grammar), category(cont))\n",
    "        state = transition(grammar, startstate(grammar), category(cont))\n",
    "        key   = EdgeKey(range(cont), state)\n",
    "        create_or_update!(key, Traversal(cont), agenda, logbook)\n",
    "    end\n",
    "    nothing\n",
    "end\n"
   ]
  },
  {
   "cell_type": "code",
   "execution_count": 22,
   "metadata": {},
   "outputs": [
    {
     "data": {
      "text/plain": [
       "complete_edge! (generic function with 1 method)"
      ]
     },
     "execution_count": 22,
     "metadata": {},
     "output_type": "execute_result"
    }
   ],
   "source": [
    "@noinline function complete_edge!(edge, agenda, logbook::ParserLogbook, grammar)\n",
    "    for (category::C, rule::CR, s::S) in completions(grammar, state(edge))\n",
    "        key  = ConstituentKey(range(edge), category)\n",
    "        comp = EdgeCompletion(edge, rule, score(edge) * s)\n",
    "        create_or_update!(key, comp, agenda, logbook)\n",
    "    end\n",
    "    nothing\n",
    "end\n"
   ]
  },
  {
   "cell_type": "code",
   "execution_count": 23,
   "metadata": {},
   "outputs": [
    {
     "data": {
      "text/plain": [
       "process_edge! (generic function with 1 method)"
      ]
     },
     "execution_count": 23,
     "metadata": {},
     "output_type": "execute_result"
    }
   ],
   "source": [
    "@noinline function process_edge!(\n",
    "        edge, chart, agenda, logbook, grammar, max_pop_num, cyclic\n",
    "    )\n",
    "    s = score(edge)\n",
    "    edge.insidepopnumber += 1\n",
    "    if s ≈ lastpopscore(edge) || insidepopnumber(edge) == max_pop_num\n",
    "        if !isfinal(grammar, state(edge))\n",
    "            insert!(chart, edge)\n",
    "        end\n",
    "        edge.score = Nullable(s) # finish the edge\n",
    "        do_fundamental_rule!(edge, chart, agenda, logbook, grammar, cyclic)\n",
    "    else\n",
    "        complete_edge!(edge, agenda, logbook, grammar)\n",
    "        edge.lastpopscore = s\n",
    "        enqueue!(agenda, edge, true)\n",
    "    end\n",
    "    nothing\n",
    "end"
   ]
  },
  {
   "cell_type": "code",
   "execution_count": 24,
   "metadata": {},
   "outputs": [
    {
     "data": {
      "text/plain": [
       "process_cont! (generic function with 1 method)"
      ]
     },
     "execution_count": 24,
     "metadata": {},
     "output_type": "execute_result"
    }
   ],
   "source": [
    "@noinline function process_cont!(\n",
    "        cont, chart, agenda, logbook, grammar, max_pop_num, cyclic\n",
    "    )\n",
    "    s = score(cont)\n",
    "    cont.insidepopnumber += 1\n",
    "    if s ≈ lastpopscore(cont) || insidepopnumber(cont) == max_pop_num\n",
    "        insert!(chart, cont)\n",
    "        cont.score = Nullable(s) # finish the constituent\n",
    "        do_fundamental_rule!(cont, chart, agenda, logbook, grammar, cyclic)\n",
    "    else\n",
    "        introduce_edge!(cont, agenda, logbook, grammar)\n",
    "        cont.lastpopscore = s\n",
    "        enqueue!(agenda, cont, true)\n",
    "    end\n",
    "    nothing\n",
    "end"
   ]
  },
  {
   "cell_type": "code",
   "execution_count": 25,
   "metadata": {},
   "outputs": [
    {
     "data": {
      "text/plain": [
       "loop! (generic function with 1 method)"
      ]
     },
     "execution_count": 25,
     "metadata": {},
     "output_type": "execute_result"
    }
   ],
   "source": [
    "@noinline function loop!(chart, agenda, args...)\n",
    "    while !isempty(agenda)\n",
    "        if next_is_edge(agenda)\n",
    "            process_edge!(dequeue_edge!(agenda), chart, agenda, args...)\n",
    "        else\n",
    "            process_cont!(dequeue_cont!(agenda), chart, agenda, args...)\n",
    "        end\n",
    "    end\n",
    "end"
   ]
  },
  {
   "cell_type": "markdown",
   "metadata": {},
   "source": [
    "# RUNNING Parser"
   ]
  },
  {
   "cell_type": "code",
   "execution_count": 26,
   "metadata": {},
   "outputs": [
    {
     "data": {
      "text/plain": [
       "run_chartparser (generic function with 1 method)"
      ]
     },
     "execution_count": 26,
     "metadata": {},
     "output_type": "execute_result"
    }
   ],
   "source": [
    "@noinline function run_chartparser(terminals, grammar; epsilon=missing, max_pop_num=4, cyclic=false)\n",
    "    C, T, CR, TR, ST, S = types(grammar)\n",
    "    chart, agenda, logbook = initialize(\n",
    "        T.(terminals), grammar, epsilon, cyclic)\n",
    "    loop!(chart, agenda, logbook, grammar, max_pop_num, cyclic)\n",
    "    #ParseForest(chart, T.(terminals), grammar, cyclic)\n",
    "    chart\n",
    "end"
   ]
  },
  {
   "cell_type": "code",
   "execution_count": 29,
   "metadata": {},
   "outputs": [
    {
     "data": {
      "text/plain": [
       "CFGrammar{Int64,String,SimpleCond{Int64,DirCat{CFRule{Int64,RHS} where RHS,Float64},Array{CFRule{Int64,RHS} where RHS,1}},typeof(identity)}(CompletionAutomaton{Int64,Tuple{Int64,CFRule{Int64,Int64}}}(Dict{Int64,Int64}[Dict(7 => 2,4 => 4,9 => 6,10 => 23,2 => 8,3 => 10,5 => 12,8 => 14,6 => 16,1 => 18…), Dict(7 => 20,8 => 3), Dict(), Dict(4 => 21,5 => 5), Dict(), Dict(9 => 22,10 => 7), Dict(), Dict(2 => 25,3 => 9), Dict(), Dict(4 => 11,3 => 26)  …  Dict(), Dict(), Dict(10 => 24), Dict(), Dict(), Dict(), Dict(), Dict(), Dict(), Dict()], Array{Tuple{Int64,CFRule{Int64,Int64}},1}[[], [], [(7, CFRule(rule1))], [], [(4, CFRule(rule1))], [], [(9, CFRule(rule1))], [], [(2, CFRule(rule1))], []  …  [(4, CFRule(rule2))], [(9, CFRule(rule2))], [], [(10, CFRule(rule2))], [(2, CFRule(rule2))], [(3, CFRule(rule2))], [(5, CFRule(rule2))], [(8, CFRule(rule2))], [(6, CFRule(rule2))], [(1, CFRule(rule2))]]), [1], Dict(\"8\" => [(8, CFRule(rule3))],\"4\" => [(4, CFRule(rule3))],\"1\" => [(1, CFRule(rule3))],\"10\" => [(10, CFRule(rule3))],\"2\" => [(2, CFRule(rule3))],\"7\" => [(7, CFRule(rule3))],\"5\" => [(5, CFRule(rule3))],\"6\" => [(6, CFRule(rule3))],\"9\" => [(9, CFRule(rule3))],\"3\" => [(3, CFRule(rule3))]…), SimpleCond{Int64,DirCat{CFRule{Int64,RHS} where RHS,Float64},Array{CFRule{Int64,RHS} where RHS,1}}(Dict(7 => DirCat{CFRule{Int64,RHS} where RHS,Float64}(Dict{CFRule{Int64,RHS} where RHS,Float64}(CFRule(rule2) => 1.0,CFRule(rule1) => 1.0,CFRule(rule3) => 1.0)),4 => DirCat{CFRule{Int64,RHS} where RHS,Float64}(Dict{CFRule{Int64,RHS} where RHS,Float64}(CFRule(rule2) => 1.0,CFRule(rule1) => 1.0,CFRule(rule3) => 1.0)),9 => DirCat{CFRule{Int64,RHS} where RHS,Float64}(Dict{CFRule{Int64,RHS} where RHS,Float64}(CFRule(rule2) => 1.0,CFRule(rule1) => 1.0,CFRule(rule3) => 1.0)),10 => DirCat{CFRule{Int64,RHS} where RHS,Float64}(Dict{CFRule{Int64,RHS} where RHS,Float64}(CFRule(rule2) => 1.0,CFRule(rule3) => 1.0)),2 => DirCat{CFRule{Int64,RHS} where RHS,Float64}(Dict{CFRule{Int64,RHS} where RHS,Float64}(CFRule(rule2) => 1.0,CFRule(rule1) => 1.0,CFRule(rule3) => 1.0)),3 => DirCat{CFRule{Int64,RHS} where RHS,Float64}(Dict{CFRule{Int64,RHS} where RHS,Float64}(CFRule(rule2) => 1.0,CFRule(rule1) => 1.0,CFRule(rule3) => 1.0)),5 => DirCat{CFRule{Int64,RHS} where RHS,Float64}(Dict{CFRule{Int64,RHS} where RHS,Float64}(CFRule(rule2) => 1.0,CFRule(rule1) => 1.0,CFRule(rule3) => 1.0)),8 => DirCat{CFRule{Int64,RHS} where RHS,Float64}(Dict{CFRule{Int64,RHS} where RHS,Float64}(CFRule(rule2) => 1.0,CFRule(rule1) => 1.0,CFRule(rule3) => 1.0)),6 => DirCat{CFRule{Int64,RHS} where RHS,Float64}(Dict{CFRule{Int64,RHS} where RHS,Float64}(CFRule(rule2) => 1.0,CFRule(rule1) => 1.0,CFRule(rule3) => 1.0)),1 => DirCat{CFRule{Int64,RHS} where RHS,Float64}(Dict{CFRule{Int64,RHS} where RHS,Float64}(CFRule(rule2) => 1.0,CFRule(rule1) => 1.0,CFRule(rule3) => 1.0))…), CFRule{Int64,RHS} where RHS[CFRule(rule2), CFRule(rule1), CFRule(rule3)]), identity)"
      ]
     },
     "execution_count": 29,
     "metadata": {},
     "output_type": "execute_result"
    }
   ],
   "source": [
    "############\n",
    "### Test ###\n",
    "############\n",
    "\n",
    "ascend = CFRule(1:9) do i\n",
    "    [i, i+1]\n",
    "end\n",
    "double = CFRule(1:10) do i\n",
    "    [i, i]\n",
    "end\n",
    "terminate = CFRule(1:10) do i\n",
    "    [string(i)]\n",
    "end\n",
    "grammar = CFGrammar([ascend, double], [terminate], [1])\n",
    "# exp(score(grammar, 9, terminate))\n",
    "#\n",
    "# using BenchmarkTools\n",
    "# @btime score(run_chartparser([\"1\" for i in 1:10], grammar))\n",
    "# @btime score(run_chartparser([\"1\" for i in 1:60], grammar))\n",
    "# @btime score(run_chartparser([\"1\" for i in 1:30], grammar))\n"
   ]
  },
  {
   "cell_type": "code",
   "execution_count": 33,
   "metadata": {},
   "outputs": [
    {
     "ename": "DomainError",
     "evalue": "DomainError with -1.0986122886681096:\nlog will only return a complex result if called with a complex argument. Try log(Complex(x)).",
     "output_type": "error",
     "traceback": [
      "DomainError with -1.0986122886681096:\nlog will only return a complex result if called with a complex argument. Try log(Complex(x)).",
      "",
      "Stacktrace:",
      " [1] throw_complex_domainerror(::Symbol, ::Float64) at ./math.jl:31",
      " [2] log(::Float64) at ./special/log.jl:285",
      " [3] #LogProb#1 at /Users/eva/.julia/packages/LogProbs/LzapI/src/LogProbs.jl:23 [inlined]",
      " [4] LogProb(::Float64) at /Users/eva/.julia/packages/LogProbs/LzapI/src/LogProbs.jl:23",
      " [5] logscore(::DirCat{CFRule{Int64,RHS} where RHS,Float64}, ::CFRule{Int64,String}) at ./In[28]:51",
      " [6] logscore at ./In[28]:20 [inlined]",
      " [7] score(::CFGrammar{Int64,String,SimpleCond{Int64,DirCat{CFRule{Int64,RHS} where RHS,Float64},Array{CFRule{Int64,RHS} where RHS,1}},typeof(identity)}, ::Int64, ::CFRule{Int64,String}) at ./In[6]:75",
      " [8] top-level scope at In[33]:1"
     ]
    }
   ],
   "source": [
    "score(grammar, 9, terminate)"
   ]
  },
  {
   "cell_type": "code",
   "execution_count": 35,
   "metadata": {},
   "outputs": [
    {
     "ename": "DomainError",
     "evalue": "DomainError with -1.0986122886681096:\nlog will only return a complex result if called with a complex argument. Try log(Complex(x)).",
     "output_type": "error",
     "traceback": [
      "DomainError with -1.0986122886681096:\nlog will only return a complex result if called with a complex argument. Try log(Complex(x)).",
      "",
      "Stacktrace:",
      " [1] throw_complex_domainerror(::Symbol, ::Float64) at ./math.jl:31",
      " [2] log(::Float64) at ./special/log.jl:285",
      " [3] #LogProb#1 at /Users/eva/.julia/packages/LogProbs/LzapI/src/LogProbs.jl:23 [inlined]",
      " [4] LogProb(::Float64) at /Users/eva/.julia/packages/LogProbs/LzapI/src/LogProbs.jl:23",
      " [5] logscore(::DirCat{CFRule{Int64,RHS} where RHS,Float64}, ::CFRule{Int64,String}) at ./In[28]:51",
      " [6] logscore at ./In[28]:20 [inlined]",
      " [7] score at ./In[6]:75 [inlined]",
      " [8] #11 at ./none:0 [inlined]",
      " [9] iterate at ./generator.jl:47 [inlined]",
      " [10] initialize(::Array{String,1}, ::CFGrammar{Int64,String,SimpleCond{Int64,DirCat{CFRule{Int64,RHS} where RHS,Float64},Array{CFRule{Int64,RHS} where RHS,1}},typeof(identity)}, ::Missing, ::Bool) at ./In[19]:24",
      " [11] #run_chartparser#19(::Missing, ::Int64, ::Bool, ::typeof(run_chartparser), ::Array{String,1}, ::CFGrammar{Int64,String,SimpleCond{Int64,DirCat{CFRule{Int64,RHS} where RHS,Float64},Array{CFRule{Int64,RHS} where RHS,1}},typeof(identity)}) at ./In[26]:5",
      " [12] run_chartparser(::Array{String,1}, ::CFGrammar{Int64,String,SimpleCond{Int64,DirCat{CFRule{Int64,RHS} where RHS,Float64},Array{CFRule{Int64,RHS} where RHS,1}},typeof(identity)}) at ./In[26]:4",
      " [13] top-level scope at In[35]:1"
     ]
    }
   ],
   "source": [
    "chart = run_chartparser([\"1\" for i in 1:10], grammar)"
   ]
  },
  {
   "cell_type": "code",
   "execution_count": null,
   "metadata": {},
   "outputs": [],
   "source": []
  }
 ],
 "metadata": {
  "kernelspec": {
   "display_name": "Julia 1.2.0",
   "language": "julia",
   "name": "julia-1.2"
  },
  "language_info": {
   "file_extension": ".jl",
   "mimetype": "application/julia",
   "name": "julia",
   "version": "1.2.0"
  }
 },
 "nbformat": 4,
 "nbformat_minor": 2
}
