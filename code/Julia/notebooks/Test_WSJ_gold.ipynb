{
 "cells": [
  {
   "cell_type": "code",
   "execution_count": 1,
   "metadata": {},
   "outputs": [],
   "source": [
    "include(\"../src/generalized-chart-parser/chartparser.jl\")\n",
    "using .ChartParser: run_chartparser, MetaRule, CFGrammar, CFRule, score\n"
   ]
  },
  {
   "cell_type": "code",
   "execution_count": 2,
   "metadata": {},
   "outputs": [],
   "source": [
    "\n",
    "using LogProbs"
   ]
  },
  {
   "cell_type": "code",
   "execution_count": 3,
   "metadata": {},
   "outputs": [
    {
     "name": "stdout",
     "output_type": "stream",
     "text": [
      "Main.ChartParser.ParseForest{Main.ChartParser.IntervalRange,Int64,String,MetaRule{Int64,Int64},MetaRule{Int64,String},Int64,LogProb}(Main.ChartParser.Constituent{Main.ChartParser.IntervalRange,Int64,String,MetaRule{Int64,Int64},MetaRule{Int64,String},Int64,LogProb}[Main.ChartParser.Constituent{Main.ChartParser.IntervalRange,Int64,String,MetaRule{Int64,Int64},MetaRule{Int64,String},Int64,LogProb}(Main.ChartParser.ConstituentKey{Main.ChartParser.IntervalRange,Int64}(Main.ChartParser.IntervalRange(0, 3), 1), nothing, LogProb(0.008230452674897129), 2, nothing, Main.ChartParser.EdgeCompletion{Main.ChartParser.Edge{Main.ChartParser.IntervalRange,Int64,LogProb,Main.ChartParser.Constituent{Main.ChartParser.IntervalRange,Int64,String,MetaRule{Int64,Int64},MetaRule{Int64,String},Int64,LogProb}},MetaRule{Int64,Int64},LogProb}[Main.ChartParser.EdgeCompletion{Main.ChartParser.Edge{Main.ChartParser.IntervalRange,Int64,LogProb,Main.ChartParser.Constituent{Main.ChartParser.IntervalRange,Int64,String,MetaRule{Int64,Int64},MetaRule{Int64,String},Int64,LogProb}},MetaRule{Int64,Int64},LogProb}(Main.ChartParser.Edge{Main.ChartParser.IntervalRange,Int64,LogProb,Main.ChartParser.Constituent{Main.ChartParser.IntervalRange,Int64,String,MetaRule{Int64,Int64},MetaRule{Int64,String},Int64,LogProb}}(Main.ChartParser.EdgeKey{Main.ChartParser.IntervalRange,Int64}(Main.ChartParser.IntervalRange(0, 3), 31), nothing, LogProb(0.024691358024691374), 2, Main.ChartParser.Traversal{Main.ChartParser.Edge{Main.ChartParser.IntervalRange,Int64,LogProb,Main.ChartParser.Constituent{Main.ChartParser.IntervalRange,Int64,String,MetaRule{Int64,Int64},MetaRule{Int64,String},Int64,LogProb}},Main.ChartParser.Constituent{Main.ChartParser.IntervalRange,Int64,String,MetaRule{Int64,Int64},MetaRule{Int64,String},Int64,LogProb},LogProb}[Main.ChartParser.Traversal{Main.ChartParser.Edge{Main.ChartParser.IntervalRange,Int64,LogProb,Main.ChartParser.Constituent{Main.ChartParser.IntervalRange,Int64,String,MetaRule{Int64,Int64},MetaRule{Int64,String},Int64,LogProb}},Main.ChartParser.Constituent{Main.ChartParser.IntervalRange,Int64,String,MetaRule{Int64,Int64},MetaRule{Int64,String},Int64,LogProb},LogProb}(Main.ChartParser.Edge{Main.ChartParser.IntervalRange,Int64,LogProb,Main.ChartParser.Constituent{Main.ChartParser.IntervalRange,Int64,String,MetaRule{Int64,Int64},MetaRule{Int64,String},Int64,LogProb}}(Main.ChartParser.EdgeKey{Main.ChartParser.IntervalRange,Int64}(Main.ChartParser.IntervalRange(0, 2), 20), nothing, LogProb(0.03703703703703705), 2, Main.ChartParser.Traversal{Main.ChartParser.Edge{Main.ChartParser.IntervalRange,Int64,LogProb,Main.ChartParser.Constituent{Main.ChartParser.IntervalRange,Int64,String,MetaRule{Int64,Int64},MetaRule{Int64,String},Int64,LogProb}},Main.ChartParser.Constituent{Main.ChartParser.IntervalRange,Int64,String,MetaRule{Int64,Int64},MetaRule{Int64,String},Int64,LogProb},LogProb}[Main.ChartParser.Traversal{Main.ChartParser.Edge{Main.ChartParser.IntervalRange,Int64,LogProb,Main.ChartParser.Constituent{Main.ChartParser.IntervalRange,Int64,String,MetaRule{Int64,Int64},MetaRule{Int64,String},Int64,LogProb}},Main.ChartParser.Constituent{Main.ChartParser.IntervalRange,Int64,String,MetaRule{Int64,Int64},MetaRule{Int64,String},Int64,LogProb},LogProb}(nothing, Main.ChartParser.Constituent{Main.ChartParser.IntervalRange,Int64,String,MetaRule{Int64,Int64},MetaRule{Int64,String},Int64,LogProb}(Main.ChartParser.ConstituentKey{Main.ChartParser.IntervalRange,Int64}(Main.ChartParser.IntervalRange(0, 2), 1), nothing, LogProb(0.03703703703703705), 2, nothing, Main.ChartParser.EdgeCompletion{Main.ChartParser.Edge{Main.ChartParser.IntervalRange,Int64,LogProb,Main.ChartParser.Constituent{Main.ChartParser.IntervalRange,Int64,String,MetaRule{Int64,Int64},MetaRule{Int64,String},Int64,LogProb}},MetaRule{Int64,Int64},LogProb}[Main.ChartParser.EdgeCompletion{Main.ChartParser.Edge{Main.ChartParser.IntervalRange,Int64,LogProb,Main.ChartParser.Constituent{Main.ChartParser.IntervalRange,Int64,String,MetaRule{Int64,Int64},MetaRule{Int64,String},Int64,LogProb}},MetaRule{Int64,Int64},LogProb}(Main.ChartParser.Edge{Main.ChartParser.IntervalRange,Int64,LogProb,Main.ChartParser.Constituent{Main.ChartParser.IntervalRange,Int64,String,MetaRule{Int64,Int64},MetaRule{Int64,String},Int64,LogProb}}(Main.ChartParser.EdgeKey{Main.ChartParser.IntervalRange,Int64}(Main.ChartParser.IntervalRange(0, 2), 31), nothing, LogProb(0.11111111111111113), 2, Main.ChartParser.Traversal{Main.ChartParser.Edge{Main.ChartParser.IntervalRange,Int64,LogProb,Main.ChartParser.Constituent{Main.ChartParser.IntervalRange,Int64,String,MetaRule{Int64,Int64},MetaRule{Int64,String},Int64,LogProb}},Main.ChartParser.Constituent{Main.ChartParser.IntervalRange,Int64,String,MetaRule{Int64,Int64},MetaRule{Int64,String},Int64,LogProb},LogProb}[Main.ChartParser.Traversal{Main.ChartParser.Edge{Main.ChartParser.IntervalRange,Int64,LogProb,Main.ChartParser.Constituent{Main.ChartParser.IntervalRange,Int64,String,MetaRule{Int64,Int64},MetaRule{Int64,String},Int64,LogProb}},Main.ChartParser.Constituent{Main.ChartParser.IntervalRange,Int64,String,MetaRule{Int64,Int64},MetaRule{Int64,String},Int64,LogProb},LogProb}(Main.ChartParser.Edge{Main.ChartParser.IntervalRange,Int64,LogProb,Main.ChartParser.Constituent{Main.ChartParser.IntervalRange,Int64,String,MetaRule{Int64,Int64},MetaRule{Int64,String},Int64,LogProb}}(Main.ChartParser.EdgeKey{Main.ChartParser.IntervalRange,Int64}(Main.ChartParser.IntervalRange(0, 1), 20), nothing, LogProb(0.33333333333333337), 2, Main.ChartParser.Traversal{Main.ChartParser.Edge{Main.ChartParser.IntervalRange,Int64,LogProb,Main.ChartParser.Constituent{Main.ChartParser.IntervalRange,Int64,String,MetaRule{Int64,Int64},MetaRule{Int64,String},Int64,LogProb}},Main.ChartParser.Constituent{Main.ChartParser.IntervalRange,Int64,String,MetaRule{Int64,Int64},MetaRule{Int64,String},Int64,LogProb},LogProb}[Main.ChartParser.Traversal{Main.ChartParser.Edge{Main.ChartParser.IntervalRange,Int64,LogProb,Main.ChartParser.Constituent{Main.ChartParser.IntervalRange,Int64,String,MetaRule{Int64,Int64},MetaRule{Int64,String},Int64,LogProb}},Main.ChartParser.Constituent{Main.ChartParser.IntervalRange,Int64,String,MetaRule{Int64,Int64},MetaRule{Int64,String},Int64,LogProb},LogProb}(nothing, Main.ChartParser.Constituent{Main.ChartParser.IntervalRange,Int64,String,MetaRule{Int64,Int64},MetaRule{Int64,String},Int64,LogProb}(Main.ChartParser.ConstituentKey{Main.ChartParser.IntervalRange,Int64}(Main.ChartParser.IntervalRange(0, 1), 1), nothing, LogProb(0.33333333333333337), 2, Main.ChartParser.TerminalCompletion{String,MetaRule{Int64,String},LogProb}(\"1\", MetaRule(rules3), LogProb(0.33333333333333337)), Main.ChartParser.EdgeCompletion{Main.ChartParser.Edge{Main.ChartParser.IntervalRange,Int64,LogProb,Main.ChartParser.Constituent{Main.ChartParser.IntervalRange,Int64,String,MetaRule{Int64,Int64},MetaRule{Int64,String},Int64,LogProb}},MetaRule{Int64,Int64},LogProb}[]), LogProb(0.33333333333333337), false)]), Main.ChartParser.Constituent{Main.ChartParser.IntervalRange,Int64,String,MetaRule{Int64,Int64},MetaRule{Int64,String},Int64,LogProb}(Main.ChartParser.ConstituentKey{Main.ChartParser.IntervalRange,Int64}(Main.ChartParser.IntervalRange(1, 2), 1), nothing, LogProb(0.33333333333333337), 2, Main.ChartParser.TerminalCompletion{String,MetaRule{Int64,String},LogProb}(\"1\", MetaRule(rules3), LogProb(0.33333333333333337)), Main.ChartParser.EdgeCompletion{Main.ChartParser.Edge{Main.ChartParser.IntervalRange,Int64,LogProb,Main.ChartParser.Constituent{Main.ChartParser.IntervalRange,Int64,String,MetaRule{Int64,Int64},MetaRule{Int64,String},Int64,LogProb}},MetaRule{Int64,Int64},LogProb}[]), LogProb(0.11111111111111113), false)]), MetaRule(rules2), LogProb(0.03703703703703705), false)]), LogProb(0.03703703703703705), false)]), Main.ChartParser.Constituent{Main.ChartParser.IntervalRange,Int64,String,MetaRule{Int64,Int64},MetaRule{Int64,String},Int64,LogProb}(Main.ChartParser.ConstituentKey{Main.ChartParser.IntervalRange,Int64}(Main.ChartParser.IntervalRange(2, 3), 1), nothing, LogProb(0.33333333333333337), 2, Main.ChartParser.TerminalCompletion{String,MetaRule{Int64,String},LogProb}(\"1\", MetaRule(rules3), LogProb(0.33333333333333337)), Main.ChartParser.EdgeCompletion{Main.ChartParser.Edge{Main.ChartParser.IntervalRange,Int64,LogProb,Main.ChartParser.Constituent{Main.ChartParser.IntervalRange,Int64,String,MetaRule{Int64,Int64},MetaRule{Int64,String},Int64,LogProb}},MetaRule{Int64,Int64},LogProb}[]), LogProb(0.012345679012345685), false), Main.ChartParser.Traversal{Main.ChartParser.Edge{Main.ChartParser.IntervalRange,Int64,LogProb,Main.ChartParser.Constituent{Main.ChartParser.IntervalRange,Int64,String,MetaRule{Int64,Int64},MetaRule{Int64,String},Int64,LogProb}},Main.ChartParser.Constituent{Main.ChartParser.IntervalRange,Int64,String,MetaRule{Int64,Int64},MetaRule{Int64,String},Int64,LogProb},LogProb}(Main.ChartParser.Edge{Main.ChartParser.IntervalRange,Int64,LogProb,Main.ChartParser.Constituent{Main.ChartParser.IntervalRange,Int64,String,MetaRule{Int64,Int64},MetaRule{Int64,String},Int64,LogProb}}(Main.ChartParser.EdgeKey{Main.ChartParser.IntervalRange,Int64}(Main.ChartParser.IntervalRange(0, 1), 20), nothing, LogProb(0.33333333333333337), 2, Main.ChartParser.Traversal{Main.ChartParser.Edge{Main.ChartParser.IntervalRange,Int64,LogProb,Main.ChartParser.Constituent{Main.ChartParser.IntervalRange,Int64,String,MetaRule{Int64,Int64},MetaRule{Int64,String},Int64,LogProb}},Main.ChartParser.Constituent{Main.ChartParser.IntervalRange,Int64,String,MetaRule{Int64,Int64},MetaRule{Int64,String},Int64,LogProb},LogProb}[Main.ChartParser.Traversal{Main.ChartParser.Edge{Main.ChartParser.IntervalRange,Int64,LogProb,Main.ChartParser.Constituent{Main.ChartParser.IntervalRange,Int64,String,MetaRule{Int64,Int64},MetaRule{Int64,String},Int64,LogProb}},Main.ChartParser.Constituent{Main.ChartParser.IntervalRange,Int64,String,MetaRule{Int64,Int64},MetaRule{Int64,String},Int64,LogProb},LogProb}(nothing, Main.ChartParser.Constituent{Main.ChartParser.IntervalRange,Int64,String,MetaRule{Int64,Int64},MetaRule{Int64,String},Int64,LogProb}(Main.ChartParser.ConstituentKey{Main.ChartParser.IntervalRange,Int64}(Main.ChartParser.IntervalRange(0, 1), 1), nothing, LogProb(0.33333333333333337), 2, Main.ChartParser.TerminalCompletion{String,MetaRule{Int64,String},LogProb}(\"1\", MetaRule(rules3), LogProb(0.33333333333333337)), Main.ChartParser.EdgeCompletion{Main.ChartParser.Edge{Main.ChartParser.IntervalRange,Int64,LogProb,Main.ChartParser.Constituent{Main.ChartParser.IntervalRange,Int64,String,MetaRule{Int64,Int64},MetaRule{Int64,String},Int64,LogProb}},MetaRule{Int64,Int64},LogProb}[]), LogProb(0.33333333333333337), false)]), Main.ChartParser.Constituent{Main.ChartParser.IntervalRange,Int64,String,MetaRule{Int64,Int64},MetaRule{Int64,String},Int64,LogProb}(Main.ChartParser.ConstituentKey{Main.ChartParser.IntervalRange,Int64}(Main.ChartParser.IntervalRange(1, 3), 1), nothing, LogProb(0.03703703703703705), 2, nothing, Main.ChartParser.EdgeCompletion{Main.ChartParser.Edge{Main.ChartParser.IntervalRange,Int64,LogProb,Main.ChartParser.Constituent{Main.ChartParser.IntervalRange,Int64,String,MetaRule{Int64,Int64},MetaRule{Int64,String},Int64,LogProb}},MetaRule{Int64,Int64},LogProb}[Main.ChartParser.EdgeCompletion{Main.ChartParser.Edge{Main.ChartParser.IntervalRange,Int64,LogProb,Main.ChartParser.Constituent{Main.ChartParser.IntervalRange,Int64,String,MetaRule{Int64,Int64},MetaRule{Int64,String},Int64,LogProb}},MetaRule{Int64,Int64},LogProb}(Main.ChartParser.Edge{Main.ChartParser.IntervalRange,Int64,LogProb,Main.ChartParser.Constituent{Main.ChartParser.IntervalRange,Int64,String,MetaRule{Int64,Int64},MetaRule{Int64,String},Int64,LogProb}}(Main.ChartParser.EdgeKey{Main.ChartParser.IntervalRange,Int64}(Main.ChartParser.IntervalRange(1, 3), 31), nothing, LogProb(0.11111111111111113), 2, Main.ChartParser.Traversal{Main.ChartParser.Edge{Main.ChartParser.IntervalRange,Int64,LogProb,Main.ChartParser.Constituent{Main.ChartParser.IntervalRange,Int64,String,MetaRule{Int64,Int64},MetaRule{Int64,String},Int64,LogProb}},Main.ChartParser.Constituent{Main.ChartParser.IntervalRange,Int64,String,MetaRule{Int64,Int64},MetaRule{Int64,String},Int64,LogProb},LogProb}[Main.ChartParser.Traversal{Main.ChartParser.Edge{Main.ChartParser.IntervalRange,Int64,LogProb,Main.ChartParser.Constituent{Main.ChartParser.IntervalRange,Int64,String,MetaRule{Int64,Int64},MetaRule{Int64,String},Int64,LogProb}},Main.ChartParser.Constituent{Main.ChartParser.IntervalRange,Int64,String,MetaRule{Int64,Int64},MetaRule{Int64,String},Int64,LogProb},LogProb}(Main.ChartParser.Edge{Main.ChartParser.IntervalRange,Int64,LogProb,Main.ChartParser.Constituent{Main.ChartParser.IntervalRange,Int64,String,MetaRule{Int64,Int64},MetaRule{Int64,String},Int64,LogProb}}(Main.ChartParser.EdgeKey{Main.ChartParser.IntervalRange,Int64}(Main.ChartParser.IntervalRange(1, 2), 20), nothing, LogProb(0.33333333333333337), 2, Main.ChartParser.Traversal{Main.ChartParser.Edge{Main.ChartParser.IntervalRange,Int64,LogProb,Main.ChartParser.Constituent{Main.ChartParser.IntervalRange,Int64,String,MetaRule{Int64,Int64},MetaRule{Int64,String},Int64,LogProb}},Main.ChartParser.Constituent{Main.ChartParser.IntervalRange,Int64,String,MetaRule{Int64,Int64},MetaRule{Int64,String},Int64,LogProb},LogProb}[Main.ChartParser.Traversal{Main.ChartParser.Edge{Main.ChartParser.IntervalRange,Int64,LogProb,Main.ChartParser.Constituent{Main.ChartParser.IntervalRange,Int64,String,MetaRule{Int64,Int64},MetaRule{Int64,String},Int64,LogProb}},Main.ChartParser.Constituent{Main.ChartParser.IntervalRange,Int64,String,MetaRule{Int64,Int64},MetaRule{Int64,String},Int64,LogProb},LogProb}(nothing, Main.ChartParser.Constituent{Main.ChartParser.IntervalRange,Int64,String,MetaRule{Int64,Int64},MetaRule{Int64,String},Int64,LogProb}(Main.ChartParser.ConstituentKey{Main.ChartParser.IntervalRange,Int64}(Main.ChartParser.IntervalRange(1, 2), 1), nothing, LogProb(0.33333333333333337), 2, Main.ChartParser.TerminalCompletion{String,MetaRule{Int64,String},LogProb}(\"1\", MetaRule(rules3), LogProb(0.33333333333333337)), Main.ChartParser.EdgeCompletion{Main.ChartParser.Edge{Main.ChartParser.IntervalRange,Int64,LogProb,Main.ChartParser.Constituent{Main.ChartParser.IntervalRange,Int64,String,MetaRule{Int64,Int64},MetaRule{Int64,String},Int64,LogProb}},MetaRule{Int64,Int64},LogProb}[]), LogProb(0.33333333333333337), false)]), Main.ChartParser.Constituent{Main.ChartParser.IntervalRange,Int64,String,MetaRule{Int64,Int64},MetaRule{Int64,String},Int64,LogProb}(Main.ChartParser.ConstituentKey{Main.ChartParser.IntervalRange,Int64}(Main.ChartParser.IntervalRange(2, 3), 1), nothing, LogProb(0.33333333333333337), 2, Main.ChartParser.TerminalCompletion{String,MetaRule{Int64,String},LogProb}(\"1\", MetaRule(rules3), LogProb(0.33333333333333337)), Main.ChartParser.EdgeCompletion{Main.ChartParser.Edge{Main.ChartParser.IntervalRange,Int64,LogProb,Main.ChartParser.Constituent{Main.ChartParser.IntervalRange,Int64,String,MetaRule{Int64,Int64},MetaRule{Int64,String},Int64,LogProb}},MetaRule{Int64,Int64},LogProb}[]), LogProb(0.11111111111111113), false)]), MetaRule(rules2), LogProb(0.03703703703703705), false)]), LogProb(0.012345679012345685), false)]), MetaRule(rules2), LogProb(0.008230452674897129), false)])], "
     ]
    },
    {
     "name": "stdout",
     "output_type": "stream",
     "text": [
      "[\"1\", \"1\", \"1\"])"
     ]
    }
   ],
   "source": [
    "## Test 1\n",
    "\n",
    "ascend = MetaRule([CFRule(i, [i, i+1]) for i in (1:10)])\n",
    "double = MetaRule([CFRule(i, [i, i]) for i in (1:10)])\n",
    "terminate = MetaRule([CFRule(i, [string(i)]) for i in (1:10)])\n",
    "\n",
    "\n",
    "test_grammar = CFGrammar([ascend, double], [terminate], [1])\n",
    "\n",
    "#returns a ParseForest obj that contains all the completed parses from chart\n",
    "forest = run_chartparser([\"1\" for i in 1:3], test_grammar)\n",
    "print(forest)"
   ]
  },
  {
   "cell_type": "code",
   "execution_count": 4,
   "metadata": {},
   "outputs": [
    {
     "data": {
      "text/plain": [
       "Grammar (generic function with 2 methods)"
      ]
     },
     "execution_count": 4,
     "metadata": {},
     "output_type": "execute_result"
    }
   ],
   "source": [
    "function split_category_from_terminal_rules(rules_string::AbstractString)\n",
    "    rule_string_lists = map(split, split(rules_string, \"\\n\"))\n",
    "    terminal_rule_stringlists = Vector{String}[]\n",
    "    category_rule_stringlists = Vector{String}[]\n",
    "    for lst in rule_string_lists\n",
    "        if !isempty(lst)\n",
    "            if lst[end][1] == '_'\n",
    "                corrected_lst = [s[1] == '_' ? s[2:end] : s for s in lst]\n",
    "                push!(terminal_rule_stringlists, corrected_lst)\n",
    "            else\n",
    "                push!(category_rule_stringlists, lst)\n",
    "            end\n",
    "        end\n",
    "    end\n",
    "    category_rule_stringlists, terminal_rule_stringlists\n",
    "end\n",
    "\n",
    "function Grammar(rules_string::AbstractString, startsymbols, Score=LogProb)\n",
    "    category_rules, terminal_rules = split_category_from_terminal_rules(rules_string)\n",
    "    CFGrammar(category_rules, terminal_rules, startsymbols, Score)\n",
    "end"
   ]
  },
  {
   "cell_type": "code",
   "execution_count": 5,
   "metadata": {},
   "outputs": [
    {
     "data": {
      "text/plain": [
       "read_treebank_grammar (generic function with 2 methods)"
      ]
     },
     "execution_count": 5,
     "metadata": {},
     "output_type": "execute_result"
    }
   ],
   "source": [
    "function read_treebank_grammar(number_sentences::Int, Score=LogProb)\n",
    "    @assert number_sentences in (1, 5, 50, 500, 972)\n",
    "    grammarfile = joinpath(\"..\",\"src\",\"WSJ\", \"WSJ_data\", \"WSJ.$number_sentences.grammar.txt\")\n",
    "    io = open(grammarfile, \"r\")\n",
    "    grammarstring = read(io, String)\n",
    "    Grammar(grammarstring, [\"START\"])\n",
    "end"
   ]
  },
  {
   "cell_type": "code",
   "execution_count": 6,
   "metadata": {},
   "outputs": [
    {
     "data": {
      "text/plain": [
       "compute_treebank_scores (generic function with 2 methods)"
      ]
     },
     "execution_count": 6,
     "metadata": {},
     "output_type": "execute_result"
    }
   ],
   "source": [
    "function compute_treebank_scores(number_sentences::Int, Score=LogProb)\n",
    "    @assert number_sentences in (1, 5, 50, 500, 972)\n",
    "    grammar=read_treebank_grammar(number_sentences, Score)\n",
    "    sentences = map(split, readlines(joinpath(\"..\",\"src\",\"WSJ\", \"WSJ_data\", \"WSJ.$number_sentences.sentences.txt\")))\n",
    "    scores = zeros(Score, length(sentences))\n",
    "    for (i,s) in enumerate(sentences)\n",
    "        scores[i] = score(run_chartparser(s, grammar))\n",
    "    end\n",
    "    scores\n",
    "end"
   ]
  },
  {
   "cell_type": "code",
   "execution_count": 17,
   "metadata": {},
   "outputs": [
    {
     "data": {
      "text/plain": [
       "treebank_goldstandard_scores (generic function with 2 methods)"
      ]
     },
     "execution_count": 17,
     "metadata": {},
     "output_type": "execute_result"
    }
   ],
   "source": [
    "function treebank_goldstandard_scores(number_sentences::Int, Score=LogProb)\n",
    "     @assert number_sentences in (1, 5, 50, 500, 972)\n",
    "    lines = readlines(joinpath(\"..\",\"src\",\"WSJ\", \"WSJ_data\", \"WSJ.$number_sentences.scores.txt\"))\n",
    "    scores = zeros(Score, length(lines))\n",
    "    for (i,ln) in enumerate(lines)\n",
    "        scores[i] = Score(parse(Float64, ln), islog=true)\n",
    "    end\n",
    "    scores\n",
    "end"
   ]
  },
  {
   "cell_type": "code",
   "execution_count": 18,
   "metadata": {},
   "outputs": [
    {
     "data": {
      "text/plain": [
       "1-element Array{LogProb,1}:\n",
       " LogProb(3.0021655020111464e-21)"
      ]
     },
     "execution_count": 18,
     "metadata": {},
     "output_type": "execute_result"
    }
   ],
   "source": [
    "parser_scores1 = compute_treebank_scores(1)\n",
    "gold_scores1 = treebank_goldstandard_scores(1)"
   ]
  },
  {
   "cell_type": "code",
   "execution_count": 9,
   "metadata": {},
   "outputs": [
    {
     "data": {
      "text/plain": [
       "1-element Array{LogProb,1}:\n",
       " LogProb(3.0021800153636974e-21)"
      ]
     },
     "execution_count": 9,
     "metadata": {},
     "output_type": "execute_result"
    }
   ],
   "source": [
    "parser_scores1"
   ]
  },
  {
   "cell_type": "code",
   "execution_count": 19,
   "metadata": {},
   "outputs": [
    {
     "data": {
      "text/plain": [
       "1-element Array{LogProb,1}:\n",
       " LogProb(3.0021655020111464e-21)"
      ]
     },
     "execution_count": 19,
     "metadata": {},
     "output_type": "execute_result"
    }
   ],
   "source": [
    "gold_scores1"
   ]
  },
  {
   "cell_type": "code",
   "execution_count": 22,
   "metadata": {},
   "outputs": [
    {
     "data": {
      "text/plain": [
       "5-element Array{LogProb,1}:\n",
       " LogProb(4.3995116067547213e-35)\n",
       "  LogProb(2.129870504765186e-49)\n",
       " LogProb(2.0056786835357826e-28)\n",
       " LogProb(2.8489015121513312e-27)\n",
       "  LogProb(7.332156520780076e-34)"
      ]
     },
     "execution_count": 22,
     "metadata": {},
     "output_type": "execute_result"
    }
   ],
   "source": [
    "parser_scores5 = compute_treebank_scores(5)"
   ]
  },
  {
   "cell_type": "code",
   "execution_count": 24,
   "metadata": {},
   "outputs": [
    {
     "data": {
      "text/plain": [
       "5-element Array{LogProb,1}:\n",
       "  LogProb(4.399489151673981e-35)\n",
       " LogProb(2.1298578165678774e-49)\n",
       " LogProb(2.0056710289225466e-28)\n",
       " LogProb(2.8488894256850852e-27)\n",
       "  LogProb(7.332125679036439e-34)"
      ]
     },
     "execution_count": 24,
     "metadata": {},
     "output_type": "execute_result"
    }
   ],
   "source": [
    "gold_scores5 = treebank_goldstandard_scores(5)"
   ]
  },
  {
   "cell_type": "code",
   "execution_count": 25,
   "metadata": {},
   "outputs": [
    {
     "data": {
      "text/plain": [
       "50-element Array{LogProb,1}:\n",
       "  LogProb(2.981175848344592e-55)\n",
       " LogProb(1.2906245229672493e-75)\n",
       "  LogProb(8.014680943439216e-44)\n",
       " LogProb(2.2485813146848427e-43)\n",
       "  LogProb(3.740805122635451e-52)\n",
       " LogProb(1.2934198552150024e-35)\n",
       " LogProb(1.3242799721968899e-80)\n",
       "  LogProb(8.436181223164396e-83)\n",
       " LogProb(7.160955933336326e-117)\n",
       " LogProb(6.086310131631381e-104)\n",
       " LogProb(2.6380422615540024e-39)\n",
       "  LogProb(2.957980241832018e-51)\n",
       "  LogProb(2.774799614436636e-71)\n",
       "                               ⋮\n",
       " LogProb(1.3014971317060214e-65)\n",
       "  LogProb(3.253693291348668e-22)\n",
       "   LogProb(4.48291449637698e-28)\n",
       "   LogProb(3.840068842058428e-7)\n",
       "  LogProb(3.227616979224225e-65)\n",
       "  LogProb(9.219846727625642e-12)\n",
       "   LogProb(1.920034420952307e-7)\n",
       "   LogProb(5.66712461031712e-49)\n",
       "   LogProb(2.120564959361192e-9)\n",
       "   LogProb(4.88013132656555e-53)\n",
       "  LogProb(8.810970539189991e-27)\n",
       "  LogProb(5.881924085431823e-34)"
      ]
     },
     "execution_count": 25,
     "metadata": {},
     "output_type": "execute_result"
    }
   ],
   "source": [
    "gold_scores50 = treebank_goldstandard_scores(50)"
   ]
  },
  {
   "cell_type": "code",
   "execution_count": 26,
   "metadata": {},
   "outputs": [
    {
     "data": {
      "text/plain": [
       "50-element Array{LogProb,1}:\n",
       "   LogProb(5.963738023306235e-55)\n",
       "   LogProb(1.288498847271789e-75)\n",
       "   LogProb(8.009555890977644e-44)\n",
       "  LogProb(2.2486403376789327e-43)\n",
       "   LogProb(3.744024060895086e-52)\n",
       "  LogProb(1.2927355675059104e-35)\n",
       "   LogProb(1.311204704921159e-80)\n",
       "   LogProb(8.085078465646936e-83)\n",
       " LogProb(1.3923169728982338e-116)\n",
       "   LogProb(5.76322073666404e-104)\n",
       "  LogProb(2.6360188669399398e-39)\n",
       "  LogProb(2.9581108912458104e-51)\n",
       "  LogProb(2.7417368784126794e-71)\n",
       "                                ⋮\n",
       "  LogProb(1.2981649446202324e-65)\n",
       "   LogProb(3.253701104435802e-22)\n",
       "    LogProb(4.49062568383613e-28)\n",
       "    LogProb(3.840070405954712e-7)\n",
       "   LogProb(9.644623534455353e-65)\n",
       "   LogProb(9.219853247932983e-12)\n",
       "    LogProb(1.920035202977356e-7)\n",
       "   LogProb(5.667071864832517e-49)\n",
       "   LogProb(2.1205662470245882e-9)\n",
       "   LogProb(9.765692763692677e-53)\n",
       "   LogProb(1.762199302016002e-26)\n",
       "  LogProb(1.1776356346064007e-33)"
      ]
     },
     "execution_count": 26,
     "metadata": {},
     "output_type": "execute_result"
    }
   ],
   "source": [
    "parser_scores50 = compute_treebank_scores(50)"
   ]
  },
  {
   "cell_type": "code",
   "execution_count": 28,
   "metadata": {},
   "outputs": [
    {
     "name": "stdout",
     "output_type": "stream",
     "text": [
      "-124.85648264507515\n",
      "-172.44040411807157\n",
      "-99.23310877651723\n",
      "-98.20083325955198\n",
      "-118.41426385057456\n",
      "-80.33371768674003\n",
      "-183.9358611028267\n",
      "-189.02454252043452\n",
      "-266.76890154090376\n",
      "-237.7173531972714\n",
      "-88.83154885274041\n",
      "-116.34728889052155\n",
      "-162.47494998577434\n",
      "-55.598086224955324\n",
      "-154.19220872706651\n",
      "-215.76987345856705\n",
      "-124.7423966261127\n",
      "-124.85679394522751\n",
      "-74.055889227019\n",
      "-96.03706927949685\n",
      "-113.4045365155372\n",
      "-207.34840458491627\n",
      "-153.13264284655662\n",
      "-241.0471156317203\n",
      "-107.97855799149832\n",
      "-122.68013517761777\n",
      "-152.90787724650454\n",
      "-132.04252719408942\n",
      "-217.15926884953382\n",
      "-181.7112821432861\n",
      "-140.17869225572318\n",
      "-90.92240771466666\n",
      "-147.39979232478905\n",
      "-69.3913280685186\n",
      "-88.58991083182386\n",
      "-175.09887186460008\n",
      "-162.12290604298516\n",
      "-81.25439913729073\n",
      "-149.40707935842593\n",
      "-49.4770788961049\n",
      "-62.9703905612672\n",
      "-14.772604949642727\n",
      "-147.40163043121453\n",
      "-25.409661995196807\n",
      "-15.465752130202672\n",
      "-111.09199699831785\n",
      "-19.97158268627361\n",
      "-119.75813442332964\n",
      "-59.30064978548148\n",
      "-75.82179933990338\n"
     ]
    }
   ],
   "source": [
    "for s in parser_scores50\n",
    "    print(s.log)\n",
    "    print(\"\\n\")\n",
    "end"
   ]
  },
  {
   "cell_type": "code",
   "execution_count": 29,
   "metadata": {},
   "outputs": [
    {
     "name": "stdout",
     "output_type": "stream",
     "text": [
      "-125.549862312\n",
      "-172.438755747\n",
      "-99.2324691139\n",
      "-98.2008595082\n",
      "-118.415123974\n",
      "-80.3331884937\n",
      "-183.925938545\n",
      "-188.982032974\n",
      "-267.433812398\n",
      "-237.662807663\n",
      "-88.8307815523\n",
      "-116.347333058\n",
      "-162.462963069\n",
      "-55.5859518399\n",
      "-154.880840481\n",
      "-215.76746764\n",
      "-125.435494887\n",
      "-124.85680553\n",
      "-74.7484854966\n",
      "-96.0343958057\n",
      "-113.404584324\n",
      "-207.334542005\n",
      "-153.132681118\n",
      "-241.740837385\n",
      "-107.97623458\n",
      "-122.680165266\n",
      "-152.901201247\n",
      "-132.042588739\n",
      "-217.096934936\n",
      "-182.404447968\n",
      "-140.178886353\n",
      "-90.9210965202\n",
      "-148.093212012\n",
      "-69.3911739797\n",
      "-89.2830958991\n",
      "-175.048432388\n",
      "-162.709640581\n",
      "-81.2542605111\n",
      "-149.404515803\n",
      "-49.4770812974\n",
      "-62.9721092117\n",
      "-14.7726053569\n",
      "-148.496286957\n",
      "-25.4096627024\n",
      "-15.4657525375\n",
      "-111.091987691\n",
      "-19.9715832935\n",
      "-120.451837798\n",
      "-59.9937999136\n",
      "-76.516009228\n"
     ]
    }
   ],
   "source": [
    "for s in gold_scores50\n",
    "    print(s.log)\n",
    "    print(\"\\n\")\n",
    "end"
   ]
  },
  {
   "cell_type": "code",
   "execution_count": null,
   "metadata": {},
   "outputs": [],
   "source": []
  }
 ],
 "metadata": {
  "kernelspec": {
   "display_name": "Julia 1.2.0",
   "language": "julia",
   "name": "julia-1.2"
  },
  "language_info": {
   "file_extension": ".jl",
   "mimetype": "application/julia",
   "name": "julia",
   "version": "1.2.0"
  }
 },
 "nbformat": 4,
 "nbformat_minor": 2
}
