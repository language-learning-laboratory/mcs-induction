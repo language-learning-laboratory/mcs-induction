{
 "cells": [
  {
   "cell_type": "code",
   "execution_count": 1,
   "metadata": {},
   "outputs": [
    {
     "data": {
      "text/plain": [
       "isapprox (generic function with 9 methods)"
      ]
     },
     "execution_count": 1,
     "metadata": {},
     "output_type": "execute_result"
    }
   ],
   "source": [
    "import Base: show, log, float, rand, isapprox\n",
    "import Base: ==, hash\n",
    "import Base: zero, one, +, -, *, /, isless\n",
    "\n",
    "using StatsFuns: logaddexp, log1mexp\n",
    "\n",
    "export LogProb, information\n",
    "\n",
    "\"\"\"\n",
    "    LogProb(x)\n",
    "Create a container of a positive real number `x`\n",
    "for convenient calculations with logspace probabilities\n",
    "see https://en.wikipedia.org/wiki/Log_probability\n",
    "\"\"\"\n",
    "struct LogProb <: Number\n",
    "    log :: Float64\n",
    "    LogProb(number; islog::Bool=false) = islog ? new(number) : new(log(number))\n",
    "end\n",
    "\n",
    "show(io::IO, x::LogProb)  = print(io, \"LogProb($(float(x)))\")\n",
    "\n",
    "==(x::LogProb,y::LogProb) = x.log == y.log\n",
    "hash(x::LogProb)          = hash(LogProb, hash(x.log))\n",
    "\n",
    "rand(::Type{LogProb})     = LogProb(rand())\n",
    "\n",
    "float(x::LogProb)         = exp(x.log)\n",
    "log(x::LogProb)           = x.log\n",
    "\n",
    "\"\"\"\n",
    "    information(p::LogProb)\n",
    "Calculate the Shannon information content of `p` in bits\n",
    "\"\"\"\n",
    "information(x::LogProb)   = - log(x) / log(2)\n",
    "\n",
    "one( ::Type{LogProb})     = LogProb(1)\n",
    "zero(::Type{LogProb})     = LogProb(0)\n",
    "\n",
    "*(x::LogProb, y::LogProb) = LogProb(x.log + y.log, islog=true)\n",
    "/(x::LogProb, y::LogProb) = LogProb(x.log - y.log, islog=true)\n",
    "+(x::LogProb, y::LogProb) = LogProb(logaddexp(x.log, y.log), islog=true)\n",
    "-(x::LogProb, y::LogProb) = LogProb(x.log + log1mexp(y.log-x.log), islog=true)\n",
    "\n",
    "isless(  x::LogProb, y::LogProb) = isless(  x.log, y.log)\n",
    "isapprox(x::LogProb, y::LogProb) = isapprox(x.log, y.log)"
   ]
  },
  {
   "cell_type": "code",
   "execution_count": 2,
   "metadata": {},
   "outputs": [],
   "source": [
    "a = nothing"
   ]
  },
  {
   "cell_type": "code",
   "execution_count": 3,
   "metadata": {},
   "outputs": [],
   "source": [
    "a"
   ]
  },
  {
   "cell_type": "code",
   "execution_count": 1,
   "metadata": {},
   "outputs": [
    {
     "data": {
      "text/plain": [
       "Test"
      ]
     },
     "execution_count": 1,
     "metadata": {},
     "output_type": "execute_result"
    }
   ],
   "source": [
    "struct Test{S}\n",
    "    a :: Union{S, Nothing}\n",
    "    b :: Bool\n",
    "end\n",
    "\n",
    "Test(edge) = Test{Int}(edge, true)\n",
    "Test(nothing) = Test{Int}(nothing, false)"
   ]
  },
  {
   "cell_type": "code",
   "execution_count": 2,
   "metadata": {},
   "outputs": [
    {
     "data": {
      "text/plain": [
       "Test{Int64}(nothing, false)"
      ]
     },
     "execution_count": 2,
     "metadata": {},
     "output_type": "execute_result"
    }
   ],
   "source": [
    "t = Test(nothing)"
   ]
  },
  {
   "cell_type": "code",
   "execution_count": 3,
   "metadata": {},
   "outputs": [],
   "source": [
    "t.a"
   ]
  },
  {
   "cell_type": "code",
   "execution_count": null,
   "metadata": {},
   "outputs": [],
   "source": []
  }
 ],
 "metadata": {
  "kernelspec": {
   "display_name": "Julia 1.2.0",
   "language": "julia",
   "name": "julia-1.2"
  },
  "language_info": {
   "file_extension": ".jl",
   "mimetype": "application/julia",
   "name": "julia",
   "version": "1.2.0"
  }
 },
 "nbformat": 4,
 "nbformat_minor": 2
}
