{
 "cells": [
  {
   "cell_type": "code",
   "execution_count": 1,
   "metadata": {},
   "outputs": [
    {
     "data": {
      "text/plain": [
       "types (generic function with 1 method)"
      ]
     },
     "execution_count": 1,
     "metadata": {},
     "output_type": "execute_result"
    }
   ],
   "source": [
    "using LogProbs\n",
    "using StatsFuns.RFunctions: gammarand\n",
    "using SpecialFunctions: logbeta\n",
    "import Base: +, -, *, /, zero, one, <, ==\n",
    "\n",
    "\n",
    "\n",
    "#############################\n",
    "### Dirichlet Multinomial ###\n",
    "#############################\n",
    "\n",
    "function categorical_sample(tokens, weights)\n",
    "    T = eltype(weights)\n",
    "    x = rand(T) * sum(weights)\n",
    "    cum_weights = zero(T)\n",
    "    for (t, w) in zip(tokens, weights)\n",
    "        cum_weights += w\n",
    "        if cum_weights > x\n",
    "            return t\n",
    "        end\n",
    "    end\n",
    "end\n",
    "\n",
    "categorical_sample(d::Dict) = categorical_sample(keys(d), values(d))\n",
    "categorical_sample(v::Vector) = categorical_sample(1:length(v), v)\n",
    "\n",
    "abstract type Distribution{T} end\n",
    "\n",
    "mutable struct DirCat{T, C} <: Distribution{T}\n",
    "    counts :: Dict{T, C}\n",
    "end\n",
    "\n",
    "DirCat(support, priors) = DirCat(Dict(x => p for (x,p) in zip(support, priors)))\n",
    "support(dc::DirCat) = keys(dc.counts)\n",
    "\n",
    "function sample(dc::DirCat)\n",
    "    weights = [gammarand(c, 1) for c in values(dc.counts)]\n",
    "    categorical_sample(keys(dc.counts), weights)\n",
    "end\n",
    "\n",
    "function logscore(dc::DirCat, obs)\n",
    "    LogProb(logbeta(sum(values(dc.counts)), 1) - logbeta(dc.counts[obs], 1); islog=true)\n",
    "end\n",
    "\n",
    "function add_obs!(dc::DirCat, obs)\n",
    "    dc.counts[obs] += 1\n",
    "end\n",
    "\n",
    "function rm_obs!(dc::DirCat, obs)\n",
    "    dc.counts[obs] -= 1\n",
    "end\n",
    "\n",
    "\n",
    "################################\n",
    "### Conditional Distribution ###\n",
    "################################\n",
    "\n",
    "struct SimpleCond{C, D, S} # context, distribution, support\n",
    "    dists   :: Dict{C, D}\n",
    "    support :: S\n",
    "    SimpleCond(dists::Dict{C, D}, support::S) where {C, D, S} =\n",
    "        new{C, D, S}(dists, unique(support))\n",
    "end\n",
    "\n",
    "function SimpleCond(dists::AbstractDict)\n",
    "    SimpleCond(\n",
    "        dists,\n",
    "        vcat([collect(support(dist)) for dist in values(dists)]...)\n",
    "    )\n",
    "end\n",
    "\n",
    "sample(sc::SimpleCond, context, args...) = sample(sc.dists[context], args...)\n",
    "logscore(sc::SimpleCond, obs, context) = logscore(sc.dists[context], obs)\n",
    "rm_obs!(sc::SimpleCond, obs, context) = rm_obs!(sc.dists[context], obs)\n",
    "\n",
    "score_type(::SimpleCond) = LogProb\n",
    "\n",
    "function add_obs!(cond::SimpleCond{C,D,S}, obs, context) where {C,D,S}\n",
    "    if !haskey(cond.dists, context)\n",
    "        cond.dists[context] = D(cond.support)\n",
    "    end\n",
    "    add_obs!(cond.dists[context], obs)\n",
    "end\n",
    "\n",
    "###############\n",
    "### CFRules ###\n",
    "###############\n",
    "\n",
    "mutable struct RunningCounter\n",
    "    n :: Int\n",
    "end\n",
    "\n",
    "RunningCounter() = RunningCounter(0)\n",
    "count!(c::RunningCounter) = c.n += 1\n",
    "\n",
    "rule_counter = RunningCounter()\n",
    "\n",
    "struct CFRules{LHS, RHS} # left hand side and right hand side of the rule\n",
    "    mappings ::Dict{LHS, Vector{RHS}}\n",
    "    name :: Symbol\n",
    "end\n",
    "\n",
    "==(r1::CFRules, r2::CFRules) = r1.name == r2.name\n",
    "hash(r::CFRules, h::UInt) = hash(hash(CFRules, hash(r.name)), h)\n",
    "\n",
    "Base.show(io::IO, r::CFRules) = print(io, \"CFRules($(r.name))\")\n",
    "\n",
    "CFRules(pairs::Pair...) =\n",
    "    CFRules(Dict(pairs...), Symbol(\"rules\", count!(rule_counter)))\n",
    "CFRules(g::Base.Generator) =\n",
    "    CFRules(Dict(g), Symbol(\"rules\", count!(rule_counter)))\n",
    "CFRules(f::Function, lhss, name) =\n",
    "    CFRules(Dict(lhs => f(lhs) for lhs in lhss), name)\n",
    "CFRules(f::Function, lhss) =\n",
    "    CFRules(Dict(lhs => f(lhs) for lhs in lhss), Symbol(\"rules\", count!(rule_counter)))\n",
    "\n",
    "lhss(r::CFRules) = keys(r.mappings) # aka domain\n",
    "isapplicable(r::CFRules, lhs) = haskey(r.mappings, lhs)\n",
    "(r::CFRules)(lhs) = r.mappings[lhs]\n",
    "\n",
    "###############\n",
    "### CFState ###\n",
    "###############\n",
    "\n",
    "\n",
    "mutable struct CompletionAutomaton{Cat,Comp} # category, completion\n",
    "    transitions :: Vector{Dict{Cat, Int}}\n",
    "    completions :: Vector{Vector{Comp}}\n",
    "end\n",
    "\n",
    "CompletionAutomaton(Cat::Type, Comp::Type) =\n",
    "    CompletionAutomaton([Dict{Cat, Int}()], [Vector{Comp}()])\n",
    "\n",
    "number_of_states(ca::CompletionAutomaton) = length(ca.transitions)\n",
    "isfinal(ca::CompletionAutomaton, s) = isempty(ca.transitions[s])\n",
    "is_possible_transition(ca::CompletionAutomaton, s, c) = haskey(ca.transitions[s], c)\n",
    "transition(ca::CompletionAutomaton, s, c) = ca.transitions[s][c]\n",
    "completions(ca::CompletionAutomaton, s) = ca.completions[s]\n",
    "\n",
    "#Not sure what is going on here\n",
    "function add_completion!(ca::CompletionAutomaton{Cat,Comp}, comp, categories) where {Cat,Comp}\n",
    "    s = 1\n",
    "    for c in categories\n",
    "        if is_possible_transition(ca, s, c)\n",
    "            s = transition(ca, s, c)\n",
    "        else\n",
    "            push!(ca.transitions, Dict{Cat,Int}())\n",
    "            push!(ca.completions, Vector{Comp}())\n",
    "            s = ca.transitions[s][c] = number_of_states(ca)\n",
    "        end\n",
    "    end\n",
    "    push!(ca.completions[s], comp)\n",
    "end\n",
    "\n",
    "function add_rule!(ca::CompletionAutomaton, r::CFRules)\n",
    "    for lhs in lhss(r)\n",
    "        add_completion!(ca, (lhs, r), r(lhs))\n",
    "    end\n",
    "end\n",
    "\n",
    "#################\n",
    "### CFGrammar ###\n",
    "#################\n",
    "\n",
    "struct CFGrammar{C, T, Cond, F}\n",
    "    comp_automtn  :: CompletionAutomaton{C, Tuple{C, CFRules{C, C}}}\n",
    "    startsymbols  :: Vector{C}\n",
    "    terminal_dict :: Dict{T, Vector{Tuple{C, CFRules{C, T}}}}\n",
    "    cond          :: Cond # conditional scoring\n",
    "    dependent_components::F\n",
    "end\n",
    "\n",
    "function CFGrammar(\n",
    "        category_rules::Vector{CFRules{C, C}},\n",
    "        terminal_rules::Vector{CFRules{C, T}},\n",
    "        startsymbols  ::Vector{C},\n",
    "        dependent_components=identity::Function\n",
    "        ) where {C, T}\n",
    "    comp_automtn = CompletionAutomaton(C, Tuple{C, CFRules{C, C}})\n",
    "    for r in category_rules\n",
    "        add_rule!(comp_automtn, r)\n",
    "    end\n",
    "\n",
    "    terminal_dict = Dict{T, Vector{Tuple{C, CFRules{C, T}}}}()\n",
    "    for r in terminal_rules\n",
    "        for lhs in lhss(r)\n",
    "        t = r(lhs)[1]\n",
    "            if haskey(terminal_dict, t)\n",
    "                push!(terminal_dict[t], (lhs, r))\n",
    "            else\n",
    "                terminal_dict[t] = [(lhs, r)]\n",
    "            end\n",
    "        end\n",
    "    end\n",
    "\n",
    "    applicable_rules = Dict{C, Vector{CFRules}}()\n",
    "    for r in CFRules[category_rules; terminal_rules]\n",
    "        for c in lhss(r)\n",
    "            if haskey(applicable_rules, c)\n",
    "                push!(applicable_rules[c], r)\n",
    "            else\n",
    "                applicable_rules[c] = CFRules[r]\n",
    "            end\n",
    "        end\n",
    "    end\n",
    "\n",
    "    cond = SimpleCond(\n",
    "        Dict(\n",
    "            dependent_components(c) => let rules = applicable_rules[c]\n",
    "                n = length(rules)\n",
    "                k = count(isa.(rules, CFRules{C, T})) # number terminal rules\n",
    "                DirCat(rules, [fill(1.0, n-k); fill(1/k, k)])\n",
    "            end\n",
    "            for c in keys(applicable_rules)\n",
    "        )\n",
    "    )\n",
    "\n",
    "    CFGrammar(comp_automtn, startsymbols, terminal_dict, cond, dependent_components)\n",
    "end\n",
    "\n",
    "dependent_components(g::CFGrammar, c) = g.dependent_components(c)\n",
    "\n",
    "startstate(g::CFGrammar) = 1\n",
    "startsymbols(g::CFGrammar) = g.startsymbols\n",
    "\n",
    "isfinal(g::CFGrammar, s) = isfinal(g.comp_automtn, s)\n",
    "is_possible_transition(g::CFGrammar, s, c) = is_possible_transition(g.comp_automtn, s, c)\n",
    "transition(g::CFGrammar, s, c) = transition(g.comp_automtn, s, c)\n",
    "\n",
    "completions(g::CFGrammar, s::Int) =\n",
    "    ((c, r, score(g, c, r)) for (c, r) in completions(g.comp_automtn, s))\n",
    "completions(g::CFGrammar, t) =\n",
    "    ((c, r, score(g, c, r)) for (c, r) in g.terminal_dict[t])\n",
    "\n",
    "score(g::CFGrammar, c, r) = logscore(g.cond, r, dependent_components(g, c))\n",
    "\n",
    "@inline function types(grammar::CFGrammar{C, T, Cond}) where {C, T, Cond}\n",
    "    C, T, CFRules{C, C}, CFRules{C, T}, Int, LogProb\n",
    "end\n",
    "\n"
   ]
  },
  {
   "cell_type": "code",
   "execution_count": 2,
   "metadata": {},
   "outputs": [
    {
     "data": {
      "text/plain": [
       "add! (generic function with 1 method)"
      ]
     },
     "execution_count": 2,
     "metadata": {},
     "output_type": "execute_result"
    }
   ],
   "source": [
    "using DataStructures: PriorityQueue\n",
    "import Base: length, insert!, isempty, convert, getindex, promote_rule, range\n",
    "import DataStructures: enqueue!, dequeue!, peek\n",
    "\n",
    "#sing .ParserTypes: Edge, Constituent, EdgeKey, ConstituentKey, IntervalRange, CyclicRange\n",
    "#using .PCFGGrammar: CFGrammar, is_possible_transition, completions, transition, isfinal\n",
    "###################\n",
    "### Completions ###\n",
    "###################\n",
    "\n",
    "struct TerminalCompletion{T,TR,S}\n",
    "    terminal :: T\n",
    "    rule     :: TR\n",
    "    score    :: S\n",
    "end\n",
    "terminal(comp::TerminalCompletion) = comp.terminal\n",
    "rule(comp::TerminalCompletion) = comp.rule\n",
    "score(comp::TerminalCompletion) = comp.score\n",
    "\n",
    "struct EdgeCompletion{E,CR,S}\n",
    "    edge   :: E\n",
    "    rule   :: CR\n",
    "    score  :: S\n",
    "    inloop :: Bool\n",
    "end\n",
    "edge(comp::EdgeCompletion) = comp.edge\n",
    "rule(comp::EdgeCompletion) = comp.rule\n",
    "score(comp::EdgeCompletion) = comp.score\n",
    "inloop(comp::EdgeCompletion) = comp.inloop\n",
    "EdgeCompletion(edge, rule, score) = EdgeCompletion(edge, rule, score, false)\n",
    "@inline function ==(c1::EdgeCompletion, c2::EdgeCompletion)\n",
    "    c1.edge == c2.edge && c1.rule == c2.rule\n",
    "end\n",
    "\n",
    "\n",
    "#################\n",
    "### Traversal ###\n",
    "#################\n",
    "\n",
    "struct Traversal{E,CO,S}\n",
    "    edge   :: Union{E,Nothing}\n",
    "    cont   :: CO\n",
    "    score  :: S\n",
    "    inloop :: Bool\n",
    "end\n",
    "Traversal(edge, cont, score) = Traversal(edge, cont, score, false)\n",
    "Traversal(edge, cont) = Traversal(edge, cont, score(edge) * score(cont), false)\n",
    "hasedge(trav::Traversal) = !isnothing(trav.edge)\n",
    "#edge(trav::Traversal) = get(trav.edge)\n",
    "edge(trav::Traversal) = trav.edge\n",
    "cont(trav::Traversal) = trav.cont\n",
    "score(trav::Traversal) = trav.score\n",
    "inloop(trav::Traversal) = trav.inloop\n",
    "\n",
    "@inline function ==(t1::Traversal, t2::Traversal)\n",
    "    if hasedge(t1)\n",
    "        if hasedge(t2)\n",
    "            t1.edge == t2.edge && t1.cont == t2.cont\n",
    "        else\n",
    "            false\n",
    "        end\n",
    "    else\n",
    "        if hasedge(t2)\n",
    "            false\n",
    "        else\n",
    "            t1.cont == t2.cont\n",
    "        end\n",
    "    end\n",
    "end\n",
    "\n",
    "\n",
    "##############\n",
    "### ModInt ###\n",
    "##############\n",
    "\n",
    "struct ModInt{n} <: Number\n",
    "  val::Int\n",
    "  ModInt{n}(val) where {n} = new(mod(val,n))\n",
    "end\n",
    "\n",
    "show(io::IO, a::ModInt{n}) where n = print(io, \"$(a.val) mod $n\")\n",
    "\n",
    "+(a::ModInt{n}, b::ModInt{n}) where n = ModInt{n}(a.val + b.val)\n",
    "-(a::ModInt{n}) where n = - a.val\n",
    "-(a::ModInt{n}, b::ModInt{n}) where n = ModInt{n}(a.val - b.val)\n",
    "*(a::ModInt{n}, b::ModInt{n}) where n = ModInt{n}(a.val * b.val)\n",
    "/(a::ModInt{n}, b::ModInt{n}) where n = a * invmod(b, n)\n",
    "\n",
    "<(a::ModInt{n}, b::ModInt{n}) where n = a.val < b.val\n",
    "\n",
    "one(a::ModInt{n}) where n = ModInt{n}(1)\n",
    "zero(a::ModInt{n}) where n = ModInt{n}(0)\n",
    "\n",
    "convert(::Type{ModInt{n}}, x::Int) where n = ModInt{n}(x)\n",
    "convert(::Type{Int}, x::ModInt) = x.val\n",
    "\n",
    "getindex(t::Union{Tuple, Array}, i::ModInt) = getindex(t, i.val + 1)\n",
    "\n",
    "promote_rule(::Type{ModInt{n}}, ::Type{Int}) where n = ModInt{n}\n",
    "\n",
    "\n",
    "#############\n",
    "### Range ###\n",
    "#############\n",
    "\n",
    "abstract type ItemRange end\n",
    "\n",
    "ItemRange(s::Int, e::Int, n::Int, cyclic::Bool) =\n",
    "    cyclic ? CyclicRange(s, e, n) : IntervalRange(s, e)\n",
    "\n",
    "start(r::ItemRange) = r.start\n",
    "_end(r::ItemRange)  = r._end\n",
    "\n",
    "struct IntervalRange <: ItemRange\n",
    "    start :: Int\n",
    "    _end  :: Int\n",
    "end\n",
    "\n",
    "length(r::IntervalRange) = _end(r) - start(r)\n",
    "concatenable(r1::IntervalRange, r2::IntervalRange) = _end(r1) == start(r2)\n",
    "\n",
    "function *(r1::IntervalRange, r2::IntervalRange)\n",
    "    @assert concatenable(r1, r2)\n",
    "    IntervalRange(start(r1), _end(r2))\n",
    "end\n",
    "\n",
    "struct CyclicRange{n} <: ItemRange\n",
    "    start  :: ModInt{n}\n",
    "    _end   :: ModInt{n}\n",
    "    length :: Int\n",
    "end\n",
    "CyclicRange(s::ModInt, e::ModInt) = CyclicRange(s, e, Int(e-s))\n",
    "CyclicRange(s::Int, e::Int, n::Int) = CyclicRange(ModInt{n}(s), ModInt{n}(e))\n",
    "\n",
    "length(r::CyclicRange) = r.length\n",
    "\n",
    "@inline function concatenable(r1::CyclicRange{n}, r2::CyclicRange{n}) where n\n",
    "    _end(r1) == start(r2) && length(r1) + length(r2) <= n\n",
    "end\n",
    "\n",
    "function *(r1::CyclicRange, r2::CyclicRange)\n",
    "    @assert concatenable(r1, r2)\n",
    "    CyclicRange(start(r1), _end(r2), length(r1) + length(r2))\n",
    "end\n",
    "\n",
    "###############\n",
    "### ItemKey ###\n",
    "###############\n",
    "\n",
    "abstract type ItemKey{R} end\n",
    "\n",
    "range(k::ItemKey)  =          k.range\n",
    "start(k::ItemKey)  =  start(range(k))\n",
    "_end(k::ItemKey)   =   _end(range(k))\n",
    "length(k::ItemKey) = length(range(k))\n",
    "\n",
    "struct EdgeKey{R,ST} <: ItemKey{R}\n",
    "    range :: R\n",
    "    state :: ST\n",
    "end\n",
    "state(k::EdgeKey) = k.state\n",
    "\n",
    "struct ConstituentKey{R,C} <: ItemKey{R}\n",
    "    range    :: R\n",
    "    category :: C\n",
    "end\n",
    "category(k::ConstituentKey) = k.category\n",
    "\n",
    "############\n",
    "### Item ###\n",
    "############\n",
    "\n",
    "abstract type Item end\n",
    "\n",
    "Item(key, trav::Traversal) = Edge(key, trav)\n",
    "Item(key, comp::EdgeCompletion) = Constituent(key, comp)\n",
    "\n",
    "key(item::Item) = item.key\n",
    "range(item::Item) = range(key(item))\n",
    "start(item::Item) = start(range(item))\n",
    "_end(item::Item) = _end(range(item))\n",
    "length(item::Item) = length(range(item))\n",
    "isfinished(item::Item) = !(isnothing(item.score))\n",
    "lastpopscore(item::Item) = item.lastpopscore\n",
    "insidepopnumber(item::Item) = item.insidepopnumber\n",
    "\n",
    "############\n",
    "### Edge ###\n",
    "############\n",
    "\n",
    "mutable struct Edge{R,ST,S,CO} <: Item\n",
    "    key             :: EdgeKey{R,ST}\n",
    "    score           :: Union{S,Nothing}\n",
    "    lastpopscore    :: S\n",
    "    insidepopnumber :: Int\n",
    "    traversals      :: Vector{Traversal{Edge{R,ST,S,CO},CO,S}}\n",
    "end\n",
    "\n",
    "@inline function Edge(key, trav::Traversal{E,CO,S}) where {E,CO,S}\n",
    "    Edge(key, nothing, zero(S), 0, [trav])\n",
    "end\n",
    "\n",
    "state(edge::Edge) = state(key(edge))\n",
    "traversals(edge::Edge) = edge.traversals\n",
    "\n",
    "@inline function score(edge::Edge)\n",
    "    if isfinished(edge)\n",
    "        get(edge.score)\n",
    "    else\n",
    "        sum(score(trav) for trav in edge.traversals)\n",
    "    end\n",
    "end\n",
    "\n",
    "function add!(edge::Edge, trav)\n",
    "    found = false\n",
    "    for (i, t) in enumerate(edge.traversals)\n",
    "        if t==trav\n",
    "            edge.traversals[i] = trav\n",
    "            found = true\n",
    "            break\n",
    "        end\n",
    "    end\n",
    "    if !found\n",
    "        push!(edge.traversals, trav)\n",
    "    end\n",
    "    nothing\n",
    "end\n",
    "\n"
   ]
  },
  {
   "cell_type": "code",
   "execution_count": 3,
   "metadata": {},
   "outputs": [
    {
     "data": {
      "text/plain": [
       "add! (generic function with 2 methods)"
      ]
     },
     "execution_count": 3,
     "metadata": {},
     "output_type": "execute_result"
    }
   ],
   "source": [
    "###################\n",
    "### Constituent ###\n",
    "###################\n",
    "\n",
    "mutable struct Constituent{R,C,T,CR,TR,ST,S} <: Item\n",
    "    key                 :: ConstituentKey{R,C}\n",
    "    score               :: Union{S,Nothing}\n",
    "    lastpopscore        :: S\n",
    "    insidepopnumber     :: Int\n",
    "    terminal_completion :: Union{TerminalCompletion{T,TR,S}, Nothing}\n",
    "    completions         :: Vector{EdgeCompletion{Edge{R,ST,S,Constituent{R,C,T,CR,TR,ST,S}},CR,S}}\n",
    "end\n",
    "\n",
    "@inline function Constituent(\n",
    "        key::ConstituentKey{R,C}, comp::TerminalCompletion, grammar\n",
    "    ) where {R,C}\n",
    "    C_, T, CR, TR, ST, S = types(grammar)\n",
    "    Constituent(\n",
    "        key, nothing, zero(S), 0, comp,\n",
    "        Vector{EdgeCompletion{Edge{R,ST,S,Constituent{R,C,T,CR,TR,ST,S}},CR,S}}()\n",
    "    )\n",
    "end\n",
    "\n",
    "@inline function Constituent(\n",
    "        key,\n",
    "        comp :: EdgeCompletion{Edge{R,ST,S,Constituent{R,C,T,CR,TR,ST,S}},CR,S}\n",
    "    ) where {R,C,T,CR,TR,ST,S}\n",
    "    Constituent(\n",
    "        key, nothing, zero(S), 0,\n",
    "        nothing,\n",
    "        [comp]\n",
    "    )\n",
    "end\n",
    "\n",
    "category(cont::Constituent) = category(key(cont))\n",
    "completions(cont::Constituent) = cont.completions\n",
    "\n",
    "hasterminal(cont::Constituent) = !(isnothing(cont.terminal_completion))\n",
    "terminal_completion(cont::Constituent) = cont.terminal_completion\n",
    "terminal(cont::Constituent) = terminal(cont.terminal_completion)\n",
    "#terminal_completion(cont::Constituent) = get(cont.terminal_completion)\n",
    "#terminal(cont::Constituent) = get(cont.terminal_completion).terminal\n",
    "\n",
    "@inline function score(cont::Constituent)\n",
    "    if isfinished(cont)\n",
    "        get(cont.score)\n",
    "    else\n",
    "        if hasterminal(cont)\n",
    "            if isempty(completions(cont))\n",
    "                score(terminal_completion(cont))\n",
    "            else\n",
    "                +(\n",
    "                    score(terminal_completion(cont)),\n",
    "                    sum(score(comp) for comp in completions(cont))\n",
    "                )\n",
    "            end\n",
    "        else\n",
    "            sum(score(comp) for comp in completions(cont))\n",
    "        end\n",
    "    end\n",
    "end\n",
    "\n",
    "function add!(cont::Constituent, comp)\n",
    "    found = false\n",
    "    for (i, c) in enumerate(cont.completions)\n",
    "        if c==comp\n",
    "            cont.completions[i] = comp\n",
    "            found = true\n",
    "            break\n",
    "        end\n",
    "    end\n",
    "    if !found\n",
    "        push!(cont.completions, comp)\n",
    "    end\n",
    "    nothing\n",
    "end\n",
    "\n"
   ]
  },
  {
   "cell_type": "code",
   "execution_count": 4,
   "metadata": {},
   "outputs": [
    {
     "data": {
      "text/plain": [
       "Traversal"
      ]
     },
     "execution_count": 4,
     "metadata": {},
     "output_type": "execute_result"
    }
   ],
   "source": [
    "@inline function Traversal(cont::Constituent{R,C,T,CR,TR,ST,S}) where {R,C,T,CR,TR,ST,S}\n",
    "    Traversal{Edge{R,ST,S,Constituent{R,C,T,CR,TR,ST,S}}, Constituent{R,C,T,CR,TR,ST,S}, S}(nothing, cont, score(cont), false)\n",
    "end\n"
   ]
  },
  {
   "cell_type": "code",
   "execution_count": 5,
   "metadata": {},
   "outputs": [
    {
     "data": {
      "text/plain": [
       "priority (generic function with 2 methods)"
      ]
     },
     "execution_count": 5,
     "metadata": {},
     "output_type": "execute_result"
    }
   ],
   "source": [
    "\n",
    "#####################\n",
    "### ParserLogbook ###\n",
    "#####################\n",
    "\n",
    "struct ParserLogbook{R,C,T,CR,TR,ST,S}\n",
    "    edges :: Dict{EdgeKey{R,ST}, Edge{R,ST,S,Constituent{R,C,T,CR,TR,ST,S}}}\n",
    "    conts :: Dict{ConstituentKey{R,C}, Constituent{R,C,T,CR,TR,ST,S}}\n",
    "end\n",
    "\n",
    "@inline function ParserLogbook(grammar, n::Int, cyclic::Bool)\n",
    "    R = cyclic ? CyclicRange{n} : IntervalRange\n",
    "    C,T,CR,TR,ST,S = types(grammar)\n",
    "    ParserLogbook(\n",
    "        Dict{EdgeKey{R,ST}, Edge{R,ST,S,Constituent{R,C,T,CR,TR,ST,S}}}(),\n",
    "        Dict{ConstituentKey{R,C}, Constituent{R,C,T,CR,TR,ST,S}}()\n",
    "    )\n",
    "end\n",
    "discover!(logbook::ParserLogbook, edge::Edge) =\n",
    "    logbook.edges[key(edge)] = edge\n",
    "discover!(logbook::ParserLogbook, cont::Constituent) =\n",
    "    logbook.conts[key(cont)] = cont\n",
    "isdiscovered(logbook, key::EdgeKey) = haskey(logbook.edges, key)\n",
    "isdiscovered(logbook, key::ConstituentKey) = haskey(logbook.conts, key)\n",
    "getitem(logbook, key::EdgeKey) = logbook.edges[key]\n",
    "getitem(logbook, key::ConstituentKey) = logbook.conts[key]\n",
    "\n",
    "##################\n",
    "### ParseChart ###\n",
    "##################\n",
    "\n",
    "struct ChartCell{R,C,T,CR,TR,ST,S}\n",
    "    edges :: Dict{ST, Vector{Edge{R,ST,S,Constituent{R,C,T,CR,TR,ST,S}}}}\n",
    "    conts :: Dict{C, Vector{Constituent{R,C,T,CR,TR,ST,S}}}\n",
    "end\n",
    "@inline function ChartCell(grammar, n::Int, cyclic::Bool)\n",
    "    R = cyclic ? CyclicRange{n} : IntervalRange\n",
    "    C,T,CR,TR,ST,S = types(grammar)\n",
    "    ChartCell(\n",
    "        Dict{ST, Vector{Edge{R,ST,S,Constituent{R,C,T,CR,TR,ST,S}}}}(),\n",
    "        Dict{C, Vector{Constituent{R,C,T,CR,TR,ST,S}}}()\n",
    "    )\n",
    "end\n",
    "\n",
    "struct ParseChart{R,C,T,CR,TR,ST,S}\n",
    "    cells :: Vector{ChartCell{R,C,T,CR,TR,ST,S}}\n",
    "end\n",
    "# vector indices begin with 1\n",
    "# item   indices begin with 0\n",
    "\n",
    "edges(chart::ParseChart, edge::Edge)        = chart.cells[ _end(edge)+1].edges\n",
    "edges(chart::ParseChart, cont::Constituent) = chart.cells[start(cont)+1].edges\n",
    "conts(chart::ParseChart, edge::Edge)        = chart.cells[ _end(edge)+1].conts\n",
    "conts(chart::ParseChart, cont::Constituent) = chart.cells[start(cont)+1].conts\n",
    "\n",
    "@inline function push_or_init!(d::Dict, k, v)\n",
    "    if haskey(d, k)\n",
    "        push!(d[k], v)\n",
    "    else\n",
    "        d[k] = [v]\n",
    "    end\n",
    "end\n",
    "insert!(chart::ParseChart, edge::Edge) =\n",
    "    push_or_init!(edges(chart, edge), state(edge), edge)\n",
    "insert!(chart::ParseChart, cont::Constituent) =\n",
    "    push_or_init!(conts(chart, cont), category(cont), cont)\n",
    "\n",
    "####################\n",
    "### InsideAgenda ###\n",
    "####################\n",
    "\n",
    "struct InsideAgenda{R,C,T,CR,TR,ST,S}\n",
    "    edge_queue :: PriorityQueue{Edge{R,ST,S,Constituent{R,C,T,CR,TR,ST,S}}, Int, Base.Order.ForwardOrdering}\n",
    "    cont_queue :: PriorityQueue{Constituent{R,C,T,CR,TR,ST,S}, Int, Base.Order.ForwardOrdering}\n",
    "end\n",
    "function InsideAgenda(grammar, n::Int, cyclic)\n",
    "    R = cyclic ? CyclicRange{n} : IntervalRange\n",
    "    C,T,CR,TR,ST,S = types(grammar)\n",
    "    InsideAgenda(\n",
    "        PriorityQueue{Edge{R,ST,S,Constituent{R,C,T,CR,TR,ST,S}}, Int}(),\n",
    "        PriorityQueue{Constituent{R,C,T,CR,TR,ST,S}, Int}()\n",
    "    )\n",
    "end\n",
    "@inline function enqueue!(agenda::InsideAgenda, edge::Edge, just_used)\n",
    "    agenda.edge_queue[edge] = priority(edge, just_used)\n",
    "end\n",
    "@inline function enqueue!(agenda::InsideAgenda, cont::Constituent, just_used)\n",
    "    agenda.cont_queue[cont] = priority(cont, just_used)\n",
    "end\n",
    "@inline function next_is_edge(agenda::InsideAgenda)\n",
    "    isempty(agenda.cont_queue) || !isempty(agenda.edge_queue) && peek(agenda.edge_queue)[2] < peek(agenda.cont_queue)[2]\n",
    "end\n",
    "dequeue_edge!(agenda::InsideAgenda)    = dequeue!(agenda.edge_queue)\n",
    "dequeue_cont!(agenda::InsideAgenda)    = dequeue!(agenda.cont_queue)\n",
    "isempty(agenda::InsideAgenda)          = isempty(agenda.edge_queue) && isempty(agenda.cont_queue)\n",
    "priority(edge::Edge, just_used)        = 4 * length(edge) - 2*!(just_used) - 1\n",
    "priority(cont::Constituent, just_used) = 4 * length(cont) - 2*!(just_used)\n",
    "\n",
    "\n"
   ]
  },
  {
   "cell_type": "code",
   "execution_count": 6,
   "metadata": {},
   "outputs": [
    {
     "data": {
      "text/plain": [
       "loop! (generic function with 1 method)"
      ]
     },
     "execution_count": 6,
     "metadata": {},
     "output_type": "execute_result"
    }
   ],
   "source": [
    "######################\n",
    "### Parser Methods ###\n",
    "######################\n",
    "\n",
    "function create_or_update!(key, trav_or_comp, agenda, logbook)\n",
    "    if isdiscovered(logbook, key)\n",
    "        item = getitem(logbook, key)\n",
    "        add!(item, trav_or_comp)\n",
    "    else\n",
    "        item = Item(key, trav_or_comp)\n",
    "        discover!(logbook, item)\n",
    "    end\n",
    "    enqueue!(agenda, item, false)\n",
    "    nothing\n",
    "end\n",
    "\n",
    "@noinline function initialize(terminals, grammar, epsilon, cyclic)\n",
    "    n       = length(terminals)\n",
    "    chart   = ParseChart([ChartCell(grammar, n, cyclic) for i in 0:(cyclic ? n-1 : n)])\n",
    "    agenda  = InsideAgenda(grammar, n, cyclic)\n",
    "    logbook = ParserLogbook(grammar, n, cyclic)\n",
    "\n",
    "    for (i, terminal) in enumerate(terminals)\n",
    "        for (category, rule, score) in completions(grammar, terminal)\n",
    "            cont = Constituent(\n",
    "                ConstituentKey(ItemRange(i-1, i, n, cyclic), category),\n",
    "                TerminalCompletion(terminal, rule, score),\n",
    "                grammar\n",
    "            )\n",
    "            discover!(logbook, cont)\n",
    "            enqueue!(agenda, cont, false)\n",
    "        end\n",
    "        if !ismissing(epsilon)\n",
    "            for (category, rule, score) in completions(grammar, epsilon)\n",
    "                cont = Constituent(\n",
    "                    ConstituentKey(ItemRange(i-1, i-1, n, cyclic), category),\n",
    "                    TerminalCompletion(epsilon, rule, score),\n",
    "                    grammar\n",
    "                )\n",
    "                discover!(logbook, cont)\n",
    "                enqueue!(agenda, cont, false)\n",
    "            end\n",
    "        end\n",
    "    end\n",
    "    if !ismissing(epsilon) && !cyclic\n",
    "        for (category, rule, score) in completions(grammar, epsilon)\n",
    "            cont = Constituent(\n",
    "                ConstituentKey(ItemRange(n, n, n, cyclic), category),\n",
    "                TerminalCompletion(epsilon, rule, score),\n",
    "                grammar\n",
    "            )\n",
    "            discover!(logbook, cont)\n",
    "            enqueue!(agenda, cont, false)\n",
    "        end\n",
    "    end\n",
    "    chart, agenda, logbook\n",
    "end\n",
    "\n",
    "@inline function do_fundamental_rule!(\n",
    "        edge::Edge, chart, agenda, logbook, grammar, cyclic\n",
    "    )\n",
    "    for category in keys(conts(chart, edge))\n",
    "        if is_possible_transition(grammar, state(edge), category)\n",
    "            for cont in conts(chart, edge)[category]\n",
    "                if !cyclic || concatenable(range(edge), range(cont))\n",
    "                    trav      = Traversal(edge, cont)\n",
    "                    new_state = transition(grammar, state(edge), category)\n",
    "                    key       = EdgeKey(range(edge) * range(cont), new_state)\n",
    "                    create_or_update!(key, trav, agenda, logbook)\n",
    "                end\n",
    "            end\n",
    "        end\n",
    "    end\n",
    "    nothing\n",
    "end\n",
    "\n",
    "@inline function do_fundamental_rule!(\n",
    "        cont::Constituent, chart, agenda, logbook, grammar, cyclic\n",
    "    )\n",
    "    for state in keys(edges(chart, cont))\n",
    "        if is_possible_transition(grammar, state, category(cont))\n",
    "            for edge in edges(chart, cont)[state]\n",
    "                if !cyclic || concatenable(range(edge), range(cont))\n",
    "                    trav      = Traversal(edge, cont)\n",
    "                    new_state = transition(grammar, state, category(cont))\n",
    "                    key       = EdgeKey(range(edge) * range(cont), new_state)\n",
    "                    create_or_update!(key, trav, agenda, logbook)\n",
    "                end\n",
    "            end\n",
    "        end\n",
    "    end\n",
    "    nothing\n",
    "end\n",
    "\n",
    "@inline function introduce_edge!(cont, agenda, logbook, grammar)\n",
    "    if is_possible_transition(grammar, startstate(grammar), category(cont))\n",
    "        state = transition(grammar, startstate(grammar), category(cont))\n",
    "        key   = EdgeKey(range(cont), state)\n",
    "        create_or_update!(key, Traversal(cont), agenda, logbook)\n",
    "    end\n",
    "    nothing\n",
    "end\n",
    "\n",
    "@noinline function complete_edge!(edge, agenda, logbook::ParserLogbook, grammar)\n",
    "    C, T, CR, TR, ST, S = types(grammar) #added\n",
    "    for (category::C, rule::CR, s::S) in completions(grammar, state(edge))\n",
    "        key  = ConstituentKey(range(edge), category)\n",
    "        comp = EdgeCompletion(edge, rule, score(edge) * s)\n",
    "        create_or_update!(key, comp, agenda, logbook)\n",
    "    end\n",
    "    nothing\n",
    "end\n",
    "\n",
    "@noinline function process_edge!(\n",
    "        edge, chart, agenda, logbook, grammar, max_pop_num, cyclic\n",
    "    )\n",
    "    s = score(edge)\n",
    "    edge.insidepopnumber += 1\n",
    "    if s ≈ lastpopscore(edge) || insidepopnumber(edge) == max_pop_num\n",
    "        if !isfinal(grammar, state(edge))\n",
    "            insert!(chart, edge)\n",
    "        end\n",
    "        edge.score = nothing\n",
    "        #edge.score = Nullable(s) # finish the edge\n",
    "        do_fundamental_rule!(edge, chart, agenda, logbook, grammar, cyclic)\n",
    "    else\n",
    "        complete_edge!(edge, agenda, logbook, grammar)\n",
    "        edge.lastpopscore = s\n",
    "        enqueue!(agenda, edge, true)\n",
    "    end\n",
    "    nothing\n",
    "end\n",
    "\n",
    "@noinline function process_cont!(\n",
    "        cont, chart, agenda, logbook, grammar, max_pop_num, cyclic\n",
    "    )\n",
    "    s = score(cont)\n",
    "    cont.insidepopnumber += 1\n",
    "    if s ≈ lastpopscore(cont) || insidepopnumber(cont) == max_pop_num\n",
    "        insert!(chart, cont)\n",
    "        cont.score = nothing\n",
    "        #cont.score = Nullable(s) # finish the constituent\n",
    "        do_fundamental_rule!(cont, chart, agenda, logbook, grammar, cyclic)\n",
    "    else\n",
    "        introduce_edge!(cont, agenda, logbook, grammar)\n",
    "        cont.lastpopscore = s\n",
    "        enqueue!(agenda, cont, true)\n",
    "    end\n",
    "    nothing\n",
    "end\n",
    "\n",
    "@noinline function loop!(chart, agenda, args...)\n",
    "    while !isempty(agenda)\n",
    "        if next_is_edge(agenda)\n",
    "            process_edge!(dequeue_edge!(agenda), chart, agenda, args...)\n",
    "        else\n",
    "            process_cont!(dequeue_cont!(agenda), chart, agenda, args...)\n",
    "        end\n",
    "    end\n",
    "end\n"
   ]
  },
  {
   "cell_type": "code",
   "execution_count": 7,
   "metadata": {},
   "outputs": [
    {
     "data": {
      "text/plain": [
       "CFRules(rules3)"
      ]
     },
     "execution_count": 7,
     "metadata": {},
     "output_type": "execute_result"
    }
   ],
   "source": [
    "ascend = CFRules(1:9) do i\n",
    "    [i, i+1]\n",
    "end\n",
    "double = CFRules(1:10) do i\n",
    "    [i, i]\n",
    "end\n",
    "terminate = CFRules(1:10) do i\n",
    "    [string(i)]\n",
    "end"
   ]
  },
  {
   "cell_type": "code",
   "execution_count": 8,
   "metadata": {},
   "outputs": [
    {
     "data": {
      "text/plain": [
       "CFGrammar{Int64,String,SimpleCond{Int64,DirCat{CFRules{Int64,RHS} where RHS,Float64},Array{CFRules{Int64,RHS} where RHS,1}},typeof(identity)}(CompletionAutomaton{Int64,Tuple{Int64,CFRules{Int64,Int64}}}(Dict{Int64,Int64}[Dict(7 => 2,4 => 4,9 => 6,10 => 23,2 => 8,3 => 10,5 => 12,8 => 14,6 => 16,1 => 18…), Dict(7 => 20,8 => 3), Dict(), Dict(4 => 21,5 => 5), Dict(), Dict(9 => 22,10 => 7), Dict(), Dict(2 => 25,3 => 9), Dict(), Dict(4 => 11,3 => 26)  …  Dict(), Dict(), Dict(10 => 24), Dict(), Dict(), Dict(), Dict(), Dict(), Dict(), Dict()], Array{Tuple{Int64,CFRules{Int64,Int64}},1}[[], [], [(7, CFRules(rules1))], [], [(4, CFRules(rules1))], [], [(9, CFRules(rules1))], [], [(2, CFRules(rules1))], []  …  [(4, CFRules(rules2))], [(9, CFRules(rules2))], [], [(10, CFRules(rules2))], [(2, CFRules(rules2))], [(3, CFRules(rules2))], [(5, CFRules(rules2))], [(8, CFRules(rules2))], [(6, CFRules(rules2))], [(1, CFRules(rules2))]]), [1], Dict(\"8\" => [(8, CFRules(rules3))],\"4\" => [(4, CFRules(rules3))],\"1\" => [(1, CFRules(rules3))],\"10\" => [(10, CFRules(rules3))],\"2\" => [(2, CFRules(rules3))],\"7\" => [(7, CFRules(rules3))],\"5\" => [(5, CFRules(rules3))],\"6\" => [(6, CFRules(rules3))],\"9\" => [(9, CFRules(rules3))],\"3\" => [(3, CFRules(rules3))]…), SimpleCond{Int64,DirCat{CFRules{Int64,RHS} where RHS,Float64},Array{CFRules{Int64,RHS} where RHS,1}}(Dict(7 => DirCat{CFRules{Int64,RHS} where RHS,Float64}(Dict{CFRules{Int64,RHS} where RHS,Float64}(CFRules(rules1) => 1.0,CFRules(rules2) => 1.0,CFRules(rules3) => 1.0)),4 => DirCat{CFRules{Int64,RHS} where RHS,Float64}(Dict{CFRules{Int64,RHS} where RHS,Float64}(CFRules(rules1) => 1.0,CFRules(rules2) => 1.0,CFRules(rules3) => 1.0)),9 => DirCat{CFRules{Int64,RHS} where RHS,Float64}(Dict{CFRules{Int64,RHS} where RHS,Float64}(CFRules(rules1) => 1.0,CFRules(rules2) => 1.0,CFRules(rules3) => 1.0)),10 => DirCat{CFRules{Int64,RHS} where RHS,Float64}(Dict{CFRules{Int64,RHS} where RHS,Float64}(CFRules(rules2) => 1.0,CFRules(rules3) => 1.0)),2 => DirCat{CFRules{Int64,RHS} where RHS,Float64}(Dict{CFRules{Int64,RHS} where RHS,Float64}(CFRules(rules1) => 1.0,CFRules(rules2) => 1.0,CFRules(rules3) => 1.0)),3 => DirCat{CFRules{Int64,RHS} where RHS,Float64}(Dict{CFRules{Int64,RHS} where RHS,Float64}(CFRules(rules1) => 1.0,CFRules(rules2) => 1.0,CFRules(rules3) => 1.0)),5 => DirCat{CFRules{Int64,RHS} where RHS,Float64}(Dict{CFRules{Int64,RHS} where RHS,Float64}(CFRules(rules1) => 1.0,CFRules(rules2) => 1.0,CFRules(rules3) => 1.0)),8 => DirCat{CFRules{Int64,RHS} where RHS,Float64}(Dict{CFRules{Int64,RHS} where RHS,Float64}(CFRules(rules1) => 1.0,CFRules(rules2) => 1.0,CFRules(rules3) => 1.0)),6 => DirCat{CFRules{Int64,RHS} where RHS,Float64}(Dict{CFRules{Int64,RHS} where RHS,Float64}(CFRules(rules1) => 1.0,CFRules(rules2) => 1.0,CFRules(rules3) => 1.0)),1 => DirCat{CFRules{Int64,RHS} where RHS,Float64}(Dict{CFRules{Int64,RHS} where RHS,Float64}(CFRules(rules1) => 1.0,CFRules(rules2) => 1.0,CFRules(rules3) => 1.0))…), CFRules{Int64,RHS} where RHS[CFRules(rules1), CFRules(rules2), CFRules(rules3)]), identity)"
      ]
     },
     "execution_count": 8,
     "metadata": {},
     "output_type": "execute_result"
    }
   ],
   "source": [
    "grammar = CFGrammar([ascend, double], [terminate], [1])"
   ]
  },
  {
   "cell_type": "code",
   "execution_count": 9,
   "metadata": {},
   "outputs": [
    {
     "data": {
      "text/plain": [
       "Dict{Int64,Array{Int64,1}} with 9 entries:\n",
       "  7 => [7, 8]\n",
       "  4 => [4, 5]\n",
       "  9 => [9, 10]\n",
       "  2 => [2, 3]\n",
       "  3 => [3, 4]\n",
       "  5 => [5, 6]\n",
       "  8 => [8, 9]\n",
       "  6 => [6, 7]\n",
       "  1 => [1, 2]"
      ]
     },
     "execution_count": 9,
     "metadata": {},
     "output_type": "execute_result"
    }
   ],
   "source": [
    "ascend.mappings"
   ]
  },
  {
   "cell_type": "code",
   "execution_count": 10,
   "metadata": {},
   "outputs": [
    {
     "data": {
      "text/plain": [
       "Dict{Int64,Array{Int64,1}} with 10 entries:\n",
       "  7  => [7, 7]\n",
       "  4  => [4, 4]\n",
       "  9  => [9, 9]\n",
       "  10 => [10, 10]\n",
       "  2  => [2, 2]\n",
       "  3  => [3, 3]\n",
       "  5  => [5, 5]\n",
       "  8  => [8, 8]\n",
       "  6  => [6, 6]\n",
       "  1  => [1, 1]"
      ]
     },
     "execution_count": 10,
     "metadata": {},
     "output_type": "execute_result"
    }
   ],
   "source": [
    "double.mappings"
   ]
  },
  {
   "cell_type": "code",
   "execution_count": 11,
   "metadata": {},
   "outputs": [
    {
     "data": {
      "text/plain": [
       "Dict{Int64,Array{String,1}} with 10 entries:\n",
       "  7  => [\"7\"]\n",
       "  4  => [\"4\"]\n",
       "  9  => [\"9\"]\n",
       "  10 => [\"10\"]\n",
       "  2  => [\"2\"]\n",
       "  3  => [\"3\"]\n",
       "  5  => [\"5\"]\n",
       "  8  => [\"8\"]\n",
       "  6  => [\"6\"]\n",
       "  1  => [\"1\"]"
      ]
     },
     "execution_count": 11,
     "metadata": {},
     "output_type": "execute_result"
    }
   ],
   "source": [
    "terminate.mappings"
   ]
  },
  {
   "cell_type": "code",
   "execution_count": 12,
   "metadata": {},
   "outputs": [],
   "source": [
    "#prob(p::LogProb) = p\n",
    "\n",
    "###################\n",
    "### ParseForest ###\n",
    "###################\n",
    "\n",
    "struct ParseForest{R,C,T,CR,TR,ST,S}\n",
    "    heads     :: Vector{Constituent{R,C,T,CR,TR,ST,S}}\n",
    "    terminals :: Vector{T}\n",
    "end\n"
   ]
  },
  {
   "cell_type": "code",
   "execution_count": 13,
   "metadata": {},
   "outputs": [
    {
     "data": {
      "text/plain": [
       "ParseForest"
      ]
     },
     "execution_count": 13,
     "metadata": {},
     "output_type": "execute_result"
    }
   ],
   "source": [
    "function ParseForest(chart::ParseChart, terminals, grammar, cyclic)\n",
    "    if cyclic\n",
    "        ParseForest(\n",
    "            vcat(\n",
    "                [\n",
    "                    vcat(\n",
    "                        map(collect(keys(cell.conts))) do category\n",
    "                            filter(cell.conts[category]) do cont\n",
    "                                length(cont) == length(terminals) &&\n",
    "                                    category in startsymbols(grammar)\n",
    "                            end\n",
    "                        end...\n",
    "                    )\n",
    "                    for cell in chart.cells\n",
    "                ]...\n",
    "            )\n",
    "            ,\n",
    "            terminals\n",
    "        )\n",
    "    else\n",
    "        ParseForest(\n",
    "            vcat(\n",
    "                map(collect(keys(chart.cells[1].conts))) do category\n",
    "                    filter(chart.cells[1].conts[category]) do cont\n",
    "                        length(cont) == length(terminals) &&\n",
    "                            category in startsymbols(grammar)\n",
    "                    end\n",
    "                end...\n",
    "            ),\n",
    "            terminals\n",
    "        )\n",
    "    end\n",
    "end\n"
   ]
  },
  {
   "cell_type": "code",
   "execution_count": 14,
   "metadata": {},
   "outputs": [
    {
     "data": {
      "text/plain": [
       "score (generic function with 7 methods)"
      ]
     },
     "execution_count": 14,
     "metadata": {},
     "output_type": "execute_result"
    }
   ],
   "source": [
    "heads(forest::ParseForest) = forest.heads\n",
    "iscomplete(forest::ParseForest) = !isempty(forest.heads)\n",
    "score(forest::ParseForest) = sum(score(h) for h in forest.heads)"
   ]
  },
  {
   "cell_type": "code",
   "execution_count": 15,
   "metadata": {},
   "outputs": [
    {
     "data": {
      "text/plain": [
       "run_chartparser (generic function with 1 method)"
      ]
     },
     "execution_count": 15,
     "metadata": {},
     "output_type": "execute_result"
    }
   ],
   "source": [
    "@noinline function run_chartparser(\n",
    "        terminals, grammar; epsilon=missing, max_pop_num=4, cyclic=false\n",
    "    )\n",
    "    C, T, CR, TR, ST, S = types(grammar)\n",
    "    chart, agenda, logbook = initialize(\n",
    "        T.(terminals), grammar, epsilon, cyclic)\n",
    "    loop!(chart, agenda, logbook, grammar, max_pop_num, cyclic)\n",
    "    ParseForest(chart, T.(terminals), grammar, cyclic)\n",
    "end"
   ]
  },
  {
   "cell_type": "code",
   "execution_count": 18,
   "metadata": {},
   "outputs": [
    {
     "data": {
      "text/plain": [
       "ParseForest{IntervalRange,Int64,String,CFRules{Int64,Int64},CFRules{Int64,String},Int64,LogProb}(Constituent{IntervalRange,Int64,String,CFRules{Int64,Int64},CFRules{Int64,String},Int64,LogProb}[Constituent{IntervalRange,Int64,String,CFRules{Int64,Int64},CFRules{Int64,String},Int64,LogProb}(ConstituentKey{IntervalRange,Int64}(IntervalRange(0, 3), 1), nothing, LogProb(0.008230452674897129), 2, nothing, EdgeCompletion{Edge{IntervalRange,Int64,LogProb,Constituent{IntervalRange,Int64,String,CFRules{Int64,Int64},CFRules{Int64,String},Int64,LogProb}},CFRules{Int64,Int64},LogProb}[EdgeCompletion{Edge{IntervalRange,Int64,LogProb,Constituent{IntervalRange,Int64,String,CFRules{Int64,Int64},CFRules{Int64,String},Int64,LogProb}},CFRules{Int64,Int64},LogProb}(Edge{IntervalRange,Int64,LogProb,Constituent{IntervalRange,Int64,String,CFRules{Int64,Int64},CFRules{Int64,String},Int64,LogProb}}(EdgeKey{IntervalRange,Int64}(IntervalRange(0, 3), 30), nothing, LogProb(0.024691358024691374), 2, Traversal{Edge{IntervalRange,Int64,LogProb,Constituent{IntervalRange,Int64,String,CFRules{Int64,Int64},CFRules{Int64,String},Int64,LogProb}},Constituent{IntervalRange,Int64,String,CFRules{Int64,Int64},CFRules{Int64,String},Int64,LogProb},LogProb}[Traversal{Edge{IntervalRange,Int64,LogProb,Constituent{IntervalRange,Int64,String,CFRules{Int64,Int64},CFRules{Int64,String},Int64,LogProb}},Constituent{IntervalRange,Int64,String,CFRules{Int64,Int64},CFRules{Int64,String},Int64,LogProb},LogProb}(Edge{IntervalRange,Int64,LogProb,Constituent{IntervalRange,Int64,String,CFRules{Int64,Int64},CFRules{Int64,String},Int64,LogProb}}(EdgeKey{IntervalRange,Int64}(IntervalRange(0, 2), 18), nothing, LogProb(0.03703703703703705), 2, Traversal{Edge{IntervalRange,Int64,LogProb,Constituent{IntervalRange,Int64,String,CFRules{Int64,Int64},CFRules{Int64,String},Int64,LogProb}},Constituent{IntervalRange,Int64,String,CFRules{Int64,Int64},CFRules{Int64,String},Int64,LogProb},LogProb}[Traversal{Edge{IntervalRange,Int64,LogProb,Constituent{IntervalRange,Int64,String,CFRules{Int64,Int64},CFRules{Int64,String},Int64,LogProb}},Constituent{IntervalRange,Int64,String,CFRules{Int64,Int64},CFRules{Int64,String},Int64,LogProb},LogProb}(nothing, Constituent{IntervalRange,Int64,String,CFRules{Int64,Int64},CFRules{Int64,String},Int64,LogProb}(ConstituentKey{IntervalRange,Int64}(IntervalRange(0, 2), 1), nothing, LogProb(0.03703703703703705), 2, nothing, EdgeCompletion{Edge{IntervalRange,Int64,LogProb,Constituent{IntervalRange,Int64,String,CFRules{Int64,Int64},CFRules{Int64,String},Int64,LogProb}},CFRules{Int64,Int64},LogProb}[EdgeCompletion{Edge{IntervalRange,Int64,LogProb,Constituent{IntervalRange,Int64,String,CFRules{Int64,Int64},CFRules{Int64,String},Int64,LogProb}},CFRules{Int64,Int64},LogProb}(Edge{IntervalRange,Int64,LogProb,Constituent{IntervalRange,Int64,String,CFRules{Int64,Int64},CFRules{Int64,String},Int64,LogProb}}(EdgeKey{IntervalRange,Int64}(IntervalRange(0, 2), 30), nothing, LogProb(0.11111111111111113), 2, Traversal{Edge{IntervalRange,Int64,LogProb,Constituent{IntervalRange,Int64,String,CFRules{Int64,Int64},CFRules{Int64,String},Int64,LogProb}},Constituent{IntervalRange,Int64,String,CFRules{Int64,Int64},CFRules{Int64,String},Int64,LogProb},LogProb}[Traversal{Edge{IntervalRange,Int64,LogProb,Constituent{IntervalRange,Int64,String,CFRules{Int64,Int64},CFRules{Int64,String},Int64,LogProb}},Constituent{IntervalRange,Int64,String,CFRules{Int64,Int64},CFRules{Int64,String},Int64,LogProb},LogProb}(Edge{IntervalRange,Int64,LogProb,Constituent{IntervalRange,Int64,String,CFRules{Int64,Int64},CFRules{Int64,String},Int64,LogProb}}(EdgeKey{IntervalRange,Int64}(IntervalRange(0, 1), 18), nothing, LogProb(0.33333333333333337), 2, Traversal{Edge{IntervalRange,Int64,LogProb,Constituent{IntervalRange,Int64,String,CFRules{Int64,Int64},CFRules{Int64,String},Int64,LogProb}},Constituent{IntervalRange,Int64,String,CFRules{Int64,Int64},CFRules{Int64,String},Int64,LogProb},LogProb}[Traversal{Edge{IntervalRange,Int64,LogProb,Constituent{IntervalRange,Int64,String,CFRules{Int64,Int64},CFRules{Int64,String},Int64,LogProb}},Constituent{IntervalRange,Int64,String,CFRules{Int64,Int64},CFRules{Int64,String},Int64,LogProb},LogProb}(nothing, Constituent{IntervalRange,Int64,String,CFRules{Int64,Int64},CFRules{Int64,String},Int64,LogProb}(ConstituentKey{IntervalRange,Int64}(IntervalRange(0, 1), 1), nothing, LogProb(0.33333333333333337), 2, TerminalCompletion{String,CFRules{Int64,String},LogProb}(\"1\", CFRules(rules3), LogProb(0.33333333333333337)), EdgeCompletion{Edge{IntervalRange,Int64,LogProb,Constituent{IntervalRange,Int64,String,CFRules{Int64,Int64},CFRules{Int64,String},Int64,LogProb}},CFRules{Int64,Int64},LogProb}[]), LogProb(0.33333333333333337), false)]), Constituent{IntervalRange,Int64,String,CFRules{Int64,Int64},CFRules{Int64,String},Int64,LogProb}(ConstituentKey{IntervalRange,Int64}(IntervalRange(1, 2), 1), nothing, LogProb(0.33333333333333337), 2, TerminalCompletion{String,CFRules{Int64,String},LogProb}(\"1\", CFRules(rules3), LogProb(0.33333333333333337)), EdgeCompletion{Edge{IntervalRange,Int64,LogProb,Constituent{IntervalRange,Int64,String,CFRules{Int64,Int64},CFRules{Int64,String},Int64,LogProb}},CFRules{Int64,Int64},LogProb}[]), LogProb(0.11111111111111113), false)]), CFRules(rules2), LogProb(0.03703703703703705), false)]), LogProb(0.03703703703703705), false)]), Constituent{IntervalRange,Int64,String,CFRules{Int64,Int64},CFRules{Int64,String},Int64,LogProb}(ConstituentKey{IntervalRange,Int64}(IntervalRange(2, 3), 1), nothing, LogProb(0.33333333333333337), 2, TerminalCompletion{String,CFRules{Int64,String},LogProb}(\"1\", CFRules(rules3), LogProb(0.33333333333333337)), EdgeCompletion{Edge{IntervalRange,Int64,LogProb,Constituent{IntervalRange,Int64,String,CFRules{Int64,Int64},CFRules{Int64,String},Int64,LogProb}},CFRules{Int64,Int64},LogProb}[]), LogProb(0.012345679012345685), false), Traversal{Edge{IntervalRange,Int64,LogProb,Constituent{IntervalRange,Int64,String,CFRules{Int64,Int64},CFRules{Int64,String},Int64,LogProb}},Constituent{IntervalRange,Int64,String,CFRules{Int64,Int64},CFRules{Int64,String},Int64,LogProb},LogProb}(Edge{IntervalRange,Int64,LogProb,Constituent{IntervalRange,Int64,String,CFRules{Int64,Int64},CFRules{Int64,String},Int64,LogProb}}(EdgeKey{IntervalRange,Int64}(IntervalRange(0, 1), 18), nothing, LogProb(0.33333333333333337), 2, Traversal{Edge{IntervalRange,Int64,LogProb,Constituent{IntervalRange,Int64,String,CFRules{Int64,Int64},CFRules{Int64,String},Int64,LogProb}},Constituent{IntervalRange,Int64,String,CFRules{Int64,Int64},CFRules{Int64,String},Int64,LogProb},LogProb}[Traversal{Edge{IntervalRange,Int64,LogProb,Constituent{IntervalRange,Int64,String,CFRules{Int64,Int64},CFRules{Int64,String},Int64,LogProb}},Constituent{IntervalRange,Int64,String,CFRules{Int64,Int64},CFRules{Int64,String},Int64,LogProb},LogProb}(nothing, Constituent{IntervalRange,Int64,String,CFRules{Int64,Int64},CFRules{Int64,String},Int64,LogProb}(ConstituentKey{IntervalRange,Int64}(IntervalRange(0, 1), 1), nothing, LogProb(0.33333333333333337), 2, TerminalCompletion{String,CFRules{Int64,String},LogProb}(\"1\", CFRules(rules3), LogProb(0.33333333333333337)), EdgeCompletion{Edge{IntervalRange,Int64,LogProb,Constituent{IntervalRange,Int64,String,CFRules{Int64,Int64},CFRules{Int64,String},Int64,LogProb}},CFRules{Int64,Int64},LogProb}[]), LogProb(0.33333333333333337), false)]), Constituent{IntervalRange,Int64,String,CFRules{Int64,Int64},CFRules{Int64,String},Int64,LogProb}(ConstituentKey{IntervalRange,Int64}(IntervalRange(1, 3), 1), nothing, LogProb(0.03703703703703705), 2, nothing, EdgeCompletion{Edge{IntervalRange,Int64,LogProb,Constituent{IntervalRange,Int64,String,CFRules{Int64,Int64},CFRules{Int64,String},Int64,LogProb}},CFRules{Int64,Int64},LogProb}[EdgeCompletion{Edge{IntervalRange,Int64,LogProb,Constituent{IntervalRange,Int64,String,CFRules{Int64,Int64},CFRules{Int64,String},Int64,LogProb}},CFRules{Int64,Int64},LogProb}(Edge{IntervalRange,Int64,LogProb,Constituent{IntervalRange,Int64,String,CFRules{Int64,Int64},CFRules{Int64,String},Int64,LogProb}}(EdgeKey{IntervalRange,Int64}(IntervalRange(1, 3), 30), nothing, LogProb(0.11111111111111113), 2, Traversal{Edge{IntervalRange,Int64,LogProb,Constituent{IntervalRange,Int64,String,CFRules{Int64,Int64},CFRules{Int64,String},Int64,LogProb}},Constituent{IntervalRange,Int64,String,CFRules{Int64,Int64},CFRules{Int64,String},Int64,LogProb},LogProb}[Traversal{Edge{IntervalRange,Int64,LogProb,Constituent{IntervalRange,Int64,String,CFRules{Int64,Int64},CFRules{Int64,String},Int64,LogProb}},Constituent{IntervalRange,Int64,String,CFRules{Int64,Int64},CFRules{Int64,String},Int64,LogProb},LogProb}(Edge{IntervalRange,Int64,LogProb,Constituent{IntervalRange,Int64,String,CFRules{Int64,Int64},CFRules{Int64,String},Int64,LogProb}}(EdgeKey{IntervalRange,Int64}(IntervalRange(1, 2), 18), nothing, LogProb(0.33333333333333337), 2, Traversal{Edge{IntervalRange,Int64,LogProb,Constituent{IntervalRange,Int64,String,CFRules{Int64,Int64},CFRules{Int64,String},Int64,LogProb}},Constituent{IntervalRange,Int64,String,CFRules{Int64,Int64},CFRules{Int64,String},Int64,LogProb},LogProb}[Traversal{Edge{IntervalRange,Int64,LogProb,Constituent{IntervalRange,Int64,String,CFRules{Int64,Int64},CFRules{Int64,String},Int64,LogProb}},Constituent{IntervalRange,Int64,String,CFRules{Int64,Int64},CFRules{Int64,String},Int64,LogProb},LogProb}(nothing, Constituent{IntervalRange,Int64,String,CFRules{Int64,Int64},CFRules{Int64,String},Int64,LogProb}(ConstituentKey{IntervalRange,Int64}(IntervalRange(1, 2), 1), nothing, LogProb(0.33333333333333337), 2, TerminalCompletion{String,CFRules{Int64,String},LogProb}(\"1\", CFRules(rules3), LogProb(0.33333333333333337)), EdgeCompletion{Edge{IntervalRange,Int64,LogProb,Constituent{IntervalRange,Int64,String,CFRules{Int64,Int64},CFRules{Int64,String},Int64,LogProb}},CFRules{Int64,Int64},LogProb}[]), LogProb(0.33333333333333337), false)]), Constituent{IntervalRange,Int64,String,CFRules{Int64,Int64},CFRules{Int64,String},Int64,LogProb}(ConstituentKey{IntervalRange,Int64}(IntervalRange(2, 3), 1), nothing, LogProb(0.33333333333333337), 2, TerminalCompletion{String,CFRules{Int64,String},LogProb}(\"1\", CFRules(rules3), LogProb(0.33333333333333337)), EdgeCompletion{Edge{IntervalRange,Int64,LogProb,Constituent{IntervalRange,Int64,String,CFRules{Int64,Int64},CFRules{Int64,String},Int64,LogProb}},CFRules{Int64,Int64},LogProb}[]), LogProb(0.11111111111111113), false)]), CFRules(rules2), LogProb(0.03703703703703705), false)]), LogProb(0.012345679012345685), false)]), CFRules(rules2), LogProb(0.008230452674897129), false)])], [\"1\", \"1\", \"1\"])"
      ]
     },
     "execution_count": 18,
     "metadata": {},
     "output_type": "execute_result"
    }
   ],
   "source": [
    "forest = run_chartparser([\"1\",\"1\", \"1\"], grammar)"
   ]
  },
  {
   "cell_type": "code",
   "execution_count": 19,
   "metadata": {},
   "outputs": [
    {
     "data": {
      "text/plain": [
       "Constituent{IntervalRange,Int64,String,CFRules{Int64,Int64},CFRules{Int64,String},Int64,LogProb}"
      ]
     },
     "execution_count": 19,
     "metadata": {},
     "output_type": "execute_result"
    }
   ],
   "source": [
    "typeof(forest.heads[1])\n",
    "\n"
   ]
  },
  {
   "cell_type": "code",
   "execution_count": 20,
   "metadata": {},
   "outputs": [],
   "source": [
    "#################\n",
    "### ParseTree ###\n",
    "#################\n",
    "\n",
    "struct ParseTree{C,T,CR,TR,ST,S,R}\n",
    "    head  :: Constituent{C,T,CR,TR,ST,S}\n",
    "    rules :: Vector{R}\n",
    "end"
   ]
  },
  {
   "cell_type": "code",
   "execution_count": 21,
   "metadata": {},
   "outputs": [
    {
     "data": {
      "text/plain": [
       "best_tree (generic function with 2 methods)"
      ]
     },
     "execution_count": 21,
     "metadata": {},
     "output_type": "execute_result"
    }
   ],
   "source": [
    "\n",
    "\n",
    "#probscore = prob ∘ score\n",
    "\n",
    "function sample_tree(forest::ParseForest)\n",
    "    @assert iscomplete(forest)\n",
    "    head = categorical_sample(heads(forest), score.(heads(forest)))\n",
    "    ParseTree(head, sample_tree(head))\n",
    "end\n",
    "\n",
    "function sample_conts(edge::Edge)\n",
    "    trav = categorical_sample(traversals(edge), score.(traversals(edge)))\n",
    "    if hasedge(trav)\n",
    "        [sample_conts(trav.edge); cont(trav)]\n",
    "    else\n",
    "        [cont(trav)]\n",
    "    end\n",
    "end\n",
    "\n",
    "function sample_tree(cont::Constituent{R,C,T,CR,TR,ST,S}) where {R,C,T,CR,TR,ST,S}\n",
    "    if hasterminal(cont)\n",
    "        if isempty(completions(cont))\n",
    "            comp = terminal_completion(cont)\n",
    "            [(category(cont), rule(comp))]\n",
    "        else\n",
    "            comp = categorical_sample(\n",
    "                [terminal_completion(cont); completions(cont)],\n",
    "                [score(terminal_completion(cont)); score.(completions(cont))]\n",
    "            )\n",
    "            if comp isa TerminalCompletion\n",
    "                [(category(cont), rule(comp))]\n",
    "            else\n",
    "                conts = sample_conts(edge(comp))\n",
    "                [(category(cont), rule(comp)); vcat([sample_tree(cont) for cont in conts]...)]\n",
    "            end\n",
    "        end\n",
    "    else\n",
    "        comp = categorical_sample(completions(cont), score.(completions(cont)))\n",
    "        conts = sample_conts(edge(comp))\n",
    "        [(category(cont), rule(comp)); vcat([sample_tree(cont) for cont in conts]...)]\n",
    "    end\n",
    "end\n",
    "\n",
    "best_choice(tokens, weights) = tokens[findmax(weights)[2]]\n",
    "\n",
    "function best_tree(forest::ParseForest)\n",
    "    @assert iscomplete(forest)\n",
    "    head = best_choice(heads(forest), score.(heads(forest)))\n",
    "    ParseTree(head, best_tree(head))\n",
    "end\n",
    "\n",
    "function best_conts(edge::Edge)\n",
    "    trav = best_choice(traversals(edge), score.(traversals(edge)))\n",
    "    if hasedge(trav)\n",
    "        [best_conts(get(trav.edge)); trav.cont]\n",
    "    else\n",
    "        [cont(trav)]\n",
    "    end\n",
    "end\n",
    "\n",
    "function best_tree(cont::Constituent{R,C,T,CR,TR,ST,S}) where {R,C,T,CR,TR,ST,S}\n",
    "    if hasterminal(cont)\n",
    "        if isempty(completions(cont))\n",
    "            comp = terminal_completion(cont)\n",
    "            [(category(cont), rule(comp))]\n",
    "        else\n",
    "            comp = best_choice(\n",
    "                [terminal_completion(cont); completions(cont)],\n",
    "                [probscore(terminal_completion(cont)); score.(completions(cont))]\n",
    "            )\n",
    "            if comp isa TerminalCompletion\n",
    "                [(category(cont), rule(comp))]\n",
    "            else\n",
    "                conts = best_conts(edge(comp))\n",
    "                [(category(cont), rule(comp)); vcat([best_tree(cont) for cont in conts]...)]\n",
    "            end\n",
    "        end\n",
    "    else\n",
    "        comp = best_choice(completions(cont), score.(completions(cont)))\n",
    "        conts = best_conts(edge(comp))\n",
    "        [(category(cont), rule(comp)); vcat([best_tree(cont) for cont in conts]...)]\n",
    "    end\n",
    "end\n",
    "\n"
   ]
  },
  {
   "cell_type": "code",
   "execution_count": 26,
   "metadata": {},
   "outputs": [
    {
     "data": {
      "text/plain": [
       "ParseTree{IntervalRange,Int64,String,CFRules{Int64,Int64},CFRules{Int64,String},Int64,Tuple{Int64,CFRules{Int64,RHS} where RHS}}(Constituent{IntervalRange,Int64,String,CFRules{Int64,Int64},CFRules{Int64,String},Int64,LogProb}(ConstituentKey{IntervalRange,Int64}(IntervalRange(0, 3), 1), nothing, LogProb(0.008230452674897129), 2, nothing, EdgeCompletion{Edge{IntervalRange,Int64,LogProb,Constituent{IntervalRange,Int64,String,CFRules{Int64,Int64},CFRules{Int64,String},Int64,LogProb}},CFRules{Int64,Int64},LogProb}[EdgeCompletion{Edge{IntervalRange,Int64,LogProb,Constituent{IntervalRange,Int64,String,CFRules{Int64,Int64},CFRules{Int64,String},Int64,LogProb}},CFRules{Int64,Int64},LogProb}(Edge{IntervalRange,Int64,LogProb,Constituent{IntervalRange,Int64,String,CFRules{Int64,Int64},CFRules{Int64,String},Int64,LogProb}}(EdgeKey{IntervalRange,Int64}(IntervalRange(0, 3), 30), nothing, LogProb(0.024691358024691374), 2, Traversal{Edge{IntervalRange,Int64,LogProb,Constituent{IntervalRange,Int64,String,CFRules{Int64,Int64},CFRules{Int64,String},Int64,LogProb}},Constituent{IntervalRange,Int64,String,CFRules{Int64,Int64},CFRules{Int64,String},Int64,LogProb},LogProb}[Traversal{Edge{IntervalRange,Int64,LogProb,Constituent{IntervalRange,Int64,String,CFRules{Int64,Int64},CFRules{Int64,String},Int64,LogProb}},Constituent{IntervalRange,Int64,String,CFRules{Int64,Int64},CFRules{Int64,String},Int64,LogProb},LogProb}(Edge{IntervalRange,Int64,LogProb,Constituent{IntervalRange,Int64,String,CFRules{Int64,Int64},CFRules{Int64,String},Int64,LogProb}}(EdgeKey{IntervalRange,Int64}(IntervalRange(0, 2), 18), nothing, LogProb(0.03703703703703705), 2, Traversal{Edge{IntervalRange,Int64,LogProb,Constituent{IntervalRange,Int64,String,CFRules{Int64,Int64},CFRules{Int64,String},Int64,LogProb}},Constituent{IntervalRange,Int64,String,CFRules{Int64,Int64},CFRules{Int64,String},Int64,LogProb},LogProb}[Traversal{Edge{IntervalRange,Int64,LogProb,Constituent{IntervalRange,Int64,String,CFRules{Int64,Int64},CFRules{Int64,String},Int64,LogProb}},Constituent{IntervalRange,Int64,String,CFRules{Int64,Int64},CFRules{Int64,String},Int64,LogProb},LogProb}(nothing, Constituent{IntervalRange,Int64,String,CFRules{Int64,Int64},CFRules{Int64,String},Int64,LogProb}(ConstituentKey{IntervalRange,Int64}(IntervalRange(0, 2), 1), nothing, LogProb(0.03703703703703705), 2, nothing, EdgeCompletion{Edge{IntervalRange,Int64,LogProb,Constituent{IntervalRange,Int64,String,CFRules{Int64,Int64},CFRules{Int64,String},Int64,LogProb}},CFRules{Int64,Int64},LogProb}[EdgeCompletion{Edge{IntervalRange,Int64,LogProb,Constituent{IntervalRange,Int64,String,CFRules{Int64,Int64},CFRules{Int64,String},Int64,LogProb}},CFRules{Int64,Int64},LogProb}(Edge{IntervalRange,Int64,LogProb,Constituent{IntervalRange,Int64,String,CFRules{Int64,Int64},CFRules{Int64,String},Int64,LogProb}}(EdgeKey{IntervalRange,Int64}(IntervalRange(0, 2), 30), nothing, LogProb(0.11111111111111113), 2, Traversal{Edge{IntervalRange,Int64,LogProb,Constituent{IntervalRange,Int64,String,CFRules{Int64,Int64},CFRules{Int64,String},Int64,LogProb}},Constituent{IntervalRange,Int64,String,CFRules{Int64,Int64},CFRules{Int64,String},Int64,LogProb},LogProb}[Traversal{Edge{IntervalRange,Int64,LogProb,Constituent{IntervalRange,Int64,String,CFRules{Int64,Int64},CFRules{Int64,String},Int64,LogProb}},Constituent{IntervalRange,Int64,String,CFRules{Int64,Int64},CFRules{Int64,String},Int64,LogProb},LogProb}(Edge{IntervalRange,Int64,LogProb,Constituent{IntervalRange,Int64,String,CFRules{Int64,Int64},CFRules{Int64,String},Int64,LogProb}}(EdgeKey{IntervalRange,Int64}(IntervalRange(0, 1), 18), nothing, LogProb(0.33333333333333337), 2, Traversal{Edge{IntervalRange,Int64,LogProb,Constituent{IntervalRange,Int64,String,CFRules{Int64,Int64},CFRules{Int64,String},Int64,LogProb}},Constituent{IntervalRange,Int64,String,CFRules{Int64,Int64},CFRules{Int64,String},Int64,LogProb},LogProb}[Traversal{Edge{IntervalRange,Int64,LogProb,Constituent{IntervalRange,Int64,String,CFRules{Int64,Int64},CFRules{Int64,String},Int64,LogProb}},Constituent{IntervalRange,Int64,String,CFRules{Int64,Int64},CFRules{Int64,String},Int64,LogProb},LogProb}(nothing, Constituent{IntervalRange,Int64,String,CFRules{Int64,Int64},CFRules{Int64,String},Int64,LogProb}(ConstituentKey{IntervalRange,Int64}(IntervalRange(0, 1), 1), nothing, LogProb(0.33333333333333337), 2, TerminalCompletion{String,CFRules{Int64,String},LogProb}(\"1\", CFRules(rules3), LogProb(0.33333333333333337)), EdgeCompletion{Edge{IntervalRange,Int64,LogProb,Constituent{IntervalRange,Int64,String,CFRules{Int64,Int64},CFRules{Int64,String},Int64,LogProb}},CFRules{Int64,Int64},LogProb}[]), LogProb(0.33333333333333337), false)]), Constituent{IntervalRange,Int64,String,CFRules{Int64,Int64},CFRules{Int64,String},Int64,LogProb}(ConstituentKey{IntervalRange,Int64}(IntervalRange(1, 2), 1), nothing, LogProb(0.33333333333333337), 2, TerminalCompletion{String,CFRules{Int64,String},LogProb}(\"1\", CFRules(rules3), LogProb(0.33333333333333337)), EdgeCompletion{Edge{IntervalRange,Int64,LogProb,Constituent{IntervalRange,Int64,String,CFRules{Int64,Int64},CFRules{Int64,String},Int64,LogProb}},CFRules{Int64,Int64},LogProb}[]), LogProb(0.11111111111111113), false)]), CFRules(rules2), LogProb(0.03703703703703705), false)]), LogProb(0.03703703703703705), false)]), Constituent{IntervalRange,Int64,String,CFRules{Int64,Int64},CFRules{Int64,String},Int64,LogProb}(ConstituentKey{IntervalRange,Int64}(IntervalRange(2, 3), 1), nothing, LogProb(0.33333333333333337), 2, TerminalCompletion{String,CFRules{Int64,String},LogProb}(\"1\", CFRules(rules3), LogProb(0.33333333333333337)), EdgeCompletion{Edge{IntervalRange,Int64,LogProb,Constituent{IntervalRange,Int64,String,CFRules{Int64,Int64},CFRules{Int64,String},Int64,LogProb}},CFRules{Int64,Int64},LogProb}[]), LogProb(0.012345679012345685), false), Traversal{Edge{IntervalRange,Int64,LogProb,Constituent{IntervalRange,Int64,String,CFRules{Int64,Int64},CFRules{Int64,String},Int64,LogProb}},Constituent{IntervalRange,Int64,String,CFRules{Int64,Int64},CFRules{Int64,String},Int64,LogProb},LogProb}(Edge{IntervalRange,Int64,LogProb,Constituent{IntervalRange,Int64,String,CFRules{Int64,Int64},CFRules{Int64,String},Int64,LogProb}}(EdgeKey{IntervalRange,Int64}(IntervalRange(0, 1), 18), nothing, LogProb(0.33333333333333337), 2, Traversal{Edge{IntervalRange,Int64,LogProb,Constituent{IntervalRange,Int64,String,CFRules{Int64,Int64},CFRules{Int64,String},Int64,LogProb}},Constituent{IntervalRange,Int64,String,CFRules{Int64,Int64},CFRules{Int64,String},Int64,LogProb},LogProb}[Traversal{Edge{IntervalRange,Int64,LogProb,Constituent{IntervalRange,Int64,String,CFRules{Int64,Int64},CFRules{Int64,String},Int64,LogProb}},Constituent{IntervalRange,Int64,String,CFRules{Int64,Int64},CFRules{Int64,String},Int64,LogProb},LogProb}(nothing, Constituent{IntervalRange,Int64,String,CFRules{Int64,Int64},CFRules{Int64,String},Int64,LogProb}(ConstituentKey{IntervalRange,Int64}(IntervalRange(0, 1), 1), nothing, LogProb(0.33333333333333337), 2, TerminalCompletion{String,CFRules{Int64,String},LogProb}(\"1\", CFRules(rules3), LogProb(0.33333333333333337)), EdgeCompletion{Edge{IntervalRange,Int64,LogProb,Constituent{IntervalRange,Int64,String,CFRules{Int64,Int64},CFRules{Int64,String},Int64,LogProb}},CFRules{Int64,Int64},LogProb}[]), LogProb(0.33333333333333337), false)]), Constituent{IntervalRange,Int64,String,CFRules{Int64,Int64},CFRules{Int64,String},Int64,LogProb}(ConstituentKey{IntervalRange,Int64}(IntervalRange(1, 3), 1), nothing, LogProb(0.03703703703703705), 2, nothing, EdgeCompletion{Edge{IntervalRange,Int64,LogProb,Constituent{IntervalRange,Int64,String,CFRules{Int64,Int64},CFRules{Int64,String},Int64,LogProb}},CFRules{Int64,Int64},LogProb}[EdgeCompletion{Edge{IntervalRange,Int64,LogProb,Constituent{IntervalRange,Int64,String,CFRules{Int64,Int64},CFRules{Int64,String},Int64,LogProb}},CFRules{Int64,Int64},LogProb}(Edge{IntervalRange,Int64,LogProb,Constituent{IntervalRange,Int64,String,CFRules{Int64,Int64},CFRules{Int64,String},Int64,LogProb}}(EdgeKey{IntervalRange,Int64}(IntervalRange(1, 3), 30), nothing, LogProb(0.11111111111111113), 2, Traversal{Edge{IntervalRange,Int64,LogProb,Constituent{IntervalRange,Int64,String,CFRules{Int64,Int64},CFRules{Int64,String},Int64,LogProb}},Constituent{IntervalRange,Int64,String,CFRules{Int64,Int64},CFRules{Int64,String},Int64,LogProb},LogProb}[Traversal{Edge{IntervalRange,Int64,LogProb,Constituent{IntervalRange,Int64,String,CFRules{Int64,Int64},CFRules{Int64,String},Int64,LogProb}},Constituent{IntervalRange,Int64,String,CFRules{Int64,Int64},CFRules{Int64,String},Int64,LogProb},LogProb}(Edge{IntervalRange,Int64,LogProb,Constituent{IntervalRange,Int64,String,CFRules{Int64,Int64},CFRules{Int64,String},Int64,LogProb}}(EdgeKey{IntervalRange,Int64}(IntervalRange(1, 2), 18), nothing, LogProb(0.33333333333333337), 2, Traversal{Edge{IntervalRange,Int64,LogProb,Constituent{IntervalRange,Int64,String,CFRules{Int64,Int64},CFRules{Int64,String},Int64,LogProb}},Constituent{IntervalRange,Int64,String,CFRules{Int64,Int64},CFRules{Int64,String},Int64,LogProb},LogProb}[Traversal{Edge{IntervalRange,Int64,LogProb,Constituent{IntervalRange,Int64,String,CFRules{Int64,Int64},CFRules{Int64,String},Int64,LogProb}},Constituent{IntervalRange,Int64,String,CFRules{Int64,Int64},CFRules{Int64,String},Int64,LogProb},LogProb}(nothing, Constituent{IntervalRange,Int64,String,CFRules{Int64,Int64},CFRules{Int64,String},Int64,LogProb}(ConstituentKey{IntervalRange,Int64}(IntervalRange(1, 2), 1), nothing, LogProb(0.33333333333333337), 2, TerminalCompletion{String,CFRules{Int64,String},LogProb}(\"1\", CFRules(rules3), LogProb(0.33333333333333337)), EdgeCompletion{Edge{IntervalRange,Int64,LogProb,Constituent{IntervalRange,Int64,String,CFRules{Int64,Int64},CFRules{Int64,String},Int64,LogProb}},CFRules{Int64,Int64},LogProb}[]), LogProb(0.33333333333333337), false)]), Constituent{IntervalRange,Int64,String,CFRules{Int64,Int64},CFRules{Int64,String},Int64,LogProb}(ConstituentKey{IntervalRange,Int64}(IntervalRange(2, 3), 1), nothing, LogProb(0.33333333333333337), 2, TerminalCompletion{String,CFRules{Int64,String},LogProb}(\"1\", CFRules(rules3), LogProb(0.33333333333333337)), EdgeCompletion{Edge{IntervalRange,Int64,LogProb,Constituent{IntervalRange,Int64,String,CFRules{Int64,Int64},CFRules{Int64,String},Int64,LogProb}},CFRules{Int64,Int64},LogProb}[]), LogProb(0.11111111111111113), false)]), CFRules(rules2), LogProb(0.03703703703703705), false)]), LogProb(0.012345679012345685), false)]), CFRules(rules2), LogProb(0.008230452674897129), false)]), Tuple{Int64,CFRules{Int64,RHS} where RHS}[(1, CFRules(rules2)), (1, CFRules(rules2)), (1, CFRules(rules3)), (1, CFRules(rules3)), (1, CFRules(rules3))])"
      ]
     },
     "execution_count": 26,
     "metadata": {},
     "output_type": "execute_result"
    }
   ],
   "source": [
    "t = sample_tree(forest)"
   ]
  },
  {
   "cell_type": "code",
   "execution_count": 22,
   "metadata": {},
   "outputs": [],
   "source": [
    "include(\"../generalized-chart-parser/Trees.jl\")\n",
    "using .Trees: Tree, EmptyTree, TreeNode,\n",
    "       isterminal, insert_child!,\n",
    "       tree"
   ]
  },
  {
   "cell_type": "code",
   "execution_count": 23,
   "metadata": {},
   "outputs": [],
   "source": [
    "using LightGraphs: Graph, add_vertex!, add_edge!, nv\n",
    "\n",
    "import TikzGraphs: plot"
   ]
  },
  {
   "cell_type": "code",
   "execution_count": 27,
   "metadata": {},
   "outputs": [
    {
     "data": {
      "text/plain": [
       "5-element Array{Tuple{Int64,CFRules{Int64,RHS} where RHS},1}:\n",
       " (1, CFRules(rules2))\n",
       " (1, CFRules(rules2))\n",
       " (1, CFRules(rules3))\n",
       " (1, CFRules(rules3))\n",
       " (1, CFRules(rules3))"
      ]
     },
     "execution_count": 27,
     "metadata": {},
     "output_type": "execute_result"
    }
   ],
   "source": [
    "t.rules"
   ]
  },
  {
   "cell_type": "code",
   "execution_count": 25,
   "metadata": {},
   "outputs": [
    {
     "ename": "UndefVarError",
     "evalue": "UndefVarError: t not defined",
     "output_type": "error",
     "traceback": [
      "UndefVarError: t not defined",
      "",
      "Stacktrace:",
      " [1] top-level scope at In[25]:1"
     ]
    }
   ],
   "source": [
    "t.head"
   ]
  },
  {
   "cell_type": "code",
   "execution_count": 30,
   "metadata": {},
   "outputs": [
    {
     "data": {
      "text/plain": [
       "TreeNode{Any}(1, EmptyTree{Any}(), TreeNode{Any}[])"
      ]
     },
     "execution_count": 30,
     "metadata": {},
     "output_type": "execute_result"
    }
   ],
   "source": [
    "root = TreeNode(category(t.head), Any)"
   ]
  },
  {
   "cell_type": "code",
   "execution_count": 28,
   "metadata": {},
   "outputs": [
    {
     "data": {
      "text/plain": [
       "1"
      ]
     },
     "execution_count": 28,
     "metadata": {},
     "output_type": "execute_result"
    }
   ],
   "source": [
    "root.data[1]"
   ]
  },
  {
   "cell_type": "code",
   "execution_count": 35,
   "metadata": {},
   "outputs": [
    {
     "data": {
      "text/plain": [
       "foo! (generic function with 1 method)"
      ]
     },
     "execution_count": 35,
     "metadata": {},
     "output_type": "execute_result"
    }
   ],
   "source": [
    "function foo!(nodes, rules)\n",
    "    if isempty(rules)\n",
    "        nothing\n",
    "    else\n",
    "        c, rule = rules[1]\n",
    "        node = nodes[1]\n",
    "        category = node.data\n",
    "        if isapplicable(rule, category)\n",
    "            for c in rule(category)\n",
    "                insert_child!(node, c)\n",
    "            end\n",
    "            foo!([node.children; nodes[2:end]], rules[2:end])\n",
    "        else\n",
    "            foo!(nodes[2:end], rules)\n",
    "        end\n",
    "    end\n",
    "end"
   ]
  },
  {
   "cell_type": "code",
   "execution_count": 36,
   "metadata": {},
   "outputs": [],
   "source": [
    "root = TreeNode(category(t.head), Any)\n",
    "foo!([root], t.rules)"
   ]
  },
  {
   "cell_type": "code",
   "execution_count": 37,
   "metadata": {},
   "outputs": [
    {
     "data": {
      "text/plain": [
       "TreeNode{Any}(1, EmptyTree{Any}(), TreeNode{Any}[TreeNode{Any}(1, TreeNode{Any}(#= circular reference @-3 =#), TreeNode{Any}[TreeNode{Any}(1, TreeNode{Any}(#= circular reference @-3 =#), TreeNode{Any}[TreeNode{Any}(\"1\", TreeNode{Any}(#= circular reference @-3 =#), TreeNode{Any}[])]), TreeNode{Any}(1, TreeNode{Any}(#= circular reference @-3 =#), TreeNode{Any}[TreeNode{Any}(\"1\", TreeNode{Any}(#= circular reference @-3 =#), TreeNode{Any}[])])]), TreeNode{Any}(1, TreeNode{Any}(#= circular reference @-3 =#), TreeNode{Any}[TreeNode{Any}(\"1\", TreeNode{Any}(#= circular reference @-3 =#), TreeNode{Any}[])])])"
      ]
     },
     "execution_count": 37,
     "metadata": {},
     "output_type": "execute_result"
    }
   ],
   "source": [
    "root"
   ]
  },
  {
   "cell_type": "code",
   "execution_count": 33,
   "metadata": {},
   "outputs": [
    {
     "data": {
      "text/plain": [
       "show (generic function with 2 methods)"
      ]
     },
     "execution_count": 33,
     "metadata": {},
     "output_type": "execute_result"
    }
   ],
   "source": [
    "function convert(t::ParseTree{R,C,T,CR,TR,ST,S}) where {R,C,T,CR,TR,ST,S}\n",
    "    function foo!(nodes, rules)\n",
    "        if isempty(rules)\n",
    "            nothing\n",
    "        else\n",
    "            c, rule = rules[1]\n",
    "            node = nodes[1]\n",
    "            category = node.data\n",
    "            if isapplicable(rule, category)\n",
    "                for c in rule(category)\n",
    "                    insert_child!(node, c)\n",
    "                end\n",
    "                foo!([node.children; nodes[2:end]], rules[2:end])\n",
    "            else\n",
    "                foo!(nodes[2:end], rules)\n",
    "            end\n",
    "        end\n",
    "    end\n",
    "    root = TreeNode(category(t.head), Any)\n",
    "    foo!([root], t.rules)\n",
    "    root\n",
    "end\n",
    "\n",
    "function show(io::IO, t::ParseTree)\n",
    "    print(io, map(first, convert(t), uniform_type=false))\n",
    "end"
   ]
  },
  {
   "cell_type": "code",
   "execution_count": 38,
   "metadata": {},
   "outputs": [
    {
     "data": {
      "text/plain": [
       "TreeNode{Any}(1, EmptyTree{Any}(), TreeNode{Any}[TreeNode{Any}(1, TreeNode{Any}(#= circular reference @-3 =#), TreeNode{Any}[TreeNode{Any}(1, TreeNode{Any}(#= circular reference @-3 =#), TreeNode{Any}[TreeNode{Any}(\"1\", TreeNode{Any}(#= circular reference @-3 =#), TreeNode{Any}[])]), TreeNode{Any}(1, TreeNode{Any}(#= circular reference @-3 =#), TreeNode{Any}[TreeNode{Any}(\"1\", TreeNode{Any}(#= circular reference @-3 =#), TreeNode{Any}[])])]), TreeNode{Any}(1, TreeNode{Any}(#= circular reference @-3 =#), TreeNode{Any}[TreeNode{Any}(\"1\", TreeNode{Any}(#= circular reference @-3 =#), TreeNode{Any}[])])])"
      ]
     },
     "execution_count": 38,
     "metadata": {},
     "output_type": "execute_result"
    }
   ],
   "source": [
    "t_tree = convert(t)"
   ]
  },
  {
   "cell_type": "code",
   "execution_count": 45,
   "metadata": {},
   "outputs": [
    {
     "data": {
      "text/plain": [
       "latex_replace (generic function with 1 method)"
      ]
     },
     "execution_count": 45,
     "metadata": {},
     "output_type": "execute_result"
    }
   ],
   "source": [
    "latex_replacements = Dict(\n",
    "    \"^\" => \"\\\\^\",\n",
    "    \"#\" => \"\\\\#\")\n",
    "\n",
    "function latex_replace(str)\n",
    "    s = str\n",
    "    for k in enumerate(keys(latex_replacements))\n",
    "        s = replace(s, latex_replacements[k])\n",
    "    end\n",
    "    s\n",
    "end"
   ]
  },
  {
   "cell_type": "code",
   "execution_count": 46,
   "metadata": {},
   "outputs": [
    {
     "data": {
      "text/plain": [
       "plot (generic function with 6 methods)"
      ]
     },
     "execution_count": 46,
     "metadata": {},
     "output_type": "execute_result"
    }
   ],
   "source": [
    "\n",
    "\n",
    "function tree_to_graph_and_labels(tree)\n",
    "    graph = Graph(1)\n",
    "    labels = [string('$', latex_replace(string(tree.data)), '$')]\n",
    "    for (i, c) in enumerate(children(tree))\n",
    "        add_vertex!(graph)\n",
    "        add_edge!(graph, 1, nv(graph))\n",
    "        tree_to_graph_and_labels!(c, graph, labels)\n",
    "    end\n",
    "    graph, labels\n",
    "end\n",
    "\n",
    "function tree_to_graph_and_labels!(tree, graph, labels)\n",
    "    n = nv(graph)\n",
    "    push!(labels, string('$', latex_replace(string(tree.data)), '$'))\n",
    "    for (i, c) in enumerate(children(tree))\n",
    "        add_vertex!(graph)\n",
    "        add_edge!(graph, n, nv(graph))\n",
    "        tree_to_graph_and_labels!(c, graph, labels)\n",
    "    end\n",
    "    graph, labels\n",
    "end\n",
    "\n",
    "plot(tree::Tree) = plot(tree_to_graph_and_labels(tree)...)\n",
    "plot(tree::ParseTree) = plot(map(first, convert(tree), uniform_type=false))\n"
   ]
  },
  {
   "cell_type": "code",
   "execution_count": 47,
   "metadata": {},
   "outputs": [
    {
     "ename": "MethodError",
     "evalue": "MethodError: objects of type Dict{String,String} are not callable",
     "output_type": "error",
     "traceback": [
      "MethodError: objects of type Dict{String,String} are not callable",
      "",
      "Stacktrace:",
      " [1] latex_replace(::String) at ./In[45]:8",
      " [2] tree_to_graph_and_labels(::TreeNode{Any}) at ./In[46]:5",
      " [3] top-level scope at In[47]:1"
     ]
    }
   ],
   "source": [
    "graph, labels = tree_to_graph_and_labels(t_tree)"
   ]
  },
  {
   "cell_type": "code",
   "execution_count": null,
   "metadata": {},
   "outputs": [],
   "source": []
  }
 ],
 "metadata": {
  "kernelspec": {
   "display_name": "Julia 1.2.0",
   "language": "julia",
   "name": "julia-1.2"
  },
  "language_info": {
   "file_extension": ".jl",
   "mimetype": "application/julia",
   "name": "julia",
   "version": "1.2.0"
  }
 },
 "nbformat": 4,
 "nbformat_minor": 2
}
