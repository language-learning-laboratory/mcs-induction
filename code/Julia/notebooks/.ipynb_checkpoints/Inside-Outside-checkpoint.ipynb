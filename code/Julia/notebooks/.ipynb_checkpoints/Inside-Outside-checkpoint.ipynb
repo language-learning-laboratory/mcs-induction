{
 "cells": [
  {
   "cell_type": "code",
   "execution_count": 4,
   "metadata": {},
   "outputs": [
    {
     "name": "stderr",
     "output_type": "stream",
     "text": [
      "WARNING: replacing module ChartParser.\n",
      "WARNING: ignoring conflicting import of ChartParser.run_chartparser into Main\n",
      "WARNING: ignoring conflicting import of ChartParser.MetaRule into Main\n"
     ]
    }
   ],
   "source": [
    "include(\"../src/generalized-chart-parser/chartparser.jl\")\n",
    "using .ChartParser: run_chartparser, MetaRule, CompletionAutomaton, CFGrammar, CFRule, score"
   ]
  },
  {
   "cell_type": "code",
   "execution_count": 5,
   "metadata": {},
   "outputs": [],
   "source": [
    "using LogProbs"
   ]
  },
  {
   "cell_type": "code",
   "execution_count": 37,
   "metadata": {},
   "outputs": [
    {
     "data": {
      "text/plain": [
       "DiffCFGrammar (generic function with 2 methods)"
      ]
     },
     "execution_count": 37,
     "metadata": {},
     "output_type": "execute_result"
    }
   ],
   "source": [
    "function DiffCFGrammar(\n",
    "        category_rules_strings::Vector{Vector{C}},\n",
    "        terminal_rules_strings::Vector{Vector{T}},\n",
    "        startsymbols::Vector{C},\n",
    "        Score,\n",
    "        dependent_components=identity::Function) where {C,T}\n",
    "\n",
    "    if length(terminal_rules_strings[1]) > 2 #if probability included in strings\n",
    "\n",
    "        category_rules_with_probs = [\n",
    "            (MetaRule([CFRule(s[2],[s[3:end]...])]), Score(parse(Float64, s[1]), islog=true))\n",
    "            for s in category_rules_strings]\n",
    "        terminal_rules_with_probs = [\n",
    "            (MetaRule([CFRule(s[2],[s[3:end]...])]), Score(parse(Float64, s[1]), islog=true))\n",
    "            for s in terminal_rules_strings]\n",
    "\n",
    "        category_rules = [mr for (mr,p) in category_rules_with_probs]\n",
    "        terminal_rules = [mr for (mr,p) in terminal_rules_with_probs]\n",
    "\n",
    "        comp_automtn = CompletionAutomaton(C, Tuple{C, MetaRule{C, C}})\n",
    "        for mr in category_rules\n",
    "            add_rule!(comp_automtn, mr)\n",
    "        end\n",
    "\n",
    "        terminal_dict = Dict{T, Vector{Tuple{C, MetaRule{C, T}}}}()\n",
    "        for mr in terminal_rules\n",
    "            for lhs in lhss(mr)\n",
    "                t = mr(lhs)[1]\n",
    "                if haskey(terminal_dict, t)\n",
    "                    push!(terminal_dict[t], (lhs, mr))\n",
    "                else\n",
    "                    terminal_dict[t] = [(lhs, mr)]\n",
    "                end\n",
    "            end\n",
    "        end\n",
    "\n",
    "        all_rules_with_probs = [category_rules_with_probs;terminal_rules_with_probs]\n",
    "\n",
    "        cond = SimpleCond(Dict(\n",
    "            cat => CatDist(Dict(\n",
    "                mr => p for (mr,p) in all_rules_with_probs if isapplicable(mr, cat)\n",
    "            ))\n",
    "            for cat in unique(Base.reduce(append!, [lhss(mr) for (mr,p) in all_rules_with_probs], init=T[])))\n",
    "        )\n",
    "\n",
    "    else\n",
    "        category_rules = [MetaRule([CFRule(s[1],[s[2:end]...])]) for s in category_rules_strings]\n",
    "        terminal_rules = [MetaRule([CFRule(s[1],[s[2:end]...])]) for s in terminal_rules_strings]\n",
    "\n",
    "            comp_automtn = CompletionAutomaton(C, Tuple{C, MetaRule{C, C}})\n",
    "        for mr in category_rules\n",
    "            add_rule!(comp_automtn, mr)\n",
    "        end\n",
    "\n",
    "        terminal_dict = Dict{T, Vector{Tuple{C, MetaRule{C, T}}}}()\n",
    "        for r in terminal_rules\n",
    "            for lhs in lhss(r)\n",
    "            t = r(lhs)[1]\n",
    "                if haskey(terminal_dict, t)\n",
    "                    push!(terminal_dict[t], (lhs, r))\n",
    "                else\n",
    "                    terminal_dict[t] = [(lhs, r)]\n",
    "                end\n",
    "            end\n",
    "        end\n",
    "\n",
    "        applicable_rules = Dict{C, Vector{MetaRule}}()\n",
    "        for r in MetaRule[category_rules; terminal_rules]\n",
    "            for c in lhss(r)\n",
    "                if haskey(applicable_rules, c)\n",
    "                    push!(applicable_rules[c], r)\n",
    "                else\n",
    "                    applicable_rules[c] = MetaRule[r]\n",
    "                end\n",
    "            end\n",
    "        end\n",
    "\n",
    "        cond = SimpleCond(\n",
    "            Dict(\n",
    "                dependent_components(c) => let rules = applicable_rules[c]\n",
    "                    n = length(rules)\n",
    "                    k = count(isa.(rules, MetaRule{C, T})) # number terminal rules\n",
    "                    probs = [Score(p) in [fill(1.0, n-k); fill(1/k, k)]]\n",
    "                    CatDist(rules, probs)\n",
    "                end\n",
    "                for c in keys(applicable_rules)\n",
    "            )\n",
    "        )                   \n",
    "    end\n",
    "    CFGrammar(comp_automtn, startsymbols, terminal_dict, cond, dependent_components)\n",
    "end"
   ]
  },
  {
   "cell_type": "code",
   "execution_count": 40,
   "metadata": {},
   "outputs": [
    {
     "ename": "UndefVarError",
     "evalue": "UndefVarError: startsymbols not defined",
     "output_type": "error",
     "traceback": [
      "UndefVarError: startsymbols not defined",
      "",
      "Stacktrace:",
      " [1] top-level scope at In[40]:24"
     ]
    }
   ],
   "source": [
    "function split_category_from_terminal_rules(rules_string::AbstractString)\n",
    "    rule_string_lists = map(split, split(rules_string, \"\\n\"))\n",
    "    terminal_rule_stringlists = Vector{String}[]\n",
    "    category_rule_stringlists = Vector{String}[]\n",
    "    for lst in rule_string_lists\n",
    "        if !isempty(lst)\n",
    "            if lst[end][1] == '_'\n",
    "                corrected_lst = [s[1] == '_' ? s[2:end] : s for s in lst]\n",
    "                push!(terminal_rule_stringlists, corrected_lst)\n",
    "            else\n",
    "                push!(category_rule_stringlists, lst)\n",
    "            end\n",
    "        end\n",
    "    end\n",
    "    category_rule_stringlists, terminal_rule_stringlists\n",
    "end\n",
    "\n",
    "\n",
    "function DiffGrammar(rules_string::AbstractString, startsymbols, Score=LogProb)\n",
    "    category_rules, terminal_rules = split_category_from_terminal_rules(rules_string)\n",
    "    category_rules = [ s[2:end] for s in category_rules ]\n",
    "    terminal_rules = [ s[2:end] for s in terminal_rules ]\n",
    "    end\n",
    "    DiffCFGrammar(category_rules, terminal_rules, startsymbols, Score)\n",
    "end"
   ]
  },
  {
   "cell_type": "code",
   "execution_count": 27,
   "metadata": {},
   "outputs": [
    {
     "data": {
      "text/plain": [
       "read_treebank_grammar_uniform (generic function with 2 methods)"
      ]
     },
     "execution_count": 27,
     "metadata": {},
     "output_type": "execute_result"
    }
   ],
   "source": [
    "function read_treebank_grammar_uniform_diff(number_sentences::Int, Score=LogProb)\n",
    "    @assert number_sentences in (1, 5, 50, 500, 972)\n",
    "    grammarfile = joinpath(\"..\",\"src\",\"WSJ\", \"WSJ_data\", \"WSJ.$number_sentences.grammar.txt\")\n",
    "    io = open(grammarfile, \"r\")\n",
    "    grammarstring = read(io, String)\n",
    "    DiffGrammar(grammarstring, [\"START\"])\n",
    "end"
   ]
  },
  {
   "cell_type": "code",
   "execution_count": 28,
   "metadata": {},
   "outputs": [
    {
     "data": {
      "text/plain": [
       "CFGrammar{String,String,Main.ChartParser.PCFGrammar.Distributions.SimpleCond{String,Main.ChartParser.PCFGrammar.Distributions.DirCat{Main.ChartParser.PCFGrammar.MetaRule{String,String},Float64},Array{Main.ChartParser.PCFGrammar.MetaRule{String,String},1}},typeof(identity)}(CompletionAutomaton{String,Tuple{String,Main.ChartParser.PCFGrammar.MetaRule{String,String}}}(Dict{String,Int64}[Dict(\"RB\" => 63,\"NNS\" => 29,\"NN\" => 21,\"PP\" => 77,\"DT\" => 23,\"JJ\" => 57,\"VP\" => 61,\"EDOLAR\" => 6,\"SINV\" => 73,\"TO\" => 54…), Dict(\"PP\" => 53,\"NNS\" => 56,\"ECOMMA\" => 30,\"CC\" => 3,\"VP\" => 14,\"NN\" => 35), Dict(\"NP\" => 4), Dict(\"POS\" => 5), Dict(), Dict(\"CD\" => 7), Dict(\"CD\" => 8), Dict(), Dict(\"VP\" => 18,\"PRN\" => 45), Dict()  …  Dict(\"ECOMMA\" => 78), Dict(\"NP\" => 79), Dict(\"VP\" => 80), Dict(\"EDOT\" => 81), Dict(), Dict(), Dict(), Dict(\"ADJP\" => 85), Dict(), Dict()], Array{Tuple{String,Main.ChartParser.PCFGrammar.MetaRule{String,String}},1}[[], [], [], [(\"NP\", MetaRule(rules49))], [(\"NP\", MetaRule(rules1))], [], [], [(\"QP\", MetaRule(rules2))], [(\"SBAR\", MetaRule(rules3)), (\"START\", MetaRule(rules47))], [(\"NP\", MetaRule(rules4))]  …  [], [], [], [], [(\"S\", MetaRule(rules45))], [(\"S\", MetaRule(rules46))], [(\"VP\", MetaRule(rules48))], [], [(\"VP\", MetaRule(rules50))], [(\"NP\", MetaRule(rules51))]]), [\"START\"], Dict(\"goods\" => [(\"NNS\", MetaRule(rules65))],\"EONEEZEROEDASHyearEDASHold\" => [(\"JJ\", MetaRule(rules57))],\"EONEENINEEEIGHTETWO\" => [(\"CD\", MetaRule(rules132))],\"managers\" => [(\"NNS\", MetaRule(rules125))],\"an\" => [(\"DT\", MetaRule(rules84))],\"operating\" => [(\"VBG\", MetaRule(rules61))],\"EEDOT\" => [(\"NNP\", MetaRule(rules91))],\"New\" => [(\"NNP\", MetaRule(rules126))],\"CorpEDOT\" => [(\"NNP\", MetaRule(rules130))],\"basis\" => [(\"NN\", MetaRule(rules95))]…), Main.ChartParser.PCFGrammar.Distributions.SimpleCond{String,Main.ChartParser.PCFGrammar.Distributions.DirCat{Main.ChartParser.PCFGrammar.MetaRule{String,String},Float64},Array{Main.ChartParser.PCFGrammar.MetaRule{String,String},1}}(Dict(\"CD\" => Main.ChartParser.PCFGrammar.Distributions.DirCat{Main.ChartParser.PCFGrammar.MetaRule{String,String},Float64}(Dict(MetaRule(rules131) => 0.2,MetaRule(rules116) => 0.2,MetaRule(rules132) => 0.2,MetaRule(rules73) => 0.2,MetaRule(rules118) => 0.2)),\"EDOT\" => Main.ChartParser.PCFGrammar.Distributions.DirCat{Main.ChartParser.PCFGrammar.MetaRule{String,String},Float64}(Dict(MetaRule(rules77) => 1.0)),\"VBG\" => Main.ChartParser.PCFGrammar.Distributions.DirCat{Main.ChartParser.PCFGrammar.MetaRule{String,String},Float64}(Dict(MetaRule(rules61) => 1.0)),\"RB\" => Main.ChartParser.PCFGrammar.Distributions.DirCat{Main.ChartParser.PCFGrammar.MetaRule{String,String},Float64}(Dict(MetaRule(rules68) => 1.0)),\"NNS\" => Main.ChartParser.PCFGrammar.Distributions.DirCat{Main.ChartParser.PCFGrammar.MetaRule{String,String},Float64}(Dict(MetaRule(rules125) => 0.25,MetaRule(rules96) => 0.25,MetaRule(rules55) => 0.25,MetaRule(rules65) => 0.25)),\"CC\" => Main.ChartParser.PCFGrammar.Distributions.DirCat{Main.ChartParser.PCFGrammar.MetaRule{String,String},Float64}(Dict(MetaRule(rules111) => 0.3333333333333333,MetaRule(rules99) => 0.3333333333333333,MetaRule(rules66) => 0.3333333333333333)),\"NN\" => Main.ChartParser.PCFGrammar.Distributions.DirCat{Main.ChartParser.PCFGrammar.MetaRule{String,String},Float64}(Dict(MetaRule(rules78) => 0.0625,MetaRule(rules72) => 0.0625,MetaRule(rules110) => 0.0625,MetaRule(rules95) => 0.0625,MetaRule(rules58) => 0.0625,MetaRule(rules82) => 0.0625,MetaRule(rules87) => 0.0625,MetaRule(rules54) => 0.0625,MetaRule(rules56) => 0.0625,MetaRule(rules64) => 0.0625…)),\"ADJP\" => Main.ChartParser.PCFGrammar.Distributions.DirCat{Main.ChartParser.PCFGrammar.MetaRule{String,String},Float64}(Dict(MetaRule(rules35) => 1.0)),\"PRN\" => Main.ChartParser.PCFGrammar.Distributions.DirCat{Main.ChartParser.PCFGrammar.MetaRule{String,String},Float64}(Dict(MetaRule(rules27) => 1.0)),\"ESINGLEQUOTEESINGLEQUOTE\" => Main.ChartParser.PCFGrammar.Distributions.DirCat{Main.ChartParser.PCFGrammar.MetaRule{String,String},Float64}(Dict(MetaRule(rules70) => 1.0))…), Main.ChartParser.PCFGrammar.MetaRule{String,String}[MetaRule(rules131), MetaRule(rules116), MetaRule(rules132), MetaRule(rules73), MetaRule(rules118), MetaRule(rules77), MetaRule(rules61), MetaRule(rules68), MetaRule(rules125), MetaRule(rules96)  …  MetaRule(rules109), MetaRule(rules121), MetaRule(rules117), MetaRule(rules134), MetaRule(rules108), MetaRule(rules100), MetaRule(rules128), MetaRule(rules79), MetaRule(rules104), MetaRule(rules98)]), identity)"
      ]
     },
     "execution_count": 28,
     "metadata": {},
     "output_type": "execute_result"
    }
   ],
   "source": [
    "grammar = read_treebank_grammar_uniform(5)"
   ]
  },
  {
   "cell_type": "code",
   "execution_count": null,
   "metadata": {},
   "outputs": [],
   "source": []
  }
 ],
 "metadata": {
  "kernelspec": {
   "display_name": "Julia 1.2.0",
   "language": "julia",
   "name": "julia-1.2"
  },
  "language_info": {
   "file_extension": ".jl",
   "mimetype": "application/julia",
   "name": "julia",
   "version": "1.2.0"
  }
 },
 "nbformat": 4,
 "nbformat_minor": 2
}
