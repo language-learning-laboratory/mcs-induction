{
 "cells": [
  {
   "cell_type": "code",
   "execution_count": 1,
   "metadata": {},
   "outputs": [
    {
     "data": {
      "text/plain": [
       "Main.ParserTypes"
      ]
     },
     "execution_count": 1,
     "metadata": {},
     "output_type": "execute_result"
    }
   ],
   "source": [
    "include(\"../generalized-chart-parser/parser_types.jl\")"
   ]
  },
  {
   "cell_type": "code",
   "execution_count": 2,
   "metadata": {},
   "outputs": [],
   "source": [
    "using LogProbs\n",
    "using StatsFuns.RFunctions: gammarand\n",
    "using StatsFuns: lbeta\n",
    "import Base: +, -, *, /, zero, one, <"
   ]
  },
  {
   "cell_type": "code",
   "execution_count": 3,
   "metadata": {},
   "outputs": [],
   "source": [
    "###############\n",
    "### CFRules ###\n",
    "###############\n",
    "\n",
    "mutable struct RunningCounter\n",
    "    n :: Int\n",
    "end\n",
    "\n",
    "RunningCounter() = RunningCounter(0)\n",
    "count!(c::RunningCounter) = c.n += 1\n",
    "\n",
    "rule_counter = RunningCounter()\n",
    "\n",
    "struct CFRules{LHS, RHS} # left hand side and right hand side of the rule\n",
    "    mappings ::Dict{LHS, Vector{RHS}}\n",
    "    name :: Symbol\n",
    "end\n",
    "\n",
    "==(r1::CFRules, r2::CFRules) = r1.name == r2.name\n",
    "hash(r::CFRules, h::UInt) = hash(hash(CFRules, hash(r.name)), h)\n",
    "\n",
    "Base.show(io::IO, r::CFRules) = print(io, \"CFRules($(r.name))\")\n",
    "\n",
    "CFRules(pairs::Pair...) =\n",
    "    CFRules(Dict(pairs...), Symbol(\"rules\", count!(rule_counter)))\n",
    "CFRules(g::Base.Generator) =\n",
    "    CFRules(Dict(g), Symbol(\"rules\", count!(rule_counter)))\n",
    "CFRules(f::Function, lhss, name) =\n",
    "    CFRules(Dict(lhs => f(lhs) for lhs in lhss), name)\n",
    "CFRules(f::Function, lhss) =\n",
    "    CFRules(Dict(lhs => f(lhs) for lhs in lhss), Symbol(\"rules\", count!(rule_counter)))\n",
    "\n",
    "lhss(r::CFRules) = keys(r.mappings) # aka domain\n",
    "isapplicable(r::CFRules, lhs) = haskey(r.mappings, lhs)\n",
    "(r::CFRules)(lhs) = r.mappings[lhs]"
   ]
  },
  {
   "cell_type": "code",
   "execution_count": 5,
   "metadata": {},
   "outputs": [
    {
     "data": {
      "text/plain": [
       "add_rule! (generic function with 1 method)"
      ]
     },
     "execution_count": 5,
     "metadata": {},
     "output_type": "execute_result"
    }
   ],
   "source": [
    "###############\n",
    "### CFState ###\n",
    "###############\n",
    "\n",
    "\n",
    "mutable struct CompletionAutomaton{Cat,Comp} # category, completion\n",
    "    transitions :: Vector{Dict{Cat, Int}}\n",
    "    completions :: Vector{Vector{Comp}}\n",
    "end\n",
    "\n",
    "CompletionAutomaton(Cat::Type, Comp::Type) =\n",
    "    CompletionAutomaton([Dict{Cat, Int}()], [Vector{Comp}()])\n",
    "\n",
    "number_of_states(ca::CompletionAutomaton) = length(ca.transitions)\n",
    "isfinal(ca::CompletionAutomaton, s) = isempty(ca.transitions[s])\n",
    "is_possible_transition(ca::CompletionAutomaton, s, c) = haskey(ca.transitions[s], c)\n",
    "transition(ca::CompletionAutomaton, s, c) = ca.transitions[s][c]\n",
    "completions(ca::CompletionAutomaton, s) = ca.completions[s]\n",
    "\n",
    "#Not sure what is going on here\n",
    "function add_completion!(ca::CompletionAutomaton{Cat,Comp}, comp, categories) where {Cat,Comp}\n",
    "    s = 1\n",
    "    for c in categories\n",
    "        if is_possible_transition(ca, s, c)\n",
    "            s = transition(ca, s, c)\n",
    "        else\n",
    "            push!(ca.transitions, Dict{Cat,Int}())\n",
    "            push!(ca.completions, Vector{Comp}())\n",
    "            s = ca.transitions[s][c] = number_of_states(ca)\n",
    "        end\n",
    "    end\n",
    "    push!(ca.completions[s], comp)\n",
    "end\n",
    "\n",
    "function add_rule!(ca::CompletionAutomaton, r::CFRules)\n",
    "    for lhs in lhss(r)\n",
    "        add_completion!(ca, (lhs, r), r(lhs))\n",
    "    end\n",
    "end"
   ]
  },
  {
   "cell_type": "code",
   "execution_count": 7,
   "metadata": {},
   "outputs": [],
   "source": [
    "#################\n",
    "### CFGrammar ###\n",
    "#################\n",
    "\n",
    "struct CFGrammar{C, T, Cond, F}\n",
    "    comp_automtn  :: CompletionAutomaton{C, Tuple{C, CFRule{C, C}}}\n",
    "    startsymbols  :: Vector{C}\n",
    "    terminal_dict :: Dict{T, Vector{Tuple{C, CFRule{C, T}}}}\n",
    "    cond          :: Cond # conditional scoring\n",
    "    dependent_components::F\n",
    "end\n"
   ]
  },
  {
   "cell_type": "code",
   "execution_count": 8,
   "metadata": {},
   "outputs": [
    {
     "data": {
      "text/plain": [
       "CFGrammar"
      ]
     },
     "execution_count": 8,
     "metadata": {},
     "output_type": "execute_result"
    }
   ],
   "source": [
    "function CFGrammar(\n",
    "        category_rules::Vector{CFRule{C, C}},\n",
    "        terminal_rules::Vector{CFRule{C, T}},\n",
    "        startsymbols  ::Vector{C},\n",
    "        dependent_components=identity::Function\n",
    "    ) where {C, T}\n",
    "    comp_automtn = CompletionAutomaton(C, Tuple{C, CFRule{C, C}})\n",
    "    for r in category_rules\n",
    "        add_rule!(comp_automtn, r)\n",
    "    end\n",
    "\n",
    "    terminal_dict = Dict{T, Vector{Tuple{C, CFRule{C, T}}}}()\n",
    "    for r in terminal_rules\n",
    "        for lhs in lhss(r)\n",
    "        t = r(lhs)[1]\n",
    "            if haskey(terminal_dict, t)\n",
    "                push!(terminal_dict[t], (lhs, r))\n",
    "            else\n",
    "                terminal_dict[t] = [(lhs, r)]\n",
    "            end\n",
    "        end\n",
    "    end\n",
    "\n",
    "    applicable_rules = Dict{C, Vector{CFRule}}()\n",
    "    for r in CFRule[category_rules; terminal_rules]\n",
    "        for c in lhss(r)\n",
    "            if haskey(applicable_rules, c)\n",
    "                push!(applicable_rules[c], r)\n",
    "            else\n",
    "                applicable_rules[c] = CFRule[r]\n",
    "            end\n",
    "        end\n",
    "    end\n",
    "\n",
    "    cond = SimpleCond(\n",
    "        Dict(\n",
    "            dependent_components(c) => let rules = applicable_rules[c]\n",
    "                n = length(rules)\n",
    "                k = count(isa.(rules, CFRule{C, T})) # number terminal rules\n",
    "                DirCat(rules, [fill(1.0, n-k); fill(1/k, k)])\n",
    "            end\n",
    "            for c in keys(applicable_rules)\n",
    "        )\n",
    "    )\n",
    "\n",
    "    CFGrammar(comp_automtn, startsymbols, terminal_dict, cond, dependent_components)\n",
    "end\n"
   ]
  },
  {
   "cell_type": "code",
   "execution_count": null,
   "metadata": {},
   "outputs": [],
   "source": []
  }
 ],
 "metadata": {
  "kernelspec": {
   "display_name": "Julia 1.2.0",
   "language": "julia",
   "name": "julia-1.2"
  },
  "language_info": {
   "file_extension": ".jl",
   "mimetype": "application/julia",
   "name": "julia",
   "version": "1.2.0"
  }
 },
 "nbformat": 4,
 "nbformat_minor": 2
}
